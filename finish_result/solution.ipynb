{
 "cells": [
  {
   "cell_type": "markdown",
   "source": [
    "#### Импортирование библиотек"
   ],
   "metadata": {
    "collapsed": false
   }
  },
  {
   "cell_type": "code",
   "execution_count": null,
   "outputs": [],
   "source": [
    "import catboost as cb\n",
    "import pandas as pd\n",
    "import numpy as np\n",
    "from sklearn.metrics import mean_squared_error, r2_score, roc_auc_score\n",
    "from sklearn.model_selection import train_test_split"
   ],
   "metadata": {
    "collapsed": false,
    "ExecuteTime": {
     "start_time": "2023-04-24T14:14:47.355650Z",
     "end_time": "2023-04-24T14:14:51.295921Z"
    }
   }
  },
  {
   "cell_type": "markdown",
   "source": [
    "#### Открытие датасета, подготовка данных к обучению"
   ],
   "metadata": {
    "collapsed": false
   }
  },
  {
   "cell_type": "code",
   "execution_count": null,
   "outputs": [],
   "source": [
    "my_xtrain = pd.read_csv(\"../ourfeatures/my_bigX_version23.csv\")\n",
    "my_ytrain = pd.read_csv(\"../ourfeatures/y_train2.csv\")"
   ],
   "metadata": {
    "collapsed": false,
    "ExecuteTime": {
     "start_time": "2023-04-24T14:14:55.654075Z",
     "end_time": "2023-04-24T14:15:03.950003Z"
    }
   }
  },
  {
   "cell_type": "code",
   "execution_count": null,
   "outputs": [],
   "source": [
    "x_train, x_test, y_train, y_test = train_test_split(my_xtrain, my_ytrain, test_size=0.1)\n",
    "dataset = cb.Pool(x_train, y_train['flag'])"
   ],
   "metadata": {
    "collapsed": false
   }
  },
  {
   "cell_type": "markdown",
   "source": [
    "#### Обучение модели"
   ],
   "metadata": {
    "collapsed": false
   }
  },
  {
   "cell_type": "code",
   "execution_count": null,
   "outputs": [],
   "source": [
    "model1 = cb.CatBoostRegressor(loss_function=\"Poisson\")\n",
    "grid = {'iterations': [194, 193],\n",
    "        'learning_rate': [ 0.15],\n",
    "        'depth': [10, 9],\n",
    "        'l2_leaf_reg': [3, 4 ]}\n",
    "model1.grid_search(grid, dataset)"
   ],
   "metadata": {
    "collapsed": false
   }
  },
  {
   "cell_type": "markdown",
   "source": [
    "#### Тестирование модели"
   ],
   "metadata": {
    "collapsed": false
   }
  },
  {
   "cell_type": "code",
   "execution_count": null,
   "outputs": [],
   "source": [
    "pred = model1.predict(x_test)\n",
    "rmse = (np.sqrt(mean_squared_error(y_test['flag'], pred)))\n",
    "r2 = r2_score(y_test['flag'], pred)\n",
    "score = model1.score(x_test, y_test['flag'])\n",
    "local_score = model1.score(x_train, y_train['flag'])\n",
    "aucs = roc_auc_score(y_test['flag'], pred)\n",
    "print(\"Testing performance\")\n",
    "print(\"RMSE: {:.2f}\".format(rmse))\n",
    "print(\"R2: {:.2f}\".format(r2))\n",
    "print(\"Score: {:.4f}\".format(score))\n",
    "print(\"Local Score: {:.4f}\".format(local_score))\n",
    "\n",
    "print(\"Best params: \", model1._get_params())"
   ],
   "metadata": {
    "collapsed": false
   }
  },
  {
   "cell_type": "markdown",
   "source": [
    "#### Предсказание на тесте"
   ],
   "metadata": {
    "collapsed": false
   }
  },
  {
   "cell_type": "code",
   "execution_count": null,
   "outputs": [],
   "source": [
    "contest_x = pd.read_csv(\"../ourfeatures/my_bigXtest_version23.csv\")\n",
    "contest_y = pd.read_csv(\"../ourfeatures/y_test2.csv\")"
   ],
   "metadata": {
    "collapsed": false
   }
  },
  {
   "cell_type": "code",
   "execution_count": null,
   "outputs": [],
   "source": [
    "prediction = model1.predict(contest_x)\n",
    "contest_y[\"flag\"] = prediction"
   ],
   "metadata": {
    "collapsed": false
   }
  },
  {
   "cell_type": "markdown",
   "source": [
    "#### Сохранение результатов"
   ],
   "metadata": {
    "collapsed": false
   }
  },
  {
   "cell_type": "code",
   "execution_count": null,
   "outputs": [],
   "source": [
    "contest_y.to_csv(\"results/newres-super-final.csv\", index=False)"
   ],
   "metadata": {
    "collapsed": false
   }
  }
 ],
 "metadata": {
  "kernelspec": {
   "display_name": "Python 3",
   "language": "python",
   "name": "python3"
  },
  "language_info": {
   "codemirror_mode": {
    "name": "ipython",
    "version": 2
   },
   "file_extension": ".py",
   "mimetype": "text/x-python",
   "name": "python",
   "nbconvert_exporter": "python",
   "pygments_lexer": "ipython2",
   "version": "2.7.6"
  }
 },
 "nbformat": 4,
 "nbformat_minor": 0
}
