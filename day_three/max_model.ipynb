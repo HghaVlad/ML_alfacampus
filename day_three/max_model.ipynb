{
 "cells": [
  {
   "cell_type": "code",
   "execution_count": 1,
   "metadata": {
    "collapsed": true,
    "ExecuteTime": {
     "start_time": "2023-04-22T13:18:26.264854Z",
     "end_time": "2023-04-22T13:18:27.273017Z"
    }
   },
   "outputs": [],
   "source": [
    "import pandas as pd\n",
    "from sklearn.metrics import r2_score, roc_auc_score\n",
    "from sklearn.ensemble import RandomForestClassifier"
   ]
  },
  {
   "cell_type": "code",
   "execution_count": null,
   "outputs": [],
   "source": [
    "my_xtrain = pd.read_csv(\"../ourfeatures/updated_xfeature.csv\")\n",
    "my_ytrain = pd.read_csv(\"../ourfeatures/my_big_featurey.csv\")"
   ],
   "metadata": {
    "collapsed": false
   }
  },
  {
   "cell_type": "code",
   "execution_count": null,
   "outputs": [],
   "source": [
    "model = RandomForestClassifier(n_estimators=200,\n",
    "                               bootstrap = True,\n",
    "                               max_features = 'sqrt' ,max_depth=10,min_samples_split=5, random_state=1,criterion=\"log_loss\" )\n",
    "model.fit(my_xtrain, my_ytrain[\"flag\"])"
   ],
   "metadata": {
    "collapsed": false
   }
  },
  {
   "cell_type": "code",
   "execution_count": null,
   "outputs": [],
   "source": [],
   "metadata": {
    "collapsed": false
   }
  },
  {
   "cell_type": "code",
   "execution_count": null,
   "outputs": [],
   "source": [
    "contest_x = pd.read_csv(\"../ourfeatures/updated_xtest.csv\")\n",
    "contest_y = pd.read_csv(\"../ourfeatures/my_big_testy.csv\")"
   ],
   "metadata": {
    "collapsed": false
   }
  },
  {
   "cell_type": "code",
   "execution_count": null,
   "outputs": [],
   "source": [
    "y_test_pred = model.predict_proba(contest_x)[:, 1]\n",
    "contest_y[\"flag\"] = y_test_pred"
   ],
   "metadata": {
    "collapsed": false
   }
  },
  {
   "cell_type": "code",
   "execution_count": null,
   "outputs": [],
   "source": [
    "contest_y.to_csv(\"results/rf_result1.csv\", index=False)"
   ],
   "metadata": {
    "collapsed": false
   }
  }
 ],
 "metadata": {
  "kernelspec": {
   "display_name": "Python 3",
   "language": "python",
   "name": "python3"
  },
  "language_info": {
   "codemirror_mode": {
    "name": "ipython",
    "version": 2
   },
   "file_extension": ".py",
   "mimetype": "text/x-python",
   "name": "python",
   "nbconvert_exporter": "python",
   "pygments_lexer": "ipython2",
   "version": "2.7.6"
  }
 },
 "nbformat": 4,
 "nbformat_minor": 0
}
