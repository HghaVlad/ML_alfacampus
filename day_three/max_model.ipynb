{
 "cells": [
  {
   "cell_type": "code",
   "execution_count": 14,
   "metadata": {
    "collapsed": true,
    "ExecuteTime": {
     "start_time": "2023-04-22T20:45:49.232690Z",
     "end_time": "2023-04-22T20:45:49.253687Z"
    }
   },
   "outputs": [],
   "source": [
    "import pandas as pd\n",
    "from sklearn.metrics import r2_score, roc_auc_score, mean_squared_error\n",
    "from sklearn.model_selection import train_test_split, GridSearchCV\n",
    "from sklearn.ensemble import RandomForestClassifier\n",
    "import numpy as np"
   ]
  },
  {
   "cell_type": "code",
   "execution_count": 39,
   "outputs": [],
   "source": [
    "my_xtrain = pd.read_csv(\"../ourfeatures/my_bigX_version3.csv\")\n",
    "my_ytrain = pd.read_csv(\"../ourfeatures/my_big_featurey.csv\")"
   ],
   "metadata": {
    "collapsed": false,
    "ExecuteTime": {
     "start_time": "2023-04-22T23:02:01.508221Z",
     "end_time": "2023-04-22T23:02:03.607984Z"
    }
   }
  },
  {
   "cell_type": "code",
   "execution_count": 48,
   "outputs": [
    {
     "data": {
      "text/plain": "        app_id  transaction_number_max  amnt_min  amnt_max  amnt_mean   \n0            1                     120  0.155581  0.539584   0.315662  \\\n1            5                      47  0.269110  0.594620   0.413886   \n2            6                      23  0.321124  0.605813   0.405220   \n3            7                      28  0.062575  0.476811   0.248939   \n4           11                      17  0.258972  0.516834   0.395651   \n...        ...                     ...       ...       ...        ...   \n377341  805124                      20  0.178216  0.454634   0.327272   \n377342  805125                      92  0.212853  0.607141   0.341180   \n377343  805127                       3  0.520103  0.520103   0.520103   \n377344  805130                      53  0.271747  0.563568   0.406822   \n377345  805132                     138  0.153618  0.522181   0.313436   \n\n        amnt_median  currency_num_unique_values_x  currency_median   \n0          0.297589                             1              1.0  \\\n1          0.431864                             1              1.0   \n2          0.349301                             3             11.0   \n3          0.263058                             1              1.0   \n4          0.397758                             1              1.0   \n...             ...                           ...              ...   \n377341     0.287526                             1              1.0   \n377342     0.324899                             1              1.0   \n377343     0.520103                             1              1.0   \n377344     0.409737                             3              1.0   \n377345     0.310411                             1              1.0   \n\n        operation_type_group_median  operation_kind_median  ...   \n0                               1.0                    1.0  ...  \\\n1                               1.0                    1.0  ...   \n2                               1.0                    1.0  ...   \n3                               1.0                    1.0  ...   \n4                               1.0                    1.0  ...   \n...                             ...                    ...  ...   \n377341                          1.0                    1.0  ...   \n377342                          1.0                    1.0  ...   \n377343                          2.0                    4.0  ...   \n377344                          1.0                    1.0  ...   \n377345                          1.0                    1.0  ...   \n\n        card_type_num_unique_values_x  days_before_num_unique_values   \n0                                   1                             68  \\\n1                                   1                             32   \n2                                   2                              9   \n3                                   1                             13   \n4                                   1                             16   \n...                               ...                            ...   \n377341                              1                             10   \n377342                              1                             47   \n377343                              1                              3   \n377344                              2                             25   \n377345                              1                             73   \n\n        mcc_num_unique_values  operation_type_num_unique_values   \n0                          15                                 4  \\\n1                           7                                 2   \n2                          10                                 3   \n3                           9                                 4   \n4                           6                                 3   \n...                       ...                               ...   \n377341                      5                                 4   \n377342                     16                                 5   \n377343                      1                                 1   \n377344                     19                                 6   \n377345                     22                                 6   \n\n        currency_num_unique_values_y  operation_kind_num_unique_values   \n0                                  1                                 3  \\\n1                                  1                                 2   \n2                                  3                                 2   \n3                                  1                                 3   \n4                                  1                                 3   \n...                              ...                               ...   \n377341                             1                                 3   \n377342                             1                                 4   \n377343                             1                                 1   \n377344                             3                                 4   \n377345                             1                                 4   \n\n        card_type_num_unique_values_y  operation_type_group_num_unique_values   \n0                                   1                                       2  \\\n1                                   1                                       1   \n2                                   2                                       1   \n3                                   1                                       1   \n4                                   1                                       2   \n...                               ...                                     ...   \n377341                              1                                       2   \n377342                              1                                       2   \n377343                              1                                       1   \n377344                              2                                       2   \n377345                              1                                       2   \n\n        ecommerce_flag_num_unique_values  payment_system_num_unique_values  \n0                                      2                                 3  \n1                                      1                                 2  \n2                                      2                                 3  \n3                                      2                                 2  \n4                                      2                                 2  \n...                                  ...                               ...  \n377341                                 1                                 3  \n377342                                 2                                 4  \n377343                                 1                                 1  \n377344                                 1                                 3  \n377345                                 2                                 3  \n\n[377346 rows x 74 columns]",
      "text/html": "<div>\n<style scoped>\n    .dataframe tbody tr th:only-of-type {\n        vertical-align: middle;\n    }\n\n    .dataframe tbody tr th {\n        vertical-align: top;\n    }\n\n    .dataframe thead th {\n        text-align: right;\n    }\n</style>\n<table border=\"1\" class=\"dataframe\">\n  <thead>\n    <tr style=\"text-align: right;\">\n      <th></th>\n      <th>app_id</th>\n      <th>transaction_number_max</th>\n      <th>amnt_min</th>\n      <th>amnt_max</th>\n      <th>amnt_mean</th>\n      <th>amnt_median</th>\n      <th>currency_num_unique_values_x</th>\n      <th>currency_median</th>\n      <th>operation_type_group_median</th>\n      <th>operation_kind_median</th>\n      <th>...</th>\n      <th>card_type_num_unique_values_x</th>\n      <th>days_before_num_unique_values</th>\n      <th>mcc_num_unique_values</th>\n      <th>operation_type_num_unique_values</th>\n      <th>currency_num_unique_values_y</th>\n      <th>operation_kind_num_unique_values</th>\n      <th>card_type_num_unique_values_y</th>\n      <th>operation_type_group_num_unique_values</th>\n      <th>ecommerce_flag_num_unique_values</th>\n      <th>payment_system_num_unique_values</th>\n    </tr>\n  </thead>\n  <tbody>\n    <tr>\n      <th>0</th>\n      <td>1</td>\n      <td>120</td>\n      <td>0.155581</td>\n      <td>0.539584</td>\n      <td>0.315662</td>\n      <td>0.297589</td>\n      <td>1</td>\n      <td>1.0</td>\n      <td>1.0</td>\n      <td>1.0</td>\n      <td>...</td>\n      <td>1</td>\n      <td>68</td>\n      <td>15</td>\n      <td>4</td>\n      <td>1</td>\n      <td>3</td>\n      <td>1</td>\n      <td>2</td>\n      <td>2</td>\n      <td>3</td>\n    </tr>\n    <tr>\n      <th>1</th>\n      <td>5</td>\n      <td>47</td>\n      <td>0.269110</td>\n      <td>0.594620</td>\n      <td>0.413886</td>\n      <td>0.431864</td>\n      <td>1</td>\n      <td>1.0</td>\n      <td>1.0</td>\n      <td>1.0</td>\n      <td>...</td>\n      <td>1</td>\n      <td>32</td>\n      <td>7</td>\n      <td>2</td>\n      <td>1</td>\n      <td>2</td>\n      <td>1</td>\n      <td>1</td>\n      <td>1</td>\n      <td>2</td>\n    </tr>\n    <tr>\n      <th>2</th>\n      <td>6</td>\n      <td>23</td>\n      <td>0.321124</td>\n      <td>0.605813</td>\n      <td>0.405220</td>\n      <td>0.349301</td>\n      <td>3</td>\n      <td>11.0</td>\n      <td>1.0</td>\n      <td>1.0</td>\n      <td>...</td>\n      <td>2</td>\n      <td>9</td>\n      <td>10</td>\n      <td>3</td>\n      <td>3</td>\n      <td>2</td>\n      <td>2</td>\n      <td>1</td>\n      <td>2</td>\n      <td>3</td>\n    </tr>\n    <tr>\n      <th>3</th>\n      <td>7</td>\n      <td>28</td>\n      <td>0.062575</td>\n      <td>0.476811</td>\n      <td>0.248939</td>\n      <td>0.263058</td>\n      <td>1</td>\n      <td>1.0</td>\n      <td>1.0</td>\n      <td>1.0</td>\n      <td>...</td>\n      <td>1</td>\n      <td>13</td>\n      <td>9</td>\n      <td>4</td>\n      <td>1</td>\n      <td>3</td>\n      <td>1</td>\n      <td>1</td>\n      <td>2</td>\n      <td>2</td>\n    </tr>\n    <tr>\n      <th>4</th>\n      <td>11</td>\n      <td>17</td>\n      <td>0.258972</td>\n      <td>0.516834</td>\n      <td>0.395651</td>\n      <td>0.397758</td>\n      <td>1</td>\n      <td>1.0</td>\n      <td>1.0</td>\n      <td>1.0</td>\n      <td>...</td>\n      <td>1</td>\n      <td>16</td>\n      <td>6</td>\n      <td>3</td>\n      <td>1</td>\n      <td>3</td>\n      <td>1</td>\n      <td>2</td>\n      <td>2</td>\n      <td>2</td>\n    </tr>\n    <tr>\n      <th>...</th>\n      <td>...</td>\n      <td>...</td>\n      <td>...</td>\n      <td>...</td>\n      <td>...</td>\n      <td>...</td>\n      <td>...</td>\n      <td>...</td>\n      <td>...</td>\n      <td>...</td>\n      <td>...</td>\n      <td>...</td>\n      <td>...</td>\n      <td>...</td>\n      <td>...</td>\n      <td>...</td>\n      <td>...</td>\n      <td>...</td>\n      <td>...</td>\n      <td>...</td>\n      <td>...</td>\n    </tr>\n    <tr>\n      <th>377341</th>\n      <td>805124</td>\n      <td>20</td>\n      <td>0.178216</td>\n      <td>0.454634</td>\n      <td>0.327272</td>\n      <td>0.287526</td>\n      <td>1</td>\n      <td>1.0</td>\n      <td>1.0</td>\n      <td>1.0</td>\n      <td>...</td>\n      <td>1</td>\n      <td>10</td>\n      <td>5</td>\n      <td>4</td>\n      <td>1</td>\n      <td>3</td>\n      <td>1</td>\n      <td>2</td>\n      <td>1</td>\n      <td>3</td>\n    </tr>\n    <tr>\n      <th>377342</th>\n      <td>805125</td>\n      <td>92</td>\n      <td>0.212853</td>\n      <td>0.607141</td>\n      <td>0.341180</td>\n      <td>0.324899</td>\n      <td>1</td>\n      <td>1.0</td>\n      <td>1.0</td>\n      <td>1.0</td>\n      <td>...</td>\n      <td>1</td>\n      <td>47</td>\n      <td>16</td>\n      <td>5</td>\n      <td>1</td>\n      <td>4</td>\n      <td>1</td>\n      <td>2</td>\n      <td>2</td>\n      <td>4</td>\n    </tr>\n    <tr>\n      <th>377343</th>\n      <td>805127</td>\n      <td>3</td>\n      <td>0.520103</td>\n      <td>0.520103</td>\n      <td>0.520103</td>\n      <td>0.520103</td>\n      <td>1</td>\n      <td>1.0</td>\n      <td>2.0</td>\n      <td>4.0</td>\n      <td>...</td>\n      <td>1</td>\n      <td>3</td>\n      <td>1</td>\n      <td>1</td>\n      <td>1</td>\n      <td>1</td>\n      <td>1</td>\n      <td>1</td>\n      <td>1</td>\n      <td>1</td>\n    </tr>\n    <tr>\n      <th>377344</th>\n      <td>805130</td>\n      <td>53</td>\n      <td>0.271747</td>\n      <td>0.563568</td>\n      <td>0.406822</td>\n      <td>0.409737</td>\n      <td>3</td>\n      <td>1.0</td>\n      <td>1.0</td>\n      <td>1.0</td>\n      <td>...</td>\n      <td>2</td>\n      <td>25</td>\n      <td>19</td>\n      <td>6</td>\n      <td>3</td>\n      <td>4</td>\n      <td>2</td>\n      <td>2</td>\n      <td>1</td>\n      <td>3</td>\n    </tr>\n    <tr>\n      <th>377345</th>\n      <td>805132</td>\n      <td>138</td>\n      <td>0.153618</td>\n      <td>0.522181</td>\n      <td>0.313436</td>\n      <td>0.310411</td>\n      <td>1</td>\n      <td>1.0</td>\n      <td>1.0</td>\n      <td>1.0</td>\n      <td>...</td>\n      <td>1</td>\n      <td>73</td>\n      <td>22</td>\n      <td>6</td>\n      <td>1</td>\n      <td>4</td>\n      <td>1</td>\n      <td>2</td>\n      <td>2</td>\n      <td>3</td>\n    </tr>\n  </tbody>\n</table>\n<p>377346 rows × 74 columns</p>\n</div>"
     },
     "execution_count": 48,
     "metadata": {},
     "output_type": "execute_result"
    }
   ],
   "source": [
    "my_xtrain"
   ],
   "metadata": {
    "collapsed": false,
    "ExecuteTime": {
     "start_time": "2023-04-22T23:05:38.266981Z",
     "end_time": "2023-04-22T23:05:38.360516Z"
    }
   }
  },
  {
   "cell_type": "code",
   "execution_count": 40,
   "outputs": [],
   "source": [
    "x_train, x_test, y_train, y_test =train_test_split(my_xtrain, my_ytrain, train_size=0.1)"
   ],
   "metadata": {
    "collapsed": false,
    "ExecuteTime": {
     "start_time": "2023-04-22T23:02:04.323498Z",
     "end_time": "2023-04-22T23:02:04.524257Z"
    }
   }
  },
  {
   "cell_type": "code",
   "execution_count": 43,
   "outputs": [
    {
     "data": {
      "text/plain": "RandomForestClassifier(criterion='log_loss', max_depth=10, min_samples_split=5,\n                       n_estimators=200, random_state=1)",
      "text/html": "<style>#sk-container-id-5 {color: black;background-color: white;}#sk-container-id-5 pre{padding: 0;}#sk-container-id-5 div.sk-toggleable {background-color: white;}#sk-container-id-5 label.sk-toggleable__label {cursor: pointer;display: block;width: 100%;margin-bottom: 0;padding: 0.3em;box-sizing: border-box;text-align: center;}#sk-container-id-5 label.sk-toggleable__label-arrow:before {content: \"▸\";float: left;margin-right: 0.25em;color: #696969;}#sk-container-id-5 label.sk-toggleable__label-arrow:hover:before {color: black;}#sk-container-id-5 div.sk-estimator:hover label.sk-toggleable__label-arrow:before {color: black;}#sk-container-id-5 div.sk-toggleable__content {max-height: 0;max-width: 0;overflow: hidden;text-align: left;background-color: #f0f8ff;}#sk-container-id-5 div.sk-toggleable__content pre {margin: 0.2em;color: black;border-radius: 0.25em;background-color: #f0f8ff;}#sk-container-id-5 input.sk-toggleable__control:checked~div.sk-toggleable__content {max-height: 200px;max-width: 100%;overflow: auto;}#sk-container-id-5 input.sk-toggleable__control:checked~label.sk-toggleable__label-arrow:before {content: \"▾\";}#sk-container-id-5 div.sk-estimator input.sk-toggleable__control:checked~label.sk-toggleable__label {background-color: #d4ebff;}#sk-container-id-5 div.sk-label input.sk-toggleable__control:checked~label.sk-toggleable__label {background-color: #d4ebff;}#sk-container-id-5 input.sk-hidden--visually {border: 0;clip: rect(1px 1px 1px 1px);clip: rect(1px, 1px, 1px, 1px);height: 1px;margin: -1px;overflow: hidden;padding: 0;position: absolute;width: 1px;}#sk-container-id-5 div.sk-estimator {font-family: monospace;background-color: #f0f8ff;border: 1px dotted black;border-radius: 0.25em;box-sizing: border-box;margin-bottom: 0.5em;}#sk-container-id-5 div.sk-estimator:hover {background-color: #d4ebff;}#sk-container-id-5 div.sk-parallel-item::after {content: \"\";width: 100%;border-bottom: 1px solid gray;flex-grow: 1;}#sk-container-id-5 div.sk-label:hover label.sk-toggleable__label {background-color: #d4ebff;}#sk-container-id-5 div.sk-serial::before {content: \"\";position: absolute;border-left: 1px solid gray;box-sizing: border-box;top: 0;bottom: 0;left: 50%;z-index: 0;}#sk-container-id-5 div.sk-serial {display: flex;flex-direction: column;align-items: center;background-color: white;padding-right: 0.2em;padding-left: 0.2em;position: relative;}#sk-container-id-5 div.sk-item {position: relative;z-index: 1;}#sk-container-id-5 div.sk-parallel {display: flex;align-items: stretch;justify-content: center;background-color: white;position: relative;}#sk-container-id-5 div.sk-item::before, #sk-container-id-5 div.sk-parallel-item::before {content: \"\";position: absolute;border-left: 1px solid gray;box-sizing: border-box;top: 0;bottom: 0;left: 50%;z-index: -1;}#sk-container-id-5 div.sk-parallel-item {display: flex;flex-direction: column;z-index: 1;position: relative;background-color: white;}#sk-container-id-5 div.sk-parallel-item:first-child::after {align-self: flex-end;width: 50%;}#sk-container-id-5 div.sk-parallel-item:last-child::after {align-self: flex-start;width: 50%;}#sk-container-id-5 div.sk-parallel-item:only-child::after {width: 0;}#sk-container-id-5 div.sk-dashed-wrapped {border: 1px dashed gray;margin: 0 0.4em 0.5em 0.4em;box-sizing: border-box;padding-bottom: 0.4em;background-color: white;}#sk-container-id-5 div.sk-label label {font-family: monospace;font-weight: bold;display: inline-block;line-height: 1.2em;}#sk-container-id-5 div.sk-label-container {text-align: center;}#sk-container-id-5 div.sk-container {/* jupyter's `normalize.less` sets `[hidden] { display: none; }` but bootstrap.min.css set `[hidden] { display: none !important; }` so we also need the `!important` here to be able to override the default hidden behavior on the sphinx rendered scikit-learn.org. See: https://github.com/scikit-learn/scikit-learn/issues/21755 */display: inline-block !important;position: relative;}#sk-container-id-5 div.sk-text-repr-fallback {display: none;}</style><div id=\"sk-container-id-5\" class=\"sk-top-container\"><div class=\"sk-text-repr-fallback\"><pre>RandomForestClassifier(criterion=&#x27;log_loss&#x27;, max_depth=10, min_samples_split=5,\n                       n_estimators=200, random_state=1)</pre><b>In a Jupyter environment, please rerun this cell to show the HTML representation or trust the notebook. <br />On GitHub, the HTML representation is unable to render, please try loading this page with nbviewer.org.</b></div><div class=\"sk-container\" hidden><div class=\"sk-item\"><div class=\"sk-estimator sk-toggleable\"><input class=\"sk-toggleable__control sk-hidden--visually\" id=\"sk-estimator-id-7\" type=\"checkbox\" checked><label for=\"sk-estimator-id-7\" class=\"sk-toggleable__label sk-toggleable__label-arrow\">RandomForestClassifier</label><div class=\"sk-toggleable__content\"><pre>RandomForestClassifier(criterion=&#x27;log_loss&#x27;, max_depth=10, min_samples_split=5,\n                       n_estimators=200, random_state=1)</pre></div></div></div></div></div>"
     },
     "execution_count": 43,
     "metadata": {},
     "output_type": "execute_result"
    }
   ],
   "source": [
    "model = RandomForestClassifier(n_estimators=200,\n",
    "                               bootstrap = True,\n",
    "                               max_features = 'sqrt' ,max_depth=10,min_samples_split=5, random_state=1,criterion=\"log_loss\" )\n",
    "model.fit(x_train, y_train[\"flag\"])"
   ],
   "metadata": {
    "collapsed": false,
    "ExecuteTime": {
     "start_time": "2023-04-22T23:03:21.786379Z",
     "end_time": "2023-04-22T23:03:39.000798Z"
    }
   }
  },
  {
   "cell_type": "code",
   "execution_count": 44,
   "outputs": [
    {
     "name": "stdout",
     "output_type": "stream",
     "text": [
      "Testing performance\n",
      "RMSE: 0.16\n",
      "R2: -0.03\n",
      "Score: 0.9732\n",
      "Local Score: 0.9743\n",
      "Best params:  {'bootstrap': True, 'ccp_alpha': 0.0, 'class_weight': None, 'criterion': 'log_loss', 'max_depth': 10, 'max_features': 'sqrt', 'max_leaf_nodes': None, 'max_samples': None, 'min_impurity_decrease': 0.0, 'min_samples_leaf': 1, 'min_samples_split': 5, 'min_weight_fraction_leaf': 0.0, 'n_estimators': 200, 'n_jobs': None, 'oob_score': False, 'random_state': 1, 'verbose': 0, 'warm_start': False}\n"
     ]
    }
   ],
   "source": [
    "pred = model.predict(x_test)\n",
    "rmse = (np.sqrt(mean_squared_error(y_test['flag'], pred)))\n",
    "r2 = r2_score(y_test['flag'], pred)\n",
    "score = model.score(x_test, y_test['flag'])\n",
    "local_score = model.score(x_train, y_train['flag'])\n",
    "print(\"Testing performance\")\n",
    "print(\"RMSE: {:.2f}\".format(rmse))\n",
    "print(\"R2: {:.2f}\".format(r2))\n",
    "print(\"Score: {:.4f}\".format(score))\n",
    "print(\"Local Score: {:.4f}\".format(local_score))\n",
    "print(\"Best params: \", model.get_params())"
   ],
   "metadata": {
    "collapsed": false,
    "ExecuteTime": {
     "start_time": "2023-04-22T23:03:43.715562Z",
     "end_time": "2023-04-22T23:04:00.703779Z"
    }
   }
  },
  {
   "cell_type": "code",
   "execution_count": 18,
   "outputs": [
    {
     "data": {
      "text/plain": "GridSearchCV(cv=5, estimator=RandomForestClassifier(random_state=42),\n             param_grid={'max_depth': [5, 10, 15],\n                         'min_samples_split': [2, 5, 10],\n                         'n_estimators': [100, 200, 300]})",
      "text/html": "<style>#sk-container-id-3 {color: black;background-color: white;}#sk-container-id-3 pre{padding: 0;}#sk-container-id-3 div.sk-toggleable {background-color: white;}#sk-container-id-3 label.sk-toggleable__label {cursor: pointer;display: block;width: 100%;margin-bottom: 0;padding: 0.3em;box-sizing: border-box;text-align: center;}#sk-container-id-3 label.sk-toggleable__label-arrow:before {content: \"▸\";float: left;margin-right: 0.25em;color: #696969;}#sk-container-id-3 label.sk-toggleable__label-arrow:hover:before {color: black;}#sk-container-id-3 div.sk-estimator:hover label.sk-toggleable__label-arrow:before {color: black;}#sk-container-id-3 div.sk-toggleable__content {max-height: 0;max-width: 0;overflow: hidden;text-align: left;background-color: #f0f8ff;}#sk-container-id-3 div.sk-toggleable__content pre {margin: 0.2em;color: black;border-radius: 0.25em;background-color: #f0f8ff;}#sk-container-id-3 input.sk-toggleable__control:checked~div.sk-toggleable__content {max-height: 200px;max-width: 100%;overflow: auto;}#sk-container-id-3 input.sk-toggleable__control:checked~label.sk-toggleable__label-arrow:before {content: \"▾\";}#sk-container-id-3 div.sk-estimator input.sk-toggleable__control:checked~label.sk-toggleable__label {background-color: #d4ebff;}#sk-container-id-3 div.sk-label input.sk-toggleable__control:checked~label.sk-toggleable__label {background-color: #d4ebff;}#sk-container-id-3 input.sk-hidden--visually {border: 0;clip: rect(1px 1px 1px 1px);clip: rect(1px, 1px, 1px, 1px);height: 1px;margin: -1px;overflow: hidden;padding: 0;position: absolute;width: 1px;}#sk-container-id-3 div.sk-estimator {font-family: monospace;background-color: #f0f8ff;border: 1px dotted black;border-radius: 0.25em;box-sizing: border-box;margin-bottom: 0.5em;}#sk-container-id-3 div.sk-estimator:hover {background-color: #d4ebff;}#sk-container-id-3 div.sk-parallel-item::after {content: \"\";width: 100%;border-bottom: 1px solid gray;flex-grow: 1;}#sk-container-id-3 div.sk-label:hover label.sk-toggleable__label {background-color: #d4ebff;}#sk-container-id-3 div.sk-serial::before {content: \"\";position: absolute;border-left: 1px solid gray;box-sizing: border-box;top: 0;bottom: 0;left: 50%;z-index: 0;}#sk-container-id-3 div.sk-serial {display: flex;flex-direction: column;align-items: center;background-color: white;padding-right: 0.2em;padding-left: 0.2em;position: relative;}#sk-container-id-3 div.sk-item {position: relative;z-index: 1;}#sk-container-id-3 div.sk-parallel {display: flex;align-items: stretch;justify-content: center;background-color: white;position: relative;}#sk-container-id-3 div.sk-item::before, #sk-container-id-3 div.sk-parallel-item::before {content: \"\";position: absolute;border-left: 1px solid gray;box-sizing: border-box;top: 0;bottom: 0;left: 50%;z-index: -1;}#sk-container-id-3 div.sk-parallel-item {display: flex;flex-direction: column;z-index: 1;position: relative;background-color: white;}#sk-container-id-3 div.sk-parallel-item:first-child::after {align-self: flex-end;width: 50%;}#sk-container-id-3 div.sk-parallel-item:last-child::after {align-self: flex-start;width: 50%;}#sk-container-id-3 div.sk-parallel-item:only-child::after {width: 0;}#sk-container-id-3 div.sk-dashed-wrapped {border: 1px dashed gray;margin: 0 0.4em 0.5em 0.4em;box-sizing: border-box;padding-bottom: 0.4em;background-color: white;}#sk-container-id-3 div.sk-label label {font-family: monospace;font-weight: bold;display: inline-block;line-height: 1.2em;}#sk-container-id-3 div.sk-label-container {text-align: center;}#sk-container-id-3 div.sk-container {/* jupyter's `normalize.less` sets `[hidden] { display: none; }` but bootstrap.min.css set `[hidden] { display: none !important; }` so we also need the `!important` here to be able to override the default hidden behavior on the sphinx rendered scikit-learn.org. See: https://github.com/scikit-learn/scikit-learn/issues/21755 */display: inline-block !important;position: relative;}#sk-container-id-3 div.sk-text-repr-fallback {display: none;}</style><div id=\"sk-container-id-3\" class=\"sk-top-container\"><div class=\"sk-text-repr-fallback\"><pre>GridSearchCV(cv=5, estimator=RandomForestClassifier(random_state=42),\n             param_grid={&#x27;max_depth&#x27;: [5, 10, 15],\n                         &#x27;min_samples_split&#x27;: [2, 5, 10],\n                         &#x27;n_estimators&#x27;: [100, 200, 300]})</pre><b>In a Jupyter environment, please rerun this cell to show the HTML representation or trust the notebook. <br />On GitHub, the HTML representation is unable to render, please try loading this page with nbviewer.org.</b></div><div class=\"sk-container\" hidden><div class=\"sk-item sk-dashed-wrapped\"><div class=\"sk-label-container\"><div class=\"sk-label sk-toggleable\"><input class=\"sk-toggleable__control sk-hidden--visually\" id=\"sk-estimator-id-3\" type=\"checkbox\" ><label for=\"sk-estimator-id-3\" class=\"sk-toggleable__label sk-toggleable__label-arrow\">GridSearchCV</label><div class=\"sk-toggleable__content\"><pre>GridSearchCV(cv=5, estimator=RandomForestClassifier(random_state=42),\n             param_grid={&#x27;max_depth&#x27;: [5, 10, 15],\n                         &#x27;min_samples_split&#x27;: [2, 5, 10],\n                         &#x27;n_estimators&#x27;: [100, 200, 300]})</pre></div></div></div><div class=\"sk-parallel\"><div class=\"sk-parallel-item\"><div class=\"sk-item\"><div class=\"sk-label-container\"><div class=\"sk-label sk-toggleable\"><input class=\"sk-toggleable__control sk-hidden--visually\" id=\"sk-estimator-id-4\" type=\"checkbox\" ><label for=\"sk-estimator-id-4\" class=\"sk-toggleable__label sk-toggleable__label-arrow\">estimator: RandomForestClassifier</label><div class=\"sk-toggleable__content\"><pre>RandomForestClassifier(random_state=42)</pre></div></div></div><div class=\"sk-serial\"><div class=\"sk-item\"><div class=\"sk-estimator sk-toggleable\"><input class=\"sk-toggleable__control sk-hidden--visually\" id=\"sk-estimator-id-5\" type=\"checkbox\" ><label for=\"sk-estimator-id-5\" class=\"sk-toggleable__label sk-toggleable__label-arrow\">RandomForestClassifier</label><div class=\"sk-toggleable__content\"><pre>RandomForestClassifier(random_state=42)</pre></div></div></div></div></div></div></div></div></div></div>"
     },
     "execution_count": 18,
     "metadata": {},
     "output_type": "execute_result"
    }
   ],
   "source": [
    "clf = RandomForestClassifier(random_state=42)\n",
    "grid = {\n",
    "    \"n_estimators\": [100, 200, 300],\n",
    "    \"max_depth\": [5, 10, 15],\n",
    "    \"min_samples_split\": [2, 5, 10]\n",
    "}\n",
    "model2 = GridSearchCV(clf, param_grid=grid, cv=5)\n",
    "model2.fit(x_train, y_train['flag'])"
   ],
   "metadata": {
    "collapsed": false,
    "ExecuteTime": {
     "start_time": "2023-04-22T21:02:07.715942Z",
     "end_time": "2023-04-22T21:28:41.026833Z"
    }
   }
  },
  {
   "cell_type": "code",
   "execution_count": null,
   "outputs": [],
   "source": [
    "pred = model2.predict(x_test)\n",
    "rmse = (np.sqrt(mean_squared_error(y_test['flag'], pred)))\n",
    "r2 = r2_score(y_test['flag'], pred)\n",
    "score = model2.score(x_test, y_test['flag'])\n",
    "local_score = model2.score(x_train, y_train['flag'])\n",
    "print(\"Testing performance\")\n",
    "print(\"RMSE: {:.2f}\".format(rmse))\n",
    "print(\"R2: {:.2f}\".format(r2))\n",
    "print(\"Score: {:.4f}\".format(score))\n",
    "print(\"Local Score: {:.4f}\".format(local_score))\n",
    "print(\"Best params: \", model2.get_params())"
   ],
   "metadata": {
    "collapsed": false
   }
  },
  {
   "cell_type": "code",
   "execution_count": null,
   "outputs": [],
   "source": [],
   "metadata": {
    "collapsed": false
   }
  },
  {
   "cell_type": "code",
   "execution_count": 45,
   "outputs": [],
   "source": [
    "contest_x = pd.read_csv(\"../ourfeatures/my_bigtestX_version3.csv\")\n",
    "contest_y = pd.read_csv(\"../ourfeatures/my_big_testy.csv\")"
   ],
   "metadata": {
    "collapsed": false,
    "ExecuteTime": {
     "start_time": "2023-04-22T23:04:34.823627Z",
     "end_time": "2023-04-22T23:04:35.839474Z"
    }
   }
  },
  {
   "cell_type": "code",
   "execution_count": 46,
   "outputs": [],
   "source": [
    "y_test_pred = model.predict_proba(contest_x)[:, 1]\n",
    "contest_y[\"flag\"] = y_test_pred"
   ],
   "metadata": {
    "collapsed": false,
    "ExecuteTime": {
     "start_time": "2023-04-22T23:04:44.233104Z",
     "end_time": "2023-04-22T23:04:48.923770Z"
    }
   }
  },
  {
   "cell_type": "code",
   "execution_count": 47,
   "outputs": [],
   "source": [
    "contest_y.to_csv(\"results/rf_result2.csv\", index=False)"
   ],
   "metadata": {
    "collapsed": false,
    "ExecuteTime": {
     "start_time": "2023-04-22T23:04:54.789123Z",
     "end_time": "2023-04-22T23:04:55.359737Z"
    }
   }
  },
  {
   "cell_type": "code",
   "execution_count": 1,
   "outputs": [],
   "source": [
    "import pandas as pd"
   ],
   "metadata": {
    "collapsed": false,
    "ExecuteTime": {
     "start_time": "2023-04-23T21:57:10.214709Z",
     "end_time": "2023-04-23T21:57:10.858475Z"
    }
   }
  },
  {
   "cell_type": "code",
   "execution_count": 51,
   "outputs": [],
   "source": [
    "testy1 = pd.read_csv(\"results/average_max9.csv\")\n",
    "testy2 = pd.read_csv(\"results/newres-super-13.csv\")"
   ],
   "metadata": {
    "collapsed": false,
    "ExecuteTime": {
     "start_time": "2023-04-23T23:59:28.147520Z",
     "end_time": "2023-04-23T23:59:28.420427Z"
    }
   }
  },
  {
   "cell_type": "code",
   "execution_count": 54,
   "outputs": [
    {
     "data": {
      "text/plain": "         app_id      flag\n0        805133  0.033545\n1        805134  0.017873\n2        805135  0.012856\n3        805136  0.006971\n4        805137  0.051912\n...         ...       ...\n188669  1003045  0.033356\n188670  1003047  0.010805\n188671  1003048  0.013790\n188672  1003049  0.025933\n188673  1003050  0.011791\n\n[188674 rows x 2 columns]",
      "text/html": "<div>\n<style scoped>\n    .dataframe tbody tr th:only-of-type {\n        vertical-align: middle;\n    }\n\n    .dataframe tbody tr th {\n        vertical-align: top;\n    }\n\n    .dataframe thead th {\n        text-align: right;\n    }\n</style>\n<table border=\"1\" class=\"dataframe\">\n  <thead>\n    <tr style=\"text-align: right;\">\n      <th></th>\n      <th>app_id</th>\n      <th>flag</th>\n    </tr>\n  </thead>\n  <tbody>\n    <tr>\n      <th>0</th>\n      <td>805133</td>\n      <td>0.033545</td>\n    </tr>\n    <tr>\n      <th>1</th>\n      <td>805134</td>\n      <td>0.017873</td>\n    </tr>\n    <tr>\n      <th>2</th>\n      <td>805135</td>\n      <td>0.012856</td>\n    </tr>\n    <tr>\n      <th>3</th>\n      <td>805136</td>\n      <td>0.006971</td>\n    </tr>\n    <tr>\n      <th>4</th>\n      <td>805137</td>\n      <td>0.051912</td>\n    </tr>\n    <tr>\n      <th>...</th>\n      <td>...</td>\n      <td>...</td>\n    </tr>\n    <tr>\n      <th>188669</th>\n      <td>1003045</td>\n      <td>0.033356</td>\n    </tr>\n    <tr>\n      <th>188670</th>\n      <td>1003047</td>\n      <td>0.010805</td>\n    </tr>\n    <tr>\n      <th>188671</th>\n      <td>1003048</td>\n      <td>0.013790</td>\n    </tr>\n    <tr>\n      <th>188672</th>\n      <td>1003049</td>\n      <td>0.025933</td>\n    </tr>\n    <tr>\n      <th>188673</th>\n      <td>1003050</td>\n      <td>0.011791</td>\n    </tr>\n  </tbody>\n</table>\n<p>188674 rows × 2 columns</p>\n</div>"
     },
     "execution_count": 54,
     "metadata": {},
     "output_type": "execute_result"
    }
   ],
   "source": [
    "testy1"
   ],
   "metadata": {
    "collapsed": false,
    "ExecuteTime": {
     "start_time": "2023-04-23T23:59:36.119450Z",
     "end_time": "2023-04-23T23:59:36.169175Z"
    }
   }
  },
  {
   "cell_type": "code",
   "execution_count": 53,
   "outputs": [],
   "source": [
    "testy2[\"new\"] = (testy1[\"flag\"] + testy2[\"flag\"]) / 2"
   ],
   "metadata": {
    "collapsed": false,
    "ExecuteTime": {
     "start_time": "2023-04-23T23:59:32.790444Z",
     "end_time": "2023-04-23T23:59:32.841663Z"
    }
   }
  },
  {
   "cell_type": "code",
   "execution_count": 55,
   "outputs": [],
   "source": [
    "testy1['flag'] = testy2['new']"
   ],
   "metadata": {
    "collapsed": false,
    "ExecuteTime": {
     "start_time": "2023-04-23T23:59:37.949172Z",
     "end_time": "2023-04-23T23:59:37.972766Z"
    }
   }
  },
  {
   "cell_type": "code",
   "execution_count": 56,
   "outputs": [
    {
     "data": {
      "text/plain": "         app_id      flag\n0        805133  0.030296\n1        805134  0.017976\n2        805135  0.011882\n3        805136  0.006933\n4        805137  0.049987\n...         ...       ...\n188669  1003045  0.034536\n188670  1003047  0.011112\n188671  1003048  0.013582\n188672  1003049  0.025543\n188673  1003050  0.011928\n\n[188674 rows x 2 columns]",
      "text/html": "<div>\n<style scoped>\n    .dataframe tbody tr th:only-of-type {\n        vertical-align: middle;\n    }\n\n    .dataframe tbody tr th {\n        vertical-align: top;\n    }\n\n    .dataframe thead th {\n        text-align: right;\n    }\n</style>\n<table border=\"1\" class=\"dataframe\">\n  <thead>\n    <tr style=\"text-align: right;\">\n      <th></th>\n      <th>app_id</th>\n      <th>flag</th>\n    </tr>\n  </thead>\n  <tbody>\n    <tr>\n      <th>0</th>\n      <td>805133</td>\n      <td>0.030296</td>\n    </tr>\n    <tr>\n      <th>1</th>\n      <td>805134</td>\n      <td>0.017976</td>\n    </tr>\n    <tr>\n      <th>2</th>\n      <td>805135</td>\n      <td>0.011882</td>\n    </tr>\n    <tr>\n      <th>3</th>\n      <td>805136</td>\n      <td>0.006933</td>\n    </tr>\n    <tr>\n      <th>4</th>\n      <td>805137</td>\n      <td>0.049987</td>\n    </tr>\n    <tr>\n      <th>...</th>\n      <td>...</td>\n      <td>...</td>\n    </tr>\n    <tr>\n      <th>188669</th>\n      <td>1003045</td>\n      <td>0.034536</td>\n    </tr>\n    <tr>\n      <th>188670</th>\n      <td>1003047</td>\n      <td>0.011112</td>\n    </tr>\n    <tr>\n      <th>188671</th>\n      <td>1003048</td>\n      <td>0.013582</td>\n    </tr>\n    <tr>\n      <th>188672</th>\n      <td>1003049</td>\n      <td>0.025543</td>\n    </tr>\n    <tr>\n      <th>188673</th>\n      <td>1003050</td>\n      <td>0.011928</td>\n    </tr>\n  </tbody>\n</table>\n<p>188674 rows × 2 columns</p>\n</div>"
     },
     "execution_count": 56,
     "metadata": {},
     "output_type": "execute_result"
    }
   ],
   "source": [
    "testy1['flag'] += 0.08"
   ],
   "metadata": {
    "collapsed": false,
    "ExecuteTime": {
     "start_time": "2023-04-23T23:59:38.650907Z",
     "end_time": "2023-04-23T23:59:38.680522Z"
    }
   }
  },
  {
   "cell_type": "code",
   "execution_count": 57,
   "outputs": [],
   "source": [
    "testy1.to_csv(\"results/average_max13.csv\", index=False)"
   ],
   "metadata": {
    "collapsed": false,
    "ExecuteTime": {
     "start_time": "2023-04-23T23:59:41.872629Z",
     "end_time": "2023-04-23T23:59:43.418332Z"
    }
   }
  }
 ],
 "metadata": {
  "kernelspec": {
   "display_name": "Python 3",
   "language": "python",
   "name": "python3"
  },
  "language_info": {
   "codemirror_mode": {
    "name": "ipython",
    "version": 2
   },
   "file_extension": ".py",
   "mimetype": "text/x-python",
   "name": "python",
   "nbconvert_exporter": "python",
   "pygments_lexer": "ipython2",
   "version": "2.7.6"
  }
 },
 "nbformat": 4,
 "nbformat_minor": 0
}
