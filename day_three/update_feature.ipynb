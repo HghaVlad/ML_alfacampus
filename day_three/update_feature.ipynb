{
 "cells": [
  {
   "cell_type": "code",
   "execution_count": 2,
   "metadata": {
    "collapsed": true,
    "ExecuteTime": {
     "start_time": "2023-04-22T22:03:45.599859Z",
     "end_time": "2023-04-22T22:03:46.134107Z"
    }
   },
   "outputs": [],
   "source": [
    "import pandas as pd\n",
    "import numpy as np"
   ]
  },
  {
   "cell_type": "code",
   "execution_count": 90,
   "outputs": [],
   "source": [
    "my_x_feature = pd.read_csv(\"../ourfeatures/my_bigX_version5.csv\")\n",
    "dataset_trainx = pd.read_parquet(\"../trains/dataset_train_small.parquet\")"
   ],
   "metadata": {
    "collapsed": false,
    "ExecuteTime": {
     "start_time": "2023-04-22T23:15:40.545156Z",
     "end_time": "2023-04-22T23:15:44.177257Z"
    }
   }
  },
  {
   "cell_type": "code",
   "execution_count": 93,
   "outputs": [],
   "source": [
    "my_testx_feature = pd.read_csv(\"../ourfeatures/my_bigtestX_version5.csv\")\n",
    "dataset_testx = pd.read_parquet(\"../trains/dataset_test.parquet\")"
   ],
   "metadata": {
    "collapsed": false,
    "ExecuteTime": {
     "start_time": "2023-04-22T23:16:03.584876Z",
     "end_time": "2023-04-22T23:16:05.394167Z"
    }
   }
  },
  {
   "cell_type": "code",
   "execution_count": 68,
   "outputs": [],
   "source": [
    "def delete_columns(column_list: list, dataset: pd.DataFrame):\n",
    "    new_dataset = dataset.drop(column_list, axis=1)\n",
    "    return new_dataset"
   ],
   "metadata": {
    "collapsed": false,
    "ExecuteTime": {
     "start_time": "2023-04-22T22:48:27.416111Z",
     "end_time": "2023-04-22T22:48:27.430283Z"
    }
   }
  },
  {
   "cell_type": "code",
   "execution_count": 12,
   "outputs": [
    {
     "data": {
      "text/plain": "Index(['Unnamed: 0', 'transaction_number_max', 'amnt_min', 'amnt_max',\n       'amnt_mean', 'amnt_median', 'currency_num_unique_values',\n       'operation_type_group_median', 'operation_kind_median',\n       'income_flag_median', 'payment_system_median', 'ecommerce_flag_mean',\n       'days_before_min', 'days_before_mean', 'days_before_max',\n       'country_num_unique_values', 'country_median', 'city_num_unique_values',\n       'city_median', 'day_of_week_num_unique_values', 'day_of_week_mean',\n       'operation_type_group1', 'operation_type_group2',\n       'operation_type_group3', 'operation_type_group4', 'operation_kind1',\n       'operation_kind2', 'operation_kind3', 'operation_kind4',\n       'operation_kind5', 'operation_kind6', 'operation_kind7', 'income_flag1',\n       'income_flag2', 'income_flag3', 'payment_system1', 'payment_system2',\n       'payment_system3', 'payment_system4', 'payment_system5',\n       'payment_system6', 'payment_system7', 'ecommerce_flag1',\n       'ecommerce_flag2', 'ecommerce_flag3', 'product'],\n      dtype='object')"
     },
     "execution_count": 12,
     "metadata": {},
     "output_type": "execute_result"
    }
   ],
   "source": [
    "my_x_feature.columns"
   ],
   "metadata": {
    "collapsed": false,
    "ExecuteTime": {
     "start_time": "2023-04-22T12:34:34.769513Z",
     "end_time": "2023-04-22T12:34:34.771879Z"
    }
   }
  },
  {
   "cell_type": "code",
   "execution_count": 89,
   "outputs": [],
   "source": [
    "columns_to_delete = [\"mcc_median\", \"mcc_category_median_y\", \"operation_type_group_median\", \"income_flag_median\"]"
   ],
   "metadata": {
    "collapsed": false,
    "ExecuteTime": {
     "start_time": "2023-04-22T23:15:38.347724Z",
     "end_time": "2023-04-22T23:15:38.365757Z"
    }
   }
  },
  {
   "cell_type": "code",
   "execution_count": 94,
   "outputs": [],
   "source": [
    "new_featurex = delete_columns(columns_to_delete, my_testx_feature)"
   ],
   "metadata": {
    "collapsed": false,
    "ExecuteTime": {
     "start_time": "2023-04-22T23:16:15.649136Z",
     "end_time": "2023-04-22T23:16:15.665151Z"
    }
   }
  },
  {
   "cell_type": "code",
   "execution_count": 95,
   "outputs": [],
   "source": [
    "new_featurex.to_csv(\"../ourfeatures/my_bigtestX_version6.csv\", index=False)"
   ],
   "metadata": {
    "collapsed": false,
    "ExecuteTime": {
     "start_time": "2023-04-22T23:16:18.830956Z",
     "end_time": "2023-04-22T23:16:23.282709Z"
    }
   }
  },
  {
   "cell_type": "code",
   "execution_count": 9,
   "outputs": [],
   "source": [],
   "metadata": {
    "collapsed": false,
    "ExecuteTime": {
     "start_time": "2023-04-22T22:05:39.343283Z",
     "end_time": "2023-04-22T22:05:41.994842Z"
    }
   }
  },
  {
   "cell_type": "code",
   "execution_count": 6,
   "outputs": [],
   "source": [
    "def new_columns(new_agg: dict, origin_dataset: pd.DataFrame):\n",
    "    new_dataset = origin_dataset.groupby(\"app_id\").agg(new_agg)\n",
    "    return new_dataset"
   ],
   "metadata": {
    "collapsed": false,
    "ExecuteTime": {
     "start_time": "2023-04-22T22:05:19.438650Z",
     "end_time": "2023-04-22T22:05:19.464915Z"
    }
   }
  },
  {
   "cell_type": "code",
   "execution_count": 4,
   "outputs": [],
   "source": [
    "def num_unique_values(x):\n",
    "    return len(x.unique())"
   ],
   "metadata": {
    "collapsed": false,
    "ExecuteTime": {
     "start_time": "2023-04-22T22:04:31.921401Z",
     "end_time": "2023-04-22T22:04:31.936435Z"
    }
   }
  },
  {
   "cell_type": "code",
   "execution_count": 83,
   "outputs": [],
   "source": [
    "new_columns_tofeaturex = new_columns({\"mcc\": {\"median\"}, \"mcc_category\": {\"median\"}}, dataset_testx)"
   ],
   "metadata": {
    "collapsed": false,
    "ExecuteTime": {
     "start_time": "2023-04-22T23:07:40.134316Z",
     "end_time": "2023-04-22T23:07:41.265177Z"
    }
   }
  },
  {
   "cell_type": "code",
   "execution_count": 85,
   "outputs": [
    {
     "data": {
      "text/plain": "           mcc mcc_category\n        median       median\napp_id                     \n805133     8.5          2.0\n805134     1.0          1.0\n805135     5.5          4.0\n805136    15.0          6.0\n805137     3.0          2.0\n...        ...          ...\n1003045   11.0          8.0\n1003047   13.0          6.0\n1003048    7.0          5.0\n1003049    2.0          2.0\n1003050    3.0          3.0\n\n[188674 rows x 2 columns]",
      "text/html": "<div>\n<style scoped>\n    .dataframe tbody tr th:only-of-type {\n        vertical-align: middle;\n    }\n\n    .dataframe tbody tr th {\n        vertical-align: top;\n    }\n\n    .dataframe thead tr th {\n        text-align: left;\n    }\n\n    .dataframe thead tr:last-of-type th {\n        text-align: right;\n    }\n</style>\n<table border=\"1\" class=\"dataframe\">\n  <thead>\n    <tr>\n      <th></th>\n      <th>mcc</th>\n      <th>mcc_category</th>\n    </tr>\n    <tr>\n      <th></th>\n      <th>median</th>\n      <th>median</th>\n    </tr>\n    <tr>\n      <th>app_id</th>\n      <th></th>\n      <th></th>\n    </tr>\n  </thead>\n  <tbody>\n    <tr>\n      <th>805133</th>\n      <td>8.5</td>\n      <td>2.0</td>\n    </tr>\n    <tr>\n      <th>805134</th>\n      <td>1.0</td>\n      <td>1.0</td>\n    </tr>\n    <tr>\n      <th>805135</th>\n      <td>5.5</td>\n      <td>4.0</td>\n    </tr>\n    <tr>\n      <th>805136</th>\n      <td>15.0</td>\n      <td>6.0</td>\n    </tr>\n    <tr>\n      <th>805137</th>\n      <td>3.0</td>\n      <td>2.0</td>\n    </tr>\n    <tr>\n      <th>...</th>\n      <td>...</td>\n      <td>...</td>\n    </tr>\n    <tr>\n      <th>1003045</th>\n      <td>11.0</td>\n      <td>8.0</td>\n    </tr>\n    <tr>\n      <th>1003047</th>\n      <td>13.0</td>\n      <td>6.0</td>\n    </tr>\n    <tr>\n      <th>1003048</th>\n      <td>7.0</td>\n      <td>5.0</td>\n    </tr>\n    <tr>\n      <th>1003049</th>\n      <td>2.0</td>\n      <td>2.0</td>\n    </tr>\n    <tr>\n      <th>1003050</th>\n      <td>3.0</td>\n      <td>3.0</td>\n    </tr>\n  </tbody>\n</table>\n<p>188674 rows × 2 columns</p>\n</div>"
     },
     "execution_count": 85,
     "metadata": {},
     "output_type": "execute_result"
    }
   ],
   "source": [
    "new_columns_tofeaturex"
   ],
   "metadata": {
    "collapsed": false,
    "ExecuteTime": {
     "start_time": "2023-04-22T23:07:55.976008Z",
     "end_time": "2023-04-22T23:07:56.005843Z"
    }
   }
  },
  {
   "cell_type": "code",
   "execution_count": 86,
   "outputs": [],
   "source": [
    "new_columns_tofeaturex.columns = ['_'.join(col).strip('_') for col in new_columns_tofeaturex.columns.values]\n",
    "new_featurex = my_testx_feature.merge(new_columns_tofeaturex, on=\"app_id\")"
   ],
   "metadata": {
    "collapsed": false,
    "ExecuteTime": {
     "start_time": "2023-04-22T23:07:59.546970Z",
     "end_time": "2023-04-22T23:07:59.603551Z"
    }
   }
  },
  {
   "cell_type": "code",
   "execution_count": 81,
   "outputs": [
    {
     "data": {
      "text/plain": "        app_id  transaction_number_max  amnt_min  amnt_max  amnt_mean   \n0            1                     120  0.155581  0.539584   0.315662  \\\n1            5                      47  0.269110  0.594620   0.413886   \n2            6                      23  0.321124  0.605813   0.405220   \n3            7                      28  0.062575  0.476811   0.248939   \n4           11                      17  0.258972  0.516834   0.395651   \n...        ...                     ...       ...       ...        ...   \n377341  805124                      20  0.178216  0.454634   0.327272   \n377342  805125                      92  0.212853  0.607141   0.341180   \n377343  805127                       3  0.520103  0.520103   0.520103   \n377344  805130                      53  0.271747  0.563568   0.406822   \n377345  805132                     138  0.153618  0.522181   0.313436   \n\n        amnt_median  currency_num_unique_values_x  currency_median   \n0          0.297589                             1              1.0  \\\n1          0.431864                             1              1.0   \n2          0.349301                             3             11.0   \n3          0.263058                             1              1.0   \n4          0.397758                             1              1.0   \n...             ...                           ...              ...   \n377341     0.287526                             1              1.0   \n377342     0.324899                             1              1.0   \n377343     0.520103                             1              1.0   \n377344     0.409737                             3              1.0   \n377345     0.310411                             1              1.0   \n\n        operation_type_group_median  operation_kind_median  ...   \n0                               1.0                    1.0  ...  \\\n1                               1.0                    1.0  ...   \n2                               1.0                    1.0  ...   \n3                               1.0                    1.0  ...   \n4                               1.0                    1.0  ...   \n...                             ...                    ...  ...   \n377341                          1.0                    1.0  ...   \n377342                          1.0                    1.0  ...   \n377343                          2.0                    4.0  ...   \n377344                          1.0                    1.0  ...   \n377345                          1.0                    1.0  ...   \n\n        mcc_num_unique_values  operation_type_num_unique_values   \n0                          15                                 4  \\\n1                           7                                 2   \n2                          10                                 3   \n3                           9                                 4   \n4                           6                                 3   \n...                       ...                               ...   \n377341                      5                                 4   \n377342                     16                                 5   \n377343                      1                                 1   \n377344                     19                                 6   \n377345                     22                                 6   \n\n        currency_num_unique_values_y  operation_kind_num_unique_values   \n0                                  1                                 3  \\\n1                                  1                                 2   \n2                                  3                                 2   \n3                                  1                                 3   \n4                                  1                                 3   \n...                              ...                               ...   \n377341                             1                                 3   \n377342                             1                                 4   \n377343                             1                                 1   \n377344                             3                                 4   \n377345                             1                                 4   \n\n        card_type_num_unique_values_y  operation_type_group_num_unique_values   \n0                                   1                                       2  \\\n1                                   1                                       1   \n2                                   2                                       1   \n3                                   1                                       1   \n4                                   1                                       2   \n...                               ...                                     ...   \n377341                              1                                       2   \n377342                              1                                       2   \n377343                              1                                       1   \n377344                              2                                       2   \n377345                              1                                       2   \n\n        ecommerce_flag_num_unique_values  payment_system_num_unique_values   \n0                                      2                                 3  \\\n1                                      1                                 2   \n2                                      2                                 3   \n3                                      2                                 2   \n4                                      2                                 2   \n...                                  ...                               ...   \n377341                                 1                                 3   \n377342                                 2                                 4   \n377343                                 1                                 1   \n377344                                 1                                 3   \n377345                                 2                                 3   \n\n        mcc_median  mcc_category_median_y  \n0              3.0                    4.0  \n1              2.0                    2.0  \n2              5.0                    4.0  \n3              6.0                    3.0  \n4              7.0                    5.0  \n...            ...                    ...  \n377341         1.5                    1.5  \n377342         3.0                    4.0  \n377343         2.0                    2.0  \n377344        10.0                    4.0  \n377345         1.0                    1.0  \n\n[377346 rows x 76 columns]",
      "text/html": "<div>\n<style scoped>\n    .dataframe tbody tr th:only-of-type {\n        vertical-align: middle;\n    }\n\n    .dataframe tbody tr th {\n        vertical-align: top;\n    }\n\n    .dataframe thead th {\n        text-align: right;\n    }\n</style>\n<table border=\"1\" class=\"dataframe\">\n  <thead>\n    <tr style=\"text-align: right;\">\n      <th></th>\n      <th>app_id</th>\n      <th>transaction_number_max</th>\n      <th>amnt_min</th>\n      <th>amnt_max</th>\n      <th>amnt_mean</th>\n      <th>amnt_median</th>\n      <th>currency_num_unique_values_x</th>\n      <th>currency_median</th>\n      <th>operation_type_group_median</th>\n      <th>operation_kind_median</th>\n      <th>...</th>\n      <th>mcc_num_unique_values</th>\n      <th>operation_type_num_unique_values</th>\n      <th>currency_num_unique_values_y</th>\n      <th>operation_kind_num_unique_values</th>\n      <th>card_type_num_unique_values_y</th>\n      <th>operation_type_group_num_unique_values</th>\n      <th>ecommerce_flag_num_unique_values</th>\n      <th>payment_system_num_unique_values</th>\n      <th>mcc_median</th>\n      <th>mcc_category_median_y</th>\n    </tr>\n  </thead>\n  <tbody>\n    <tr>\n      <th>0</th>\n      <td>1</td>\n      <td>120</td>\n      <td>0.155581</td>\n      <td>0.539584</td>\n      <td>0.315662</td>\n      <td>0.297589</td>\n      <td>1</td>\n      <td>1.0</td>\n      <td>1.0</td>\n      <td>1.0</td>\n      <td>...</td>\n      <td>15</td>\n      <td>4</td>\n      <td>1</td>\n      <td>3</td>\n      <td>1</td>\n      <td>2</td>\n      <td>2</td>\n      <td>3</td>\n      <td>3.0</td>\n      <td>4.0</td>\n    </tr>\n    <tr>\n      <th>1</th>\n      <td>5</td>\n      <td>47</td>\n      <td>0.269110</td>\n      <td>0.594620</td>\n      <td>0.413886</td>\n      <td>0.431864</td>\n      <td>1</td>\n      <td>1.0</td>\n      <td>1.0</td>\n      <td>1.0</td>\n      <td>...</td>\n      <td>7</td>\n      <td>2</td>\n      <td>1</td>\n      <td>2</td>\n      <td>1</td>\n      <td>1</td>\n      <td>1</td>\n      <td>2</td>\n      <td>2.0</td>\n      <td>2.0</td>\n    </tr>\n    <tr>\n      <th>2</th>\n      <td>6</td>\n      <td>23</td>\n      <td>0.321124</td>\n      <td>0.605813</td>\n      <td>0.405220</td>\n      <td>0.349301</td>\n      <td>3</td>\n      <td>11.0</td>\n      <td>1.0</td>\n      <td>1.0</td>\n      <td>...</td>\n      <td>10</td>\n      <td>3</td>\n      <td>3</td>\n      <td>2</td>\n      <td>2</td>\n      <td>1</td>\n      <td>2</td>\n      <td>3</td>\n      <td>5.0</td>\n      <td>4.0</td>\n    </tr>\n    <tr>\n      <th>3</th>\n      <td>7</td>\n      <td>28</td>\n      <td>0.062575</td>\n      <td>0.476811</td>\n      <td>0.248939</td>\n      <td>0.263058</td>\n      <td>1</td>\n      <td>1.0</td>\n      <td>1.0</td>\n      <td>1.0</td>\n      <td>...</td>\n      <td>9</td>\n      <td>4</td>\n      <td>1</td>\n      <td>3</td>\n      <td>1</td>\n      <td>1</td>\n      <td>2</td>\n      <td>2</td>\n      <td>6.0</td>\n      <td>3.0</td>\n    </tr>\n    <tr>\n      <th>4</th>\n      <td>11</td>\n      <td>17</td>\n      <td>0.258972</td>\n      <td>0.516834</td>\n      <td>0.395651</td>\n      <td>0.397758</td>\n      <td>1</td>\n      <td>1.0</td>\n      <td>1.0</td>\n      <td>1.0</td>\n      <td>...</td>\n      <td>6</td>\n      <td>3</td>\n      <td>1</td>\n      <td>3</td>\n      <td>1</td>\n      <td>2</td>\n      <td>2</td>\n      <td>2</td>\n      <td>7.0</td>\n      <td>5.0</td>\n    </tr>\n    <tr>\n      <th>...</th>\n      <td>...</td>\n      <td>...</td>\n      <td>...</td>\n      <td>...</td>\n      <td>...</td>\n      <td>...</td>\n      <td>...</td>\n      <td>...</td>\n      <td>...</td>\n      <td>...</td>\n      <td>...</td>\n      <td>...</td>\n      <td>...</td>\n      <td>...</td>\n      <td>...</td>\n      <td>...</td>\n      <td>...</td>\n      <td>...</td>\n      <td>...</td>\n      <td>...</td>\n      <td>...</td>\n    </tr>\n    <tr>\n      <th>377341</th>\n      <td>805124</td>\n      <td>20</td>\n      <td>0.178216</td>\n      <td>0.454634</td>\n      <td>0.327272</td>\n      <td>0.287526</td>\n      <td>1</td>\n      <td>1.0</td>\n      <td>1.0</td>\n      <td>1.0</td>\n      <td>...</td>\n      <td>5</td>\n      <td>4</td>\n      <td>1</td>\n      <td>3</td>\n      <td>1</td>\n      <td>2</td>\n      <td>1</td>\n      <td>3</td>\n      <td>1.5</td>\n      <td>1.5</td>\n    </tr>\n    <tr>\n      <th>377342</th>\n      <td>805125</td>\n      <td>92</td>\n      <td>0.212853</td>\n      <td>0.607141</td>\n      <td>0.341180</td>\n      <td>0.324899</td>\n      <td>1</td>\n      <td>1.0</td>\n      <td>1.0</td>\n      <td>1.0</td>\n      <td>...</td>\n      <td>16</td>\n      <td>5</td>\n      <td>1</td>\n      <td>4</td>\n      <td>1</td>\n      <td>2</td>\n      <td>2</td>\n      <td>4</td>\n      <td>3.0</td>\n      <td>4.0</td>\n    </tr>\n    <tr>\n      <th>377343</th>\n      <td>805127</td>\n      <td>3</td>\n      <td>0.520103</td>\n      <td>0.520103</td>\n      <td>0.520103</td>\n      <td>0.520103</td>\n      <td>1</td>\n      <td>1.0</td>\n      <td>2.0</td>\n      <td>4.0</td>\n      <td>...</td>\n      <td>1</td>\n      <td>1</td>\n      <td>1</td>\n      <td>1</td>\n      <td>1</td>\n      <td>1</td>\n      <td>1</td>\n      <td>1</td>\n      <td>2.0</td>\n      <td>2.0</td>\n    </tr>\n    <tr>\n      <th>377344</th>\n      <td>805130</td>\n      <td>53</td>\n      <td>0.271747</td>\n      <td>0.563568</td>\n      <td>0.406822</td>\n      <td>0.409737</td>\n      <td>3</td>\n      <td>1.0</td>\n      <td>1.0</td>\n      <td>1.0</td>\n      <td>...</td>\n      <td>19</td>\n      <td>6</td>\n      <td>3</td>\n      <td>4</td>\n      <td>2</td>\n      <td>2</td>\n      <td>1</td>\n      <td>3</td>\n      <td>10.0</td>\n      <td>4.0</td>\n    </tr>\n    <tr>\n      <th>377345</th>\n      <td>805132</td>\n      <td>138</td>\n      <td>0.153618</td>\n      <td>0.522181</td>\n      <td>0.313436</td>\n      <td>0.310411</td>\n      <td>1</td>\n      <td>1.0</td>\n      <td>1.0</td>\n      <td>1.0</td>\n      <td>...</td>\n      <td>22</td>\n      <td>6</td>\n      <td>1</td>\n      <td>4</td>\n      <td>1</td>\n      <td>2</td>\n      <td>2</td>\n      <td>3</td>\n      <td>1.0</td>\n      <td>1.0</td>\n    </tr>\n  </tbody>\n</table>\n<p>377346 rows × 76 columns</p>\n</div>"
     },
     "execution_count": 81,
     "metadata": {},
     "output_type": "execute_result"
    }
   ],
   "source": [
    "new_featurex"
   ],
   "metadata": {
    "collapsed": false,
    "ExecuteTime": {
     "start_time": "2023-04-22T23:07:22.281231Z",
     "end_time": "2023-04-22T23:07:22.368497Z"
    }
   }
  },
  {
   "cell_type": "code",
   "execution_count": 87,
   "outputs": [],
   "source": [
    "new_featurex.to_csv(\"../ourfeatures/my_bigtestX_version5.csv\", index=False)"
   ],
   "metadata": {
    "collapsed": false,
    "ExecuteTime": {
     "start_time": "2023-04-22T23:08:03.728369Z",
     "end_time": "2023-04-22T23:08:08.595994Z"
    }
   }
  }
 ],
 "metadata": {
  "kernelspec": {
   "display_name": "Python 3",
   "language": "python",
   "name": "python3"
  },
  "language_info": {
   "codemirror_mode": {
    "name": "ipython",
    "version": 2
   },
   "file_extension": ".py",
   "mimetype": "text/x-python",
   "name": "python",
   "nbconvert_exporter": "python",
   "pygments_lexer": "ipython2",
   "version": "2.7.6"
  }
 },
 "nbformat": 4,
 "nbformat_minor": 0
}
