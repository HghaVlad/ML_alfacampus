{
 "cells": [
  {
   "cell_type": "code",
   "execution_count": 1,
   "metadata": {
    "collapsed": true,
    "ExecuteTime": {
     "start_time": "2023-04-23T20:58:45.520309Z",
     "end_time": "2023-04-23T20:58:47.152500Z"
    }
   },
   "outputs": [],
   "source": [
    "import pandas as pd\n",
    "import numpy as np"
   ]
  },
  {
   "cell_type": "code",
   "execution_count": 66,
   "outputs": [],
   "source": [
    "my_x_feature = pd.read_csv(\"../ourfeatures/my_bigX_version20.csv\")\n",
    "dataset_trainx = pd.read_parquet(\"../trains/dataset_train_small.parquet\")"
   ],
   "metadata": {
    "collapsed": false,
    "ExecuteTime": {
     "start_time": "2023-04-23T21:30:10.515207Z",
     "end_time": "2023-04-23T21:30:17.457209Z"
    }
   }
  },
  {
   "cell_type": "code",
   "execution_count": null,
   "outputs": [],
   "source": [],
   "metadata": {
    "collapsed": false
   }
  },
  {
   "cell_type": "code",
   "execution_count": 67,
   "outputs": [
    {
     "name": "stdout",
     "output_type": "stream",
     "text": [
      "['app_id' 'transaction_number_max' 'amnt_min' 'amnt_max' 'amnt_mean'\n",
      " 'amnt_median' 'currency_num_unique_values_x' 'currency_median'\n",
      " 'operation_type_group_median' 'operation_kind_median'\n",
      " 'income_flag_median' 'payment_system_median' 'ecommerce_flag_mean'\n",
      " 'days_before_min' 'days_before_mean' 'days_before_max'\n",
      " 'country_num_unique_values' 'country_median' 'city_num_unique_values'\n",
      " 'city_median' 'day_of_week_num_unique_values' 'day_of_week_mean'\n",
      " 'hour_diff_mean' 'mcc_category_mean' 'mcc_category_num_unique_values'\n",
      " 'mcc_category_median_x' 'currency_1' 'currency_10' 'currency_11'\n",
      " 'currency_2' 'currency_3' 'currency_4' 'currency_5' 'currency_6'\n",
      " 'currency_7' 'currency_8' 'currency_9' 'operation_type_group1'\n",
      " 'operation_type_group2' 'operation_type_group3' 'operation_type_group4'\n",
      " 'operation_kind1' 'operation_kind2' 'operation_kind3' 'operation_kind4'\n",
      " 'operation_kind5' 'operation_kind6' 'operation_kind7' 'income_flag1'\n",
      " 'income_flag2' 'income_flag3' 'payment_system1' 'payment_system2'\n",
      " 'payment_system3' 'payment_system4' 'payment_system5' 'payment_system6'\n",
      " 'payment_system7' 'ecommerce_flag1' 'ecommerce_flag2' 'ecommerce_flag3'\n",
      " 'product' 'weekofyear_num_unique_values' 'hour_num_unique_values'\n",
      " 'card_type_num_unique_values_x' 'days_before_num_unique_values'\n",
      " 'mcc_num_unique_values' 'operation_type_num_unique_values'\n",
      " 'currency_num_unique_values_y' 'operation_kind_num_unique_values'\n",
      " 'card_type_num_unique_values_y' 'operation_type_group_num_unique_values'\n",
      " 'ecommerce_flag_num_unique_values' 'payment_system_num_unique_values'\n",
      " 'mcc_median' 'mcc_category_median_y' 'mcc_category1' 'mcc_category10'\n",
      " 'mcc_category11' 'mcc_category12' 'mcc_category13' 'mcc_category14'\n",
      " 'mcc_category15' 'mcc_category16' 'mcc_category17' 'mcc_category18'\n",
      " 'mcc_category19' 'mcc_category2' 'mcc_category20' 'mcc_category21'\n",
      " 'mcc_category22' 'mcc_category23' 'mcc_category24' 'mcc_category25'\n",
      " 'mcc_category26' 'mcc_category27' 'mcc_category28' 'mcc_category3'\n",
      " 'mcc_category4' 'mcc_category5' 'mcc_category6' 'mcc_category7'\n",
      " 'mcc_category8' 'mcc_category9' 'mcountry_1' 'mcountry_10' 'mcountry_11'\n",
      " 'mcountry_12' 'mcountry_13' 'mcountry_14' 'mcountry_15' 'mcountry_16'\n",
      " 'mcountry_17' 'mcountry_18' 'mcountry_19' 'mcountry_2' 'mcountry_20'\n",
      " 'mcountry_21' 'mcountry_22' 'mcountry_23' 'mcountry_24' 'mcountry_3'\n",
      " 'mcountry_4' 'mcountry_5' 'mcountry_6' 'mcountry_7' 'mcountry_8'\n",
      " 'mcountry_9' 'mymcc1' 'mymcc10' 'mymcc100' 'mymcc101' 'mymcc102'\n",
      " 'mymcc103' 'mymcc104' 'mymcc105' 'mymcc106' 'mymcc107' 'mymcc108'\n",
      " 'mymcc11' 'mymcc12' 'mymcc13' 'mymcc14' 'mymcc15' 'mymcc16' 'mymcc17'\n",
      " 'mymcc18' 'mymcc19' 'mymcc2' 'mymcc20' 'mymcc21' 'mymcc22' 'mymcc23'\n",
      " 'mymcc24' 'mymcc25' 'mymcc26' 'mymcc27' 'mymcc28' 'mymcc29' 'mymcc3'\n",
      " 'mymcc30' 'mymcc31' 'mymcc32' 'mymcc33' 'mymcc34' 'mymcc35' 'mymcc36'\n",
      " 'mymcc37' 'mymcc38' 'mymcc39' 'mymcc4' 'mymcc40' 'mymcc41' 'mymcc42'\n",
      " 'mymcc43' 'mymcc44' 'mymcc45' 'mymcc46' 'mymcc47' 'mymcc48' 'mymcc49'\n",
      " 'mymcc5' 'mymcc50' 'mymcc51' 'mymcc52' 'mymcc53' 'mymcc54' 'mymcc55'\n",
      " 'mymcc56' 'mymcc57' 'mymcc58' 'mymcc59' 'mymcc6' 'mymcc60' 'mymcc61'\n",
      " 'mymcc62' 'mymcc63' 'mymcc64' 'mymcc65' 'mymcc66' 'mymcc67' 'mymcc68'\n",
      " 'mymcc69' 'mymcc7' 'mymcc70' 'mymcc71' 'mymcc72' 'mymcc73' 'mymcc74'\n",
      " 'mymcc75' 'mymcc76' 'mymcc77' 'mymcc78' 'mymcc79' 'mymcc8' 'mymcc80'\n",
      " 'mymcc81' 'mymcc82' 'mymcc83' 'mymcc84' 'mymcc85' 'mymcc86' 'mymcc87'\n",
      " 'mymcc88' 'mymcc89' 'mymcc9' 'mymcc90' 'mymcc91' 'mymcc92' 'mymcc93'\n",
      " 'mymcc94' 'mymcc95' 'mymcc96' 'mymcc97' 'mymcc98' 'mymcc99'\n",
      " 'day_before_std' 'amnt_std' \"('city', 'median')\"\n",
      " \"('day_of_week', 'count')\" \"('day_of_week', 'median')\"\n",
      " \"('hour', 'count')\" \"('hour', 'median')\" \"('weekofyear', 'count')\"\n",
      " \"('weekofyear', 'median')\" \"('hour_diff', 'count')\"\n",
      " \"('hour_diff', 'median')\" \"('mycity_1', '')\" \"('mycity_10', '')\"\n",
      " \"('mycity_100', '')\" \"('mycity_101', '')\" \"('mycity_102', '')\"\n",
      " \"('mycity_103', '')\" \"('mycity_104', '')\" \"('mycity_105', '')\"\n",
      " \"('mycity_106', '')\" \"('mycity_107', '')\" \"('mycity_108', '')\"\n",
      " \"('mycity_109', '')\" \"('mycity_11', '')\" \"('mycity_110', '')\"\n",
      " \"('mycity_111', '')\" \"('mycity_112', '')\" \"('mycity_113', '')\"\n",
      " \"('mycity_114', '')\" \"('mycity_115', '')\" \"('mycity_116', '')\"\n",
      " \"('mycity_117', '')\" \"('mycity_118', '')\" \"('mycity_119', '')\"\n",
      " \"('mycity_12', '')\" \"('mycity_120', '')\" \"('mycity_121', '')\"\n",
      " \"('mycity_122', '')\" \"('mycity_123', '')\" \"('mycity_124', '')\"\n",
      " \"('mycity_125', '')\" \"('mycity_126', '')\" \"('mycity_127', '')\"\n",
      " \"('mycity_128', '')\" \"('mycity_129', '')\" \"('mycity_13', '')\"\n",
      " \"('mycity_130', '')\" \"('mycity_131', '')\" \"('mycity_132', '')\"\n",
      " \"('mycity_133', '')\" \"('mycity_134', '')\" \"('mycity_135', '')\"\n",
      " \"('mycity_136', '')\" \"('mycity_137', '')\" \"('mycity_138', '')\"\n",
      " \"('mycity_139', '')\" \"('mycity_14', '')\" \"('mycity_140', '')\"\n",
      " \"('mycity_141', '')\" \"('mycity_142', '')\" \"('mycity_143', '')\"\n",
      " \"('mycity_144', '')\" \"('mycity_145', '')\" \"('mycity_146', '')\"\n",
      " \"('mycity_147', '')\" \"('mycity_148', '')\" \"('mycity_149', '')\"\n",
      " \"('mycity_15', '')\" \"('mycity_150', '')\" \"('mycity_151', '')\"\n",
      " \"('mycity_152', '')\" \"('mycity_153', '')\" \"('mycity_154', '')\"\n",
      " \"('mycity_155', '')\" \"('mycity_156', '')\" \"('mycity_157', '')\"\n",
      " \"('mycity_158', '')\" \"('mycity_159', '')\" \"('mycity_16', '')\"\n",
      " \"('mycity_160', '')\" \"('mycity_161', '')\" \"('mycity_162', '')\"\n",
      " \"('mycity_163', '')\" \"('mycity_17', '')\" \"('mycity_18', '')\"\n",
      " \"('mycity_19', '')\" \"('mycity_2', '')\" \"('mycity_20', '')\"\n",
      " \"('mycity_21', '')\" \"('mycity_22', '')\" \"('mycity_23', '')\"\n",
      " \"('mycity_24', '')\" \"('mycity_25', '')\" \"('mycity_26', '')\"\n",
      " \"('mycity_27', '')\" \"('mycity_28', '')\" \"('mycity_29', '')\"\n",
      " \"('mycity_3', '')\" \"('mycity_30', '')\" \"('mycity_31', '')\"\n",
      " \"('mycity_32', '')\" \"('mycity_33', '')\" \"('mycity_34', '')\"\n",
      " \"('mycity_35', '')\" \"('mycity_36', '')\" \"('mycity_37', '')\"\n",
      " \"('mycity_38', '')\" \"('mycity_39', '')\" \"('mycity_4', '')\"\n",
      " \"('mycity_40', '')\" \"('mycity_41', '')\" \"('mycity_42', '')\"\n",
      " \"('mycity_43', '')\" \"('mycity_44', '')\" \"('mycity_45', '')\"\n",
      " \"('mycity_46', '')\" \"('mycity_47', '')\" \"('mycity_48', '')\"\n",
      " \"('mycity_49', '')\" \"('mycity_5', '')\" \"('mycity_50', '')\"\n",
      " \"('mycity_51', '')\" \"('mycity_52', '')\" \"('mycity_53', '')\"\n",
      " \"('mycity_54', '')\" \"('mycity_55', '')\" \"('mycity_56', '')\"\n",
      " \"('mycity_57', '')\" \"('mycity_58', '')\" \"('mycity_59', '')\"\n",
      " \"('mycity_6', '')\" \"('mycity_60', '')\" \"('mycity_61', '')\"\n",
      " \"('mycity_62', '')\" \"('mycity_63', '')\" \"('mycity_64', '')\"\n",
      " \"('mycity_65', '')\" \"('mycity_66', '')\" \"('mycity_67', '')\"\n",
      " \"('mycity_68', '')\" \"('mycity_69', '')\" \"('mycity_7', '')\"\n",
      " \"('mycity_70', '')\" \"('mycity_71', '')\" \"('mycity_72', '')\"\n",
      " \"('mycity_73', '')\" \"('mycity_74', '')\" \"('mycity_75', '')\"\n",
      " \"('mycity_76', '')\" \"('mycity_77', '')\" \"('mycity_78', '')\"\n",
      " \"('mycity_79', '')\" \"('mycity_8', '')\" \"('mycity_80', '')\"\n",
      " \"('mycity_81', '')\" \"('mycity_82', '')\" \"('mycity_83', '')\"\n",
      " \"('mycity_84', '')\" \"('mycity_85', '')\" \"('mycity_86', '')\"\n",
      " \"('mycity_87', '')\" \"('mycity_88', '')\" \"('mycity_89', '')\"\n",
      " \"('mycity_9', '')\" \"('mycity_90', '')\" \"('mycity_91', '')\"\n",
      " \"('mycity_92', '')\" \"('mycity_93', '')\" \"('mycity_94', '')\"\n",
      " \"('mycity_95', '')\" \"('mycity_96', '')\" \"('mycity_97', '')\"\n",
      " \"('mycity_98', '')\" \"('mycity_99', '')\"]\n"
     ]
    }
   ],
   "source": [
    "print(my_x_feature.columns.values)"
   ],
   "metadata": {
    "collapsed": false,
    "ExecuteTime": {
     "start_time": "2023-04-23T21:30:18.591426Z",
     "end_time": "2023-04-23T21:30:18.595081Z"
    }
   }
  },
  {
   "cell_type": "code",
   "execution_count": 70,
   "outputs": [
    {
     "data": {
      "text/plain": "410"
     },
     "execution_count": 70,
     "metadata": {},
     "output_type": "execute_result"
    }
   ],
   "source": [
    "len(my_x_feature.columns)"
   ],
   "metadata": {
    "collapsed": false,
    "ExecuteTime": {
     "start_time": "2023-04-23T21:30:53.731265Z",
     "end_time": "2023-04-23T21:30:53.735703Z"
    }
   }
  },
  {
   "cell_type": "code",
   "execution_count": 69,
   "outputs": [],
   "source": [
    "my_testx_feature = pd.read_csv(\"../ourfeatures/my_bigtestX_version20.csv\")\n",
    "dataset_testx = pd.read_parquet(\"../trains/dataset_test.parquet\")"
   ],
   "metadata": {
    "collapsed": false,
    "ExecuteTime": {
     "start_time": "2023-04-23T21:30:39.642312Z",
     "end_time": "2023-04-23T21:30:42.711810Z"
    }
   }
  },
  {
   "cell_type": "code",
   "execution_count": null,
   "outputs": [],
   "source": [
    "def delete_columns(column_list: list, dataset: pd.DataFrame):\n",
    "    new_dataset = dataset.drop(column_list, axis=1)\n",
    "    return new_dataset"
   ],
   "metadata": {
    "collapsed": false,
    "ExecuteTime": {
     "start_time": "2023-04-22T22:48:27.416111Z",
     "end_time": "2023-04-22T22:48:27.430283Z"
    }
   }
  },
  {
   "cell_type": "code",
   "execution_count": 214,
   "outputs": [
    {
     "data": {
      "text/plain": "         app_id  transaction_number_max  amnt_min  amnt_max  amnt_mean  \\\n0        805133                      16  0.271738  0.562335   0.364273   \n1        805134                      11  0.290811  0.657194   0.424697   \n2        805135                     242  0.000000  0.646036   0.387859   \n3        805136                      33  0.000000  0.560044   0.344616   \n4        805137                      23  0.196203  0.582099   0.358440   \n...         ...                     ...       ...       ...        ...   \n187617  1003045                       8  0.423667  0.507530   0.450073   \n187618  1003047                      52  0.000000  0.652660   0.389890   \n187619  1003048                     112  0.225878  0.683797   0.404899   \n187620  1003049                       6  0.345373  0.510295   0.478856   \n187621  1003050                     244  0.166103  0.491829   0.302297   \n\n        amnt_median  currency_num_unique_values_x  currency_median  \\\n0          0.348838                             1              1.0   \n1          0.356660                             1              1.0   \n2          0.390598                             1              1.0   \n3          0.350662                             1              1.0   \n4          0.339223                             1              1.0   \n...             ...                           ...              ...   \n187617     0.433150                             1              1.0   \n187618     0.410727                             1              1.0   \n187619     0.387677                             2              1.0   \n187620     0.505177                             1              1.0   \n187621     0.304067                             1              1.0   \n\n        operation_type_group_median  operation_kind_median  ...  mycity_90  \\\n0                               1.0                    1.0  ...          0   \n1                               1.0                    1.0  ...          0   \n2                               1.0                    1.0  ...          0   \n3                               1.0                    1.0  ...          0   \n4                               1.0                    1.0  ...          0   \n...                             ...                    ...  ...        ...   \n187617                          1.0                    3.0  ...          0   \n187618                          1.0                    1.0  ...          0   \n187619                          1.0                    1.0  ...          0   \n187620                          1.0                    2.0  ...          0   \n187621                          1.0                    1.0  ...          0   \n\n        mycity_91  mycity_92  mycity_93  mycity_94  mycity_95  mycity_96  \\\n0               0          0          0          0          0          0   \n1               0          0          0          0          0          0   \n2               0          0          0          0          0          0   \n3               0          0          0          0          0          0   \n4               0          0          0          0          0          0   \n...           ...        ...        ...        ...        ...        ...   \n187617          0          0          0          0          0          0   \n187618          0          0          0          0          0          0   \n187619          0          0          0          0          0          0   \n187620          0          0          0          0          0          0   \n187621          0          0          0          0          0          0   \n\n        mycity_97  mycity_98  mycity_99  \n0               0          0          0  \n1               0          0          0  \n2               0          0          4  \n3               0          0          0  \n4               0          0          0  \n...           ...        ...        ...  \n187617          0          0          0  \n187618          0          0          0  \n187619          0          1          0  \n187620          0          0          0  \n187621          0          0          6  \n\n[187622 rows x 404 columns]",
      "text/html": "<div>\n<style scoped>\n    .dataframe tbody tr th:only-of-type {\n        vertical-align: middle;\n    }\n\n    .dataframe tbody tr th {\n        vertical-align: top;\n    }\n\n    .dataframe thead th {\n        text-align: right;\n    }\n</style>\n<table border=\"1\" class=\"dataframe\">\n  <thead>\n    <tr style=\"text-align: right;\">\n      <th></th>\n      <th>app_id</th>\n      <th>transaction_number_max</th>\n      <th>amnt_min</th>\n      <th>amnt_max</th>\n      <th>amnt_mean</th>\n      <th>amnt_median</th>\n      <th>currency_num_unique_values_x</th>\n      <th>currency_median</th>\n      <th>operation_type_group_median</th>\n      <th>operation_kind_median</th>\n      <th>...</th>\n      <th>mycity_90</th>\n      <th>mycity_91</th>\n      <th>mycity_92</th>\n      <th>mycity_93</th>\n      <th>mycity_94</th>\n      <th>mycity_95</th>\n      <th>mycity_96</th>\n      <th>mycity_97</th>\n      <th>mycity_98</th>\n      <th>mycity_99</th>\n    </tr>\n  </thead>\n  <tbody>\n    <tr>\n      <th>0</th>\n      <td>805133</td>\n      <td>16</td>\n      <td>0.271738</td>\n      <td>0.562335</td>\n      <td>0.364273</td>\n      <td>0.348838</td>\n      <td>1</td>\n      <td>1.0</td>\n      <td>1.0</td>\n      <td>1.0</td>\n      <td>...</td>\n      <td>0</td>\n      <td>0</td>\n      <td>0</td>\n      <td>0</td>\n      <td>0</td>\n      <td>0</td>\n      <td>0</td>\n      <td>0</td>\n      <td>0</td>\n      <td>0</td>\n    </tr>\n    <tr>\n      <th>1</th>\n      <td>805134</td>\n      <td>11</td>\n      <td>0.290811</td>\n      <td>0.657194</td>\n      <td>0.424697</td>\n      <td>0.356660</td>\n      <td>1</td>\n      <td>1.0</td>\n      <td>1.0</td>\n      <td>1.0</td>\n      <td>...</td>\n      <td>0</td>\n      <td>0</td>\n      <td>0</td>\n      <td>0</td>\n      <td>0</td>\n      <td>0</td>\n      <td>0</td>\n      <td>0</td>\n      <td>0</td>\n      <td>0</td>\n    </tr>\n    <tr>\n      <th>2</th>\n      <td>805135</td>\n      <td>242</td>\n      <td>0.000000</td>\n      <td>0.646036</td>\n      <td>0.387859</td>\n      <td>0.390598</td>\n      <td>1</td>\n      <td>1.0</td>\n      <td>1.0</td>\n      <td>1.0</td>\n      <td>...</td>\n      <td>0</td>\n      <td>0</td>\n      <td>0</td>\n      <td>0</td>\n      <td>0</td>\n      <td>0</td>\n      <td>0</td>\n      <td>0</td>\n      <td>0</td>\n      <td>4</td>\n    </tr>\n    <tr>\n      <th>3</th>\n      <td>805136</td>\n      <td>33</td>\n      <td>0.000000</td>\n      <td>0.560044</td>\n      <td>0.344616</td>\n      <td>0.350662</td>\n      <td>1</td>\n      <td>1.0</td>\n      <td>1.0</td>\n      <td>1.0</td>\n      <td>...</td>\n      <td>0</td>\n      <td>0</td>\n      <td>0</td>\n      <td>0</td>\n      <td>0</td>\n      <td>0</td>\n      <td>0</td>\n      <td>0</td>\n      <td>0</td>\n      <td>0</td>\n    </tr>\n    <tr>\n      <th>4</th>\n      <td>805137</td>\n      <td>23</td>\n      <td>0.196203</td>\n      <td>0.582099</td>\n      <td>0.358440</td>\n      <td>0.339223</td>\n      <td>1</td>\n      <td>1.0</td>\n      <td>1.0</td>\n      <td>1.0</td>\n      <td>...</td>\n      <td>0</td>\n      <td>0</td>\n      <td>0</td>\n      <td>0</td>\n      <td>0</td>\n      <td>0</td>\n      <td>0</td>\n      <td>0</td>\n      <td>0</td>\n      <td>0</td>\n    </tr>\n    <tr>\n      <th>...</th>\n      <td>...</td>\n      <td>...</td>\n      <td>...</td>\n      <td>...</td>\n      <td>...</td>\n      <td>...</td>\n      <td>...</td>\n      <td>...</td>\n      <td>...</td>\n      <td>...</td>\n      <td>...</td>\n      <td>...</td>\n      <td>...</td>\n      <td>...</td>\n      <td>...</td>\n      <td>...</td>\n      <td>...</td>\n      <td>...</td>\n      <td>...</td>\n      <td>...</td>\n      <td>...</td>\n    </tr>\n    <tr>\n      <th>187617</th>\n      <td>1003045</td>\n      <td>8</td>\n      <td>0.423667</td>\n      <td>0.507530</td>\n      <td>0.450073</td>\n      <td>0.433150</td>\n      <td>1</td>\n      <td>1.0</td>\n      <td>1.0</td>\n      <td>3.0</td>\n      <td>...</td>\n      <td>0</td>\n      <td>0</td>\n      <td>0</td>\n      <td>0</td>\n      <td>0</td>\n      <td>0</td>\n      <td>0</td>\n      <td>0</td>\n      <td>0</td>\n      <td>0</td>\n    </tr>\n    <tr>\n      <th>187618</th>\n      <td>1003047</td>\n      <td>52</td>\n      <td>0.000000</td>\n      <td>0.652660</td>\n      <td>0.389890</td>\n      <td>0.410727</td>\n      <td>1</td>\n      <td>1.0</td>\n      <td>1.0</td>\n      <td>1.0</td>\n      <td>...</td>\n      <td>0</td>\n      <td>0</td>\n      <td>0</td>\n      <td>0</td>\n      <td>0</td>\n      <td>0</td>\n      <td>0</td>\n      <td>0</td>\n      <td>0</td>\n      <td>0</td>\n    </tr>\n    <tr>\n      <th>187619</th>\n      <td>1003048</td>\n      <td>112</td>\n      <td>0.225878</td>\n      <td>0.683797</td>\n      <td>0.404899</td>\n      <td>0.387677</td>\n      <td>2</td>\n      <td>1.0</td>\n      <td>1.0</td>\n      <td>1.0</td>\n      <td>...</td>\n      <td>0</td>\n      <td>0</td>\n      <td>0</td>\n      <td>0</td>\n      <td>0</td>\n      <td>0</td>\n      <td>0</td>\n      <td>0</td>\n      <td>1</td>\n      <td>0</td>\n    </tr>\n    <tr>\n      <th>187620</th>\n      <td>1003049</td>\n      <td>6</td>\n      <td>0.345373</td>\n      <td>0.510295</td>\n      <td>0.478856</td>\n      <td>0.505177</td>\n      <td>1</td>\n      <td>1.0</td>\n      <td>1.0</td>\n      <td>2.0</td>\n      <td>...</td>\n      <td>0</td>\n      <td>0</td>\n      <td>0</td>\n      <td>0</td>\n      <td>0</td>\n      <td>0</td>\n      <td>0</td>\n      <td>0</td>\n      <td>0</td>\n      <td>0</td>\n    </tr>\n    <tr>\n      <th>187621</th>\n      <td>1003050</td>\n      <td>244</td>\n      <td>0.166103</td>\n      <td>0.491829</td>\n      <td>0.302297</td>\n      <td>0.304067</td>\n      <td>1</td>\n      <td>1.0</td>\n      <td>1.0</td>\n      <td>1.0</td>\n      <td>...</td>\n      <td>0</td>\n      <td>0</td>\n      <td>0</td>\n      <td>0</td>\n      <td>0</td>\n      <td>0</td>\n      <td>0</td>\n      <td>0</td>\n      <td>0</td>\n      <td>6</td>\n    </tr>\n  </tbody>\n</table>\n<p>187622 rows × 404 columns</p>\n</div>"
     },
     "execution_count": 214,
     "metadata": {},
     "output_type": "execute_result"
    }
   ],
   "source": [
    "dataset_testx['city'].value_counts()"
   ],
   "metadata": {
    "collapsed": false,
    "ExecuteTime": {
     "start_time": "2023-04-23T18:57:35.168905Z",
     "end_time": "2023-04-23T18:57:35.188908Z"
    }
   }
  },
  {
   "cell_type": "code",
   "execution_count": 95,
   "outputs": [
    {
     "data": {
      "text/plain": "1      9569439\n2      4575564\n3      2042261\n4       963960\n5       888029\n        ...   \n162      11665\n151      10596\n160      10168\n156       9986\n131       7279\nName: city, Length: 163, dtype: int64"
     },
     "execution_count": 95,
     "metadata": {},
     "output_type": "execute_result"
    }
   ],
   "source": [
    "dataset_trainx['city'].value_counts()"
   ],
   "metadata": {
    "collapsed": false,
    "ExecuteTime": {
     "start_time": "2023-04-23T18:20:03.215737Z",
     "end_time": "2023-04-23T18:20:03.218333Z"
    }
   }
  },
  {
   "cell_type": "code",
   "execution_count": null,
   "outputs": [],
   "source": [
    "columns_to_delete = [\"mcc_median\", \"mcc_category_median_y\", \"operation_type_group_median\", \"income_flag_median\"]"
   ],
   "metadata": {
    "collapsed": false,
    "ExecuteTime": {
     "start_time": "2023-04-22T23:15:38.347724Z",
     "end_time": "2023-04-22T23:15:38.365757Z"
    }
   }
  },
  {
   "cell_type": "code",
   "execution_count": null,
   "outputs": [],
   "source": [
    "new_featurex = delete_columns(columns_to_delete, my_testx_feature)"
   ],
   "metadata": {
    "collapsed": false,
    "ExecuteTime": {
     "start_time": "2023-04-22T23:16:15.649136Z",
     "end_time": "2023-04-22T23:16:15.665151Z"
    }
   }
  },
  {
   "cell_type": "code",
   "execution_count": null,
   "outputs": [],
   "source": [
    "new_featurex.to_csv(\"../ourfeatures/my_bigtestX_version6.csv\", index=False)"
   ],
   "metadata": {
    "collapsed": false,
    "ExecuteTime": {
     "start_time": "2023-04-22T23:16:18.830956Z",
     "end_time": "2023-04-22T23:16:23.282709Z"
    }
   }
  },
  {
   "cell_type": "code",
   "execution_count": null,
   "outputs": [],
   "source": [],
   "metadata": {
    "collapsed": false,
    "ExecuteTime": {
     "start_time": "2023-04-22T22:05:39.343283Z",
     "end_time": "2023-04-22T22:05:41.994842Z"
    }
   }
  },
  {
   "cell_type": "code",
   "execution_count": 8,
   "outputs": [],
   "source": [
    "def new_columns(new_agg: dict, origin_dataset: pd.DataFrame):\n",
    "    new_dataset = origin_dataset.groupby(\"app_id\").agg(new_agg)\n",
    "    return new_dataset"
   ],
   "metadata": {
    "collapsed": false,
    "ExecuteTime": {
     "start_time": "2023-04-23T21:02:44.315183Z",
     "end_time": "2023-04-23T21:02:44.321260Z"
    }
   }
  },
  {
   "cell_type": "code",
   "execution_count": 6,
   "outputs": [],
   "source": [
    "def get_city_k(x):\n",
    "    my_uniq = x.value_counts()\n",
    "    return list(({k:my_uniq[k] if k in my_uniq else 0 for k in range(1, 164)} ).values())\n"
   ],
   "metadata": {
    "collapsed": false,
    "ExecuteTime": {
     "start_time": "2023-04-23T21:02:38.735766Z",
     "end_time": "2023-04-23T21:02:38.742957Z"
    }
   }
  },
  {
   "cell_type": "markdown",
   "source": [],
   "metadata": {
    "collapsed": false
   }
  },
  {
   "cell_type": "code",
   "execution_count": 41,
   "outputs": [],
   "source": [
    "new_columns_tofeaturex = new_columns({ \"city\": {get_city_k, \"median\"},\"day_of_week\": {\"median\", \"count\"}, \"hour\": {\"median\", \"count\"}, \"weekofyear\": {\"median\", \"count\"}, \"hour_diff\": {\"median\", \"count\"}}, dataset_trainx)"
   ],
   "metadata": {
    "collapsed": false,
    "ExecuteTime": {
     "start_time": "2023-04-23T21:21:29.027637Z",
     "end_time": "2023-04-23T21:23:07.364334Z"
    }
   }
  },
  {
   "cell_type": "code",
   "execution_count": null,
   "outputs": [],
   "source": [],
   "metadata": {
    "collapsed": false
   }
  },
  {
   "cell_type": "code",
   "execution_count": 51,
   "outputs": [
    {
     "data": {
      "text/plain": "MultiIndex([(       'city', 'median'),\n            ('day_of_week',  'count'),\n            ('day_of_week', 'median'),\n            (       'hour',  'count'),\n            (       'hour', 'median'),\n            ( 'weekofyear',  'count'),\n            ( 'weekofyear', 'median'),\n            (  'hour_diff',  'count'),\n            (  'hour_diff', 'median'),\n            (   'mycity_1',       ''),\n            ...\n            (  'mycity_90',       ''),\n            (  'mycity_91',       ''),\n            (  'mycity_92',       ''),\n            (  'mycity_93',       ''),\n            (  'mycity_94',       ''),\n            (  'mycity_95',       ''),\n            (  'mycity_96',       ''),\n            (  'mycity_97',       ''),\n            (  'mycity_98',       ''),\n            (  'mycity_99',       '')],\n           length=172)"
     },
     "execution_count": 51,
     "metadata": {},
     "output_type": "execute_result"
    }
   ],
   "source": [
    "new_columns_tofeaturex.columns"
   ],
   "metadata": {
    "collapsed": false,
    "ExecuteTime": {
     "start_time": "2023-04-23T21:26:25.793219Z",
     "end_time": "2023-04-23T21:26:25.798946Z"
    }
   }
  },
  {
   "cell_type": "code",
   "execution_count": 42,
   "outputs": [],
   "source": [
    "mynew_columns = sorted([\"mycity_\"+str(x) for x in list(dataset_trainx.city.value_counts().index)])"
   ],
   "metadata": {
    "collapsed": false,
    "ExecuteTime": {
     "start_time": "2023-04-23T21:24:01.767820Z",
     "end_time": "2023-04-23T21:24:01.770320Z"
    }
   }
  },
  {
   "cell_type": "code",
   "execution_count": 43,
   "outputs": [
    {
     "data": {
      "text/plain": "[]"
     },
     "execution_count": 43,
     "metadata": {},
     "output_type": "execute_result"
    }
   ],
   "source": [
    "[i for i in new_columns_tofeaturex.columns if new_columns_tofeaturex[i].isnull().any()]"
   ],
   "metadata": {
    "collapsed": false,
    "ExecuteTime": {
     "start_time": "2023-04-23T21:24:02.645916Z",
     "end_time": "2023-04-23T21:24:02.685228Z"
    }
   }
  },
  {
   "cell_type": "code",
   "execution_count": 44,
   "outputs": [
    {
     "name": "stderr",
     "output_type": "stream",
     "text": [
      "/var/folders/h_/rkj_xrj91990zkj2jpcn9b840000gn/T/ipykernel_779/2003333069.py:1: PerformanceWarning: DataFrame is highly fragmented.  This is usually the result of calling `frame.insert` many times, which has poor performance.  Consider joining all columns at once using pd.concat(axis=1) instead. To get a de-fragmented frame, use `newframe = frame.copy()`\n",
      "  new_columns_tofeaturex[mynew_columns] = new_columns_tofeaturex[\"city\"]['get_city_k'].to_list()\n",
      "/var/folders/h_/rkj_xrj91990zkj2jpcn9b840000gn/T/ipykernel_779/2003333069.py:1: PerformanceWarning: DataFrame is highly fragmented.  This is usually the result of calling `frame.insert` many times, which has poor performance.  Consider joining all columns at once using pd.concat(axis=1) instead. To get a de-fragmented frame, use `newframe = frame.copy()`\n",
      "  new_columns_tofeaturex[mynew_columns] = new_columns_tofeaturex[\"city\"]['get_city_k'].to_list()\n",
      "/var/folders/h_/rkj_xrj91990zkj2jpcn9b840000gn/T/ipykernel_779/2003333069.py:1: PerformanceWarning: DataFrame is highly fragmented.  This is usually the result of calling `frame.insert` many times, which has poor performance.  Consider joining all columns at once using pd.concat(axis=1) instead. To get a de-fragmented frame, use `newframe = frame.copy()`\n",
      "  new_columns_tofeaturex[mynew_columns] = new_columns_tofeaturex[\"city\"]['get_city_k'].to_list()\n",
      "/var/folders/h_/rkj_xrj91990zkj2jpcn9b840000gn/T/ipykernel_779/2003333069.py:1: PerformanceWarning: DataFrame is highly fragmented.  This is usually the result of calling `frame.insert` many times, which has poor performance.  Consider joining all columns at once using pd.concat(axis=1) instead. To get a de-fragmented frame, use `newframe = frame.copy()`\n",
      "  new_columns_tofeaturex[mynew_columns] = new_columns_tofeaturex[\"city\"]['get_city_k'].to_list()\n",
      "/var/folders/h_/rkj_xrj91990zkj2jpcn9b840000gn/T/ipykernel_779/2003333069.py:1: PerformanceWarning: DataFrame is highly fragmented.  This is usually the result of calling `frame.insert` many times, which has poor performance.  Consider joining all columns at once using pd.concat(axis=1) instead. To get a de-fragmented frame, use `newframe = frame.copy()`\n",
      "  new_columns_tofeaturex[mynew_columns] = new_columns_tofeaturex[\"city\"]['get_city_k'].to_list()\n",
      "/var/folders/h_/rkj_xrj91990zkj2jpcn9b840000gn/T/ipykernel_779/2003333069.py:1: PerformanceWarning: DataFrame is highly fragmented.  This is usually the result of calling `frame.insert` many times, which has poor performance.  Consider joining all columns at once using pd.concat(axis=1) instead. To get a de-fragmented frame, use `newframe = frame.copy()`\n",
      "  new_columns_tofeaturex[mynew_columns] = new_columns_tofeaturex[\"city\"]['get_city_k'].to_list()\n",
      "/var/folders/h_/rkj_xrj91990zkj2jpcn9b840000gn/T/ipykernel_779/2003333069.py:1: PerformanceWarning: DataFrame is highly fragmented.  This is usually the result of calling `frame.insert` many times, which has poor performance.  Consider joining all columns at once using pd.concat(axis=1) instead. To get a de-fragmented frame, use `newframe = frame.copy()`\n",
      "  new_columns_tofeaturex[mynew_columns] = new_columns_tofeaturex[\"city\"]['get_city_k'].to_list()\n",
      "/var/folders/h_/rkj_xrj91990zkj2jpcn9b840000gn/T/ipykernel_779/2003333069.py:1: PerformanceWarning: DataFrame is highly fragmented.  This is usually the result of calling `frame.insert` many times, which has poor performance.  Consider joining all columns at once using pd.concat(axis=1) instead. To get a de-fragmented frame, use `newframe = frame.copy()`\n",
      "  new_columns_tofeaturex[mynew_columns] = new_columns_tofeaturex[\"city\"]['get_city_k'].to_list()\n",
      "/var/folders/h_/rkj_xrj91990zkj2jpcn9b840000gn/T/ipykernel_779/2003333069.py:1: PerformanceWarning: DataFrame is highly fragmented.  This is usually the result of calling `frame.insert` many times, which has poor performance.  Consider joining all columns at once using pd.concat(axis=1) instead. To get a de-fragmented frame, use `newframe = frame.copy()`\n",
      "  new_columns_tofeaturex[mynew_columns] = new_columns_tofeaturex[\"city\"]['get_city_k'].to_list()\n",
      "/var/folders/h_/rkj_xrj91990zkj2jpcn9b840000gn/T/ipykernel_779/2003333069.py:1: PerformanceWarning: DataFrame is highly fragmented.  This is usually the result of calling `frame.insert` many times, which has poor performance.  Consider joining all columns at once using pd.concat(axis=1) instead. To get a de-fragmented frame, use `newframe = frame.copy()`\n",
      "  new_columns_tofeaturex[mynew_columns] = new_columns_tofeaturex[\"city\"]['get_city_k'].to_list()\n",
      "/var/folders/h_/rkj_xrj91990zkj2jpcn9b840000gn/T/ipykernel_779/2003333069.py:1: PerformanceWarning: DataFrame is highly fragmented.  This is usually the result of calling `frame.insert` many times, which has poor performance.  Consider joining all columns at once using pd.concat(axis=1) instead. To get a de-fragmented frame, use `newframe = frame.copy()`\n",
      "  new_columns_tofeaturex[mynew_columns] = new_columns_tofeaturex[\"city\"]['get_city_k'].to_list()\n",
      "/var/folders/h_/rkj_xrj91990zkj2jpcn9b840000gn/T/ipykernel_779/2003333069.py:1: PerformanceWarning: DataFrame is highly fragmented.  This is usually the result of calling `frame.insert` many times, which has poor performance.  Consider joining all columns at once using pd.concat(axis=1) instead. To get a de-fragmented frame, use `newframe = frame.copy()`\n",
      "  new_columns_tofeaturex[mynew_columns] = new_columns_tofeaturex[\"city\"]['get_city_k'].to_list()\n",
      "/var/folders/h_/rkj_xrj91990zkj2jpcn9b840000gn/T/ipykernel_779/2003333069.py:1: PerformanceWarning: DataFrame is highly fragmented.  This is usually the result of calling `frame.insert` many times, which has poor performance.  Consider joining all columns at once using pd.concat(axis=1) instead. To get a de-fragmented frame, use `newframe = frame.copy()`\n",
      "  new_columns_tofeaturex[mynew_columns] = new_columns_tofeaturex[\"city\"]['get_city_k'].to_list()\n",
      "/var/folders/h_/rkj_xrj91990zkj2jpcn9b840000gn/T/ipykernel_779/2003333069.py:1: PerformanceWarning: DataFrame is highly fragmented.  This is usually the result of calling `frame.insert` many times, which has poor performance.  Consider joining all columns at once using pd.concat(axis=1) instead. To get a de-fragmented frame, use `newframe = frame.copy()`\n",
      "  new_columns_tofeaturex[mynew_columns] = new_columns_tofeaturex[\"city\"]['get_city_k'].to_list()\n",
      "/var/folders/h_/rkj_xrj91990zkj2jpcn9b840000gn/T/ipykernel_779/2003333069.py:1: PerformanceWarning: DataFrame is highly fragmented.  This is usually the result of calling `frame.insert` many times, which has poor performance.  Consider joining all columns at once using pd.concat(axis=1) instead. To get a de-fragmented frame, use `newframe = frame.copy()`\n",
      "  new_columns_tofeaturex[mynew_columns] = new_columns_tofeaturex[\"city\"]['get_city_k'].to_list()\n",
      "/var/folders/h_/rkj_xrj91990zkj2jpcn9b840000gn/T/ipykernel_779/2003333069.py:1: PerformanceWarning: DataFrame is highly fragmented.  This is usually the result of calling `frame.insert` many times, which has poor performance.  Consider joining all columns at once using pd.concat(axis=1) instead. To get a de-fragmented frame, use `newframe = frame.copy()`\n",
      "  new_columns_tofeaturex[mynew_columns] = new_columns_tofeaturex[\"city\"]['get_city_k'].to_list()\n",
      "/var/folders/h_/rkj_xrj91990zkj2jpcn9b840000gn/T/ipykernel_779/2003333069.py:1: PerformanceWarning: DataFrame is highly fragmented.  This is usually the result of calling `frame.insert` many times, which has poor performance.  Consider joining all columns at once using pd.concat(axis=1) instead. To get a de-fragmented frame, use `newframe = frame.copy()`\n",
      "  new_columns_tofeaturex[mynew_columns] = new_columns_tofeaturex[\"city\"]['get_city_k'].to_list()\n",
      "/var/folders/h_/rkj_xrj91990zkj2jpcn9b840000gn/T/ipykernel_779/2003333069.py:1: PerformanceWarning: DataFrame is highly fragmented.  This is usually the result of calling `frame.insert` many times, which has poor performance.  Consider joining all columns at once using pd.concat(axis=1) instead. To get a de-fragmented frame, use `newframe = frame.copy()`\n",
      "  new_columns_tofeaturex[mynew_columns] = new_columns_tofeaturex[\"city\"]['get_city_k'].to_list()\n",
      "/var/folders/h_/rkj_xrj91990zkj2jpcn9b840000gn/T/ipykernel_779/2003333069.py:1: PerformanceWarning: DataFrame is highly fragmented.  This is usually the result of calling `frame.insert` many times, which has poor performance.  Consider joining all columns at once using pd.concat(axis=1) instead. To get a de-fragmented frame, use `newframe = frame.copy()`\n",
      "  new_columns_tofeaturex[mynew_columns] = new_columns_tofeaturex[\"city\"]['get_city_k'].to_list()\n",
      "/var/folders/h_/rkj_xrj91990zkj2jpcn9b840000gn/T/ipykernel_779/2003333069.py:1: PerformanceWarning: DataFrame is highly fragmented.  This is usually the result of calling `frame.insert` many times, which has poor performance.  Consider joining all columns at once using pd.concat(axis=1) instead. To get a de-fragmented frame, use `newframe = frame.copy()`\n",
      "  new_columns_tofeaturex[mynew_columns] = new_columns_tofeaturex[\"city\"]['get_city_k'].to_list()\n",
      "/var/folders/h_/rkj_xrj91990zkj2jpcn9b840000gn/T/ipykernel_779/2003333069.py:1: PerformanceWarning: DataFrame is highly fragmented.  This is usually the result of calling `frame.insert` many times, which has poor performance.  Consider joining all columns at once using pd.concat(axis=1) instead. To get a de-fragmented frame, use `newframe = frame.copy()`\n",
      "  new_columns_tofeaturex[mynew_columns] = new_columns_tofeaturex[\"city\"]['get_city_k'].to_list()\n",
      "/var/folders/h_/rkj_xrj91990zkj2jpcn9b840000gn/T/ipykernel_779/2003333069.py:1: PerformanceWarning: DataFrame is highly fragmented.  This is usually the result of calling `frame.insert` many times, which has poor performance.  Consider joining all columns at once using pd.concat(axis=1) instead. To get a de-fragmented frame, use `newframe = frame.copy()`\n",
      "  new_columns_tofeaturex[mynew_columns] = new_columns_tofeaturex[\"city\"]['get_city_k'].to_list()\n",
      "/var/folders/h_/rkj_xrj91990zkj2jpcn9b840000gn/T/ipykernel_779/2003333069.py:1: PerformanceWarning: DataFrame is highly fragmented.  This is usually the result of calling `frame.insert` many times, which has poor performance.  Consider joining all columns at once using pd.concat(axis=1) instead. To get a de-fragmented frame, use `newframe = frame.copy()`\n",
      "  new_columns_tofeaturex[mynew_columns] = new_columns_tofeaturex[\"city\"]['get_city_k'].to_list()\n",
      "/var/folders/h_/rkj_xrj91990zkj2jpcn9b840000gn/T/ipykernel_779/2003333069.py:1: PerformanceWarning: DataFrame is highly fragmented.  This is usually the result of calling `frame.insert` many times, which has poor performance.  Consider joining all columns at once using pd.concat(axis=1) instead. To get a de-fragmented frame, use `newframe = frame.copy()`\n",
      "  new_columns_tofeaturex[mynew_columns] = new_columns_tofeaturex[\"city\"]['get_city_k'].to_list()\n",
      "/var/folders/h_/rkj_xrj91990zkj2jpcn9b840000gn/T/ipykernel_779/2003333069.py:1: PerformanceWarning: DataFrame is highly fragmented.  This is usually the result of calling `frame.insert` many times, which has poor performance.  Consider joining all columns at once using pd.concat(axis=1) instead. To get a de-fragmented frame, use `newframe = frame.copy()`\n",
      "  new_columns_tofeaturex[mynew_columns] = new_columns_tofeaturex[\"city\"]['get_city_k'].to_list()\n",
      "/var/folders/h_/rkj_xrj91990zkj2jpcn9b840000gn/T/ipykernel_779/2003333069.py:1: PerformanceWarning: DataFrame is highly fragmented.  This is usually the result of calling `frame.insert` many times, which has poor performance.  Consider joining all columns at once using pd.concat(axis=1) instead. To get a de-fragmented frame, use `newframe = frame.copy()`\n",
      "  new_columns_tofeaturex[mynew_columns] = new_columns_tofeaturex[\"city\"]['get_city_k'].to_list()\n",
      "/var/folders/h_/rkj_xrj91990zkj2jpcn9b840000gn/T/ipykernel_779/2003333069.py:1: PerformanceWarning: DataFrame is highly fragmented.  This is usually the result of calling `frame.insert` many times, which has poor performance.  Consider joining all columns at once using pd.concat(axis=1) instead. To get a de-fragmented frame, use `newframe = frame.copy()`\n",
      "  new_columns_tofeaturex[mynew_columns] = new_columns_tofeaturex[\"city\"]['get_city_k'].to_list()\n",
      "/var/folders/h_/rkj_xrj91990zkj2jpcn9b840000gn/T/ipykernel_779/2003333069.py:1: PerformanceWarning: DataFrame is highly fragmented.  This is usually the result of calling `frame.insert` many times, which has poor performance.  Consider joining all columns at once using pd.concat(axis=1) instead. To get a de-fragmented frame, use `newframe = frame.copy()`\n",
      "  new_columns_tofeaturex[mynew_columns] = new_columns_tofeaturex[\"city\"]['get_city_k'].to_list()\n",
      "/var/folders/h_/rkj_xrj91990zkj2jpcn9b840000gn/T/ipykernel_779/2003333069.py:1: PerformanceWarning: DataFrame is highly fragmented.  This is usually the result of calling `frame.insert` many times, which has poor performance.  Consider joining all columns at once using pd.concat(axis=1) instead. To get a de-fragmented frame, use `newframe = frame.copy()`\n",
      "  new_columns_tofeaturex[mynew_columns] = new_columns_tofeaturex[\"city\"]['get_city_k'].to_list()\n",
      "/var/folders/h_/rkj_xrj91990zkj2jpcn9b840000gn/T/ipykernel_779/2003333069.py:1: PerformanceWarning: DataFrame is highly fragmented.  This is usually the result of calling `frame.insert` many times, which has poor performance.  Consider joining all columns at once using pd.concat(axis=1) instead. To get a de-fragmented frame, use `newframe = frame.copy()`\n",
      "  new_columns_tofeaturex[mynew_columns] = new_columns_tofeaturex[\"city\"]['get_city_k'].to_list()\n",
      "/var/folders/h_/rkj_xrj91990zkj2jpcn9b840000gn/T/ipykernel_779/2003333069.py:1: PerformanceWarning: DataFrame is highly fragmented.  This is usually the result of calling `frame.insert` many times, which has poor performance.  Consider joining all columns at once using pd.concat(axis=1) instead. To get a de-fragmented frame, use `newframe = frame.copy()`\n",
      "  new_columns_tofeaturex[mynew_columns] = new_columns_tofeaturex[\"city\"]['get_city_k'].to_list()\n",
      "/var/folders/h_/rkj_xrj91990zkj2jpcn9b840000gn/T/ipykernel_779/2003333069.py:1: PerformanceWarning: DataFrame is highly fragmented.  This is usually the result of calling `frame.insert` many times, which has poor performance.  Consider joining all columns at once using pd.concat(axis=1) instead. To get a de-fragmented frame, use `newframe = frame.copy()`\n",
      "  new_columns_tofeaturex[mynew_columns] = new_columns_tofeaturex[\"city\"]['get_city_k'].to_list()\n",
      "/var/folders/h_/rkj_xrj91990zkj2jpcn9b840000gn/T/ipykernel_779/2003333069.py:1: PerformanceWarning: DataFrame is highly fragmented.  This is usually the result of calling `frame.insert` many times, which has poor performance.  Consider joining all columns at once using pd.concat(axis=1) instead. To get a de-fragmented frame, use `newframe = frame.copy()`\n",
      "  new_columns_tofeaturex[mynew_columns] = new_columns_tofeaturex[\"city\"]['get_city_k'].to_list()\n",
      "/var/folders/h_/rkj_xrj91990zkj2jpcn9b840000gn/T/ipykernel_779/2003333069.py:1: PerformanceWarning: DataFrame is highly fragmented.  This is usually the result of calling `frame.insert` many times, which has poor performance.  Consider joining all columns at once using pd.concat(axis=1) instead. To get a de-fragmented frame, use `newframe = frame.copy()`\n",
      "  new_columns_tofeaturex[mynew_columns] = new_columns_tofeaturex[\"city\"]['get_city_k'].to_list()\n",
      "/var/folders/h_/rkj_xrj91990zkj2jpcn9b840000gn/T/ipykernel_779/2003333069.py:1: PerformanceWarning: DataFrame is highly fragmented.  This is usually the result of calling `frame.insert` many times, which has poor performance.  Consider joining all columns at once using pd.concat(axis=1) instead. To get a de-fragmented frame, use `newframe = frame.copy()`\n",
      "  new_columns_tofeaturex[mynew_columns] = new_columns_tofeaturex[\"city\"]['get_city_k'].to_list()\n",
      "/var/folders/h_/rkj_xrj91990zkj2jpcn9b840000gn/T/ipykernel_779/2003333069.py:1: PerformanceWarning: DataFrame is highly fragmented.  This is usually the result of calling `frame.insert` many times, which has poor performance.  Consider joining all columns at once using pd.concat(axis=1) instead. To get a de-fragmented frame, use `newframe = frame.copy()`\n",
      "  new_columns_tofeaturex[mynew_columns] = new_columns_tofeaturex[\"city\"]['get_city_k'].to_list()\n",
      "/var/folders/h_/rkj_xrj91990zkj2jpcn9b840000gn/T/ipykernel_779/2003333069.py:1: PerformanceWarning: DataFrame is highly fragmented.  This is usually the result of calling `frame.insert` many times, which has poor performance.  Consider joining all columns at once using pd.concat(axis=1) instead. To get a de-fragmented frame, use `newframe = frame.copy()`\n",
      "  new_columns_tofeaturex[mynew_columns] = new_columns_tofeaturex[\"city\"]['get_city_k'].to_list()\n",
      "/var/folders/h_/rkj_xrj91990zkj2jpcn9b840000gn/T/ipykernel_779/2003333069.py:1: PerformanceWarning: DataFrame is highly fragmented.  This is usually the result of calling `frame.insert` many times, which has poor performance.  Consider joining all columns at once using pd.concat(axis=1) instead. To get a de-fragmented frame, use `newframe = frame.copy()`\n",
      "  new_columns_tofeaturex[mynew_columns] = new_columns_tofeaturex[\"city\"]['get_city_k'].to_list()\n",
      "/var/folders/h_/rkj_xrj91990zkj2jpcn9b840000gn/T/ipykernel_779/2003333069.py:1: PerformanceWarning: DataFrame is highly fragmented.  This is usually the result of calling `frame.insert` many times, which has poor performance.  Consider joining all columns at once using pd.concat(axis=1) instead. To get a de-fragmented frame, use `newframe = frame.copy()`\n",
      "  new_columns_tofeaturex[mynew_columns] = new_columns_tofeaturex[\"city\"]['get_city_k'].to_list()\n",
      "/var/folders/h_/rkj_xrj91990zkj2jpcn9b840000gn/T/ipykernel_779/2003333069.py:1: PerformanceWarning: DataFrame is highly fragmented.  This is usually the result of calling `frame.insert` many times, which has poor performance.  Consider joining all columns at once using pd.concat(axis=1) instead. To get a de-fragmented frame, use `newframe = frame.copy()`\n",
      "  new_columns_tofeaturex[mynew_columns] = new_columns_tofeaturex[\"city\"]['get_city_k'].to_list()\n",
      "/var/folders/h_/rkj_xrj91990zkj2jpcn9b840000gn/T/ipykernel_779/2003333069.py:1: PerformanceWarning: DataFrame is highly fragmented.  This is usually the result of calling `frame.insert` many times, which has poor performance.  Consider joining all columns at once using pd.concat(axis=1) instead. To get a de-fragmented frame, use `newframe = frame.copy()`\n",
      "  new_columns_tofeaturex[mynew_columns] = new_columns_tofeaturex[\"city\"]['get_city_k'].to_list()\n",
      "/var/folders/h_/rkj_xrj91990zkj2jpcn9b840000gn/T/ipykernel_779/2003333069.py:1: PerformanceWarning: DataFrame is highly fragmented.  This is usually the result of calling `frame.insert` many times, which has poor performance.  Consider joining all columns at once using pd.concat(axis=1) instead. To get a de-fragmented frame, use `newframe = frame.copy()`\n",
      "  new_columns_tofeaturex[mynew_columns] = new_columns_tofeaturex[\"city\"]['get_city_k'].to_list()\n",
      "/var/folders/h_/rkj_xrj91990zkj2jpcn9b840000gn/T/ipykernel_779/2003333069.py:1: PerformanceWarning: DataFrame is highly fragmented.  This is usually the result of calling `frame.insert` many times, which has poor performance.  Consider joining all columns at once using pd.concat(axis=1) instead. To get a de-fragmented frame, use `newframe = frame.copy()`\n",
      "  new_columns_tofeaturex[mynew_columns] = new_columns_tofeaturex[\"city\"]['get_city_k'].to_list()\n",
      "/var/folders/h_/rkj_xrj91990zkj2jpcn9b840000gn/T/ipykernel_779/2003333069.py:1: PerformanceWarning: DataFrame is highly fragmented.  This is usually the result of calling `frame.insert` many times, which has poor performance.  Consider joining all columns at once using pd.concat(axis=1) instead. To get a de-fragmented frame, use `newframe = frame.copy()`\n",
      "  new_columns_tofeaturex[mynew_columns] = new_columns_tofeaturex[\"city\"]['get_city_k'].to_list()\n",
      "/var/folders/h_/rkj_xrj91990zkj2jpcn9b840000gn/T/ipykernel_779/2003333069.py:1: PerformanceWarning: DataFrame is highly fragmented.  This is usually the result of calling `frame.insert` many times, which has poor performance.  Consider joining all columns at once using pd.concat(axis=1) instead. To get a de-fragmented frame, use `newframe = frame.copy()`\n",
      "  new_columns_tofeaturex[mynew_columns] = new_columns_tofeaturex[\"city\"]['get_city_k'].to_list()\n",
      "/var/folders/h_/rkj_xrj91990zkj2jpcn9b840000gn/T/ipykernel_779/2003333069.py:1: PerformanceWarning: DataFrame is highly fragmented.  This is usually the result of calling `frame.insert` many times, which has poor performance.  Consider joining all columns at once using pd.concat(axis=1) instead. To get a de-fragmented frame, use `newframe = frame.copy()`\n",
      "  new_columns_tofeaturex[mynew_columns] = new_columns_tofeaturex[\"city\"]['get_city_k'].to_list()\n",
      "/var/folders/h_/rkj_xrj91990zkj2jpcn9b840000gn/T/ipykernel_779/2003333069.py:1: PerformanceWarning: DataFrame is highly fragmented.  This is usually the result of calling `frame.insert` many times, which has poor performance.  Consider joining all columns at once using pd.concat(axis=1) instead. To get a de-fragmented frame, use `newframe = frame.copy()`\n",
      "  new_columns_tofeaturex[mynew_columns] = new_columns_tofeaturex[\"city\"]['get_city_k'].to_list()\n",
      "/var/folders/h_/rkj_xrj91990zkj2jpcn9b840000gn/T/ipykernel_779/2003333069.py:1: PerformanceWarning: DataFrame is highly fragmented.  This is usually the result of calling `frame.insert` many times, which has poor performance.  Consider joining all columns at once using pd.concat(axis=1) instead. To get a de-fragmented frame, use `newframe = frame.copy()`\n",
      "  new_columns_tofeaturex[mynew_columns] = new_columns_tofeaturex[\"city\"]['get_city_k'].to_list()\n",
      "/var/folders/h_/rkj_xrj91990zkj2jpcn9b840000gn/T/ipykernel_779/2003333069.py:1: PerformanceWarning: DataFrame is highly fragmented.  This is usually the result of calling `frame.insert` many times, which has poor performance.  Consider joining all columns at once using pd.concat(axis=1) instead. To get a de-fragmented frame, use `newframe = frame.copy()`\n",
      "  new_columns_tofeaturex[mynew_columns] = new_columns_tofeaturex[\"city\"]['get_city_k'].to_list()\n",
      "/var/folders/h_/rkj_xrj91990zkj2jpcn9b840000gn/T/ipykernel_779/2003333069.py:1: PerformanceWarning: DataFrame is highly fragmented.  This is usually the result of calling `frame.insert` many times, which has poor performance.  Consider joining all columns at once using pd.concat(axis=1) instead. To get a de-fragmented frame, use `newframe = frame.copy()`\n",
      "  new_columns_tofeaturex[mynew_columns] = new_columns_tofeaturex[\"city\"]['get_city_k'].to_list()\n",
      "/var/folders/h_/rkj_xrj91990zkj2jpcn9b840000gn/T/ipykernel_779/2003333069.py:1: PerformanceWarning: DataFrame is highly fragmented.  This is usually the result of calling `frame.insert` many times, which has poor performance.  Consider joining all columns at once using pd.concat(axis=1) instead. To get a de-fragmented frame, use `newframe = frame.copy()`\n",
      "  new_columns_tofeaturex[mynew_columns] = new_columns_tofeaturex[\"city\"]['get_city_k'].to_list()\n",
      "/var/folders/h_/rkj_xrj91990zkj2jpcn9b840000gn/T/ipykernel_779/2003333069.py:1: PerformanceWarning: DataFrame is highly fragmented.  This is usually the result of calling `frame.insert` many times, which has poor performance.  Consider joining all columns at once using pd.concat(axis=1) instead. To get a de-fragmented frame, use `newframe = frame.copy()`\n",
      "  new_columns_tofeaturex[mynew_columns] = new_columns_tofeaturex[\"city\"]['get_city_k'].to_list()\n",
      "/var/folders/h_/rkj_xrj91990zkj2jpcn9b840000gn/T/ipykernel_779/2003333069.py:1: PerformanceWarning: DataFrame is highly fragmented.  This is usually the result of calling `frame.insert` many times, which has poor performance.  Consider joining all columns at once using pd.concat(axis=1) instead. To get a de-fragmented frame, use `newframe = frame.copy()`\n",
      "  new_columns_tofeaturex[mynew_columns] = new_columns_tofeaturex[\"city\"]['get_city_k'].to_list()\n",
      "/var/folders/h_/rkj_xrj91990zkj2jpcn9b840000gn/T/ipykernel_779/2003333069.py:1: PerformanceWarning: DataFrame is highly fragmented.  This is usually the result of calling `frame.insert` many times, which has poor performance.  Consider joining all columns at once using pd.concat(axis=1) instead. To get a de-fragmented frame, use `newframe = frame.copy()`\n",
      "  new_columns_tofeaturex[mynew_columns] = new_columns_tofeaturex[\"city\"]['get_city_k'].to_list()\n",
      "/var/folders/h_/rkj_xrj91990zkj2jpcn9b840000gn/T/ipykernel_779/2003333069.py:1: PerformanceWarning: DataFrame is highly fragmented.  This is usually the result of calling `frame.insert` many times, which has poor performance.  Consider joining all columns at once using pd.concat(axis=1) instead. To get a de-fragmented frame, use `newframe = frame.copy()`\n",
      "  new_columns_tofeaturex[mynew_columns] = new_columns_tofeaturex[\"city\"]['get_city_k'].to_list()\n",
      "/var/folders/h_/rkj_xrj91990zkj2jpcn9b840000gn/T/ipykernel_779/2003333069.py:1: PerformanceWarning: DataFrame is highly fragmented.  This is usually the result of calling `frame.insert` many times, which has poor performance.  Consider joining all columns at once using pd.concat(axis=1) instead. To get a de-fragmented frame, use `newframe = frame.copy()`\n",
      "  new_columns_tofeaturex[mynew_columns] = new_columns_tofeaturex[\"city\"]['get_city_k'].to_list()\n",
      "/var/folders/h_/rkj_xrj91990zkj2jpcn9b840000gn/T/ipykernel_779/2003333069.py:1: PerformanceWarning: DataFrame is highly fragmented.  This is usually the result of calling `frame.insert` many times, which has poor performance.  Consider joining all columns at once using pd.concat(axis=1) instead. To get a de-fragmented frame, use `newframe = frame.copy()`\n",
      "  new_columns_tofeaturex[mynew_columns] = new_columns_tofeaturex[\"city\"]['get_city_k'].to_list()\n",
      "/var/folders/h_/rkj_xrj91990zkj2jpcn9b840000gn/T/ipykernel_779/2003333069.py:1: PerformanceWarning: DataFrame is highly fragmented.  This is usually the result of calling `frame.insert` many times, which has poor performance.  Consider joining all columns at once using pd.concat(axis=1) instead. To get a de-fragmented frame, use `newframe = frame.copy()`\n",
      "  new_columns_tofeaturex[mynew_columns] = new_columns_tofeaturex[\"city\"]['get_city_k'].to_list()\n",
      "/var/folders/h_/rkj_xrj91990zkj2jpcn9b840000gn/T/ipykernel_779/2003333069.py:1: PerformanceWarning: DataFrame is highly fragmented.  This is usually the result of calling `frame.insert` many times, which has poor performance.  Consider joining all columns at once using pd.concat(axis=1) instead. To get a de-fragmented frame, use `newframe = frame.copy()`\n",
      "  new_columns_tofeaturex[mynew_columns] = new_columns_tofeaturex[\"city\"]['get_city_k'].to_list()\n",
      "/var/folders/h_/rkj_xrj91990zkj2jpcn9b840000gn/T/ipykernel_779/2003333069.py:1: PerformanceWarning: DataFrame is highly fragmented.  This is usually the result of calling `frame.insert` many times, which has poor performance.  Consider joining all columns at once using pd.concat(axis=1) instead. To get a de-fragmented frame, use `newframe = frame.copy()`\n",
      "  new_columns_tofeaturex[mynew_columns] = new_columns_tofeaturex[\"city\"]['get_city_k'].to_list()\n",
      "/var/folders/h_/rkj_xrj91990zkj2jpcn9b840000gn/T/ipykernel_779/2003333069.py:1: PerformanceWarning: DataFrame is highly fragmented.  This is usually the result of calling `frame.insert` many times, which has poor performance.  Consider joining all columns at once using pd.concat(axis=1) instead. To get a de-fragmented frame, use `newframe = frame.copy()`\n",
      "  new_columns_tofeaturex[mynew_columns] = new_columns_tofeaturex[\"city\"]['get_city_k'].to_list()\n",
      "/var/folders/h_/rkj_xrj91990zkj2jpcn9b840000gn/T/ipykernel_779/2003333069.py:1: PerformanceWarning: DataFrame is highly fragmented.  This is usually the result of calling `frame.insert` many times, which has poor performance.  Consider joining all columns at once using pd.concat(axis=1) instead. To get a de-fragmented frame, use `newframe = frame.copy()`\n",
      "  new_columns_tofeaturex[mynew_columns] = new_columns_tofeaturex[\"city\"]['get_city_k'].to_list()\n",
      "/var/folders/h_/rkj_xrj91990zkj2jpcn9b840000gn/T/ipykernel_779/2003333069.py:1: PerformanceWarning: DataFrame is highly fragmented.  This is usually the result of calling `frame.insert` many times, which has poor performance.  Consider joining all columns at once using pd.concat(axis=1) instead. To get a de-fragmented frame, use `newframe = frame.copy()`\n",
      "  new_columns_tofeaturex[mynew_columns] = new_columns_tofeaturex[\"city\"]['get_city_k'].to_list()\n",
      "/var/folders/h_/rkj_xrj91990zkj2jpcn9b840000gn/T/ipykernel_779/2003333069.py:1: PerformanceWarning: DataFrame is highly fragmented.  This is usually the result of calling `frame.insert` many times, which has poor performance.  Consider joining all columns at once using pd.concat(axis=1) instead. To get a de-fragmented frame, use `newframe = frame.copy()`\n",
      "  new_columns_tofeaturex[mynew_columns] = new_columns_tofeaturex[\"city\"]['get_city_k'].to_list()\n",
      "/var/folders/h_/rkj_xrj91990zkj2jpcn9b840000gn/T/ipykernel_779/2003333069.py:1: PerformanceWarning: DataFrame is highly fragmented.  This is usually the result of calling `frame.insert` many times, which has poor performance.  Consider joining all columns at once using pd.concat(axis=1) instead. To get a de-fragmented frame, use `newframe = frame.copy()`\n",
      "  new_columns_tofeaturex[mynew_columns] = new_columns_tofeaturex[\"city\"]['get_city_k'].to_list()\n",
      "/var/folders/h_/rkj_xrj91990zkj2jpcn9b840000gn/T/ipykernel_779/2003333069.py:1: PerformanceWarning: DataFrame is highly fragmented.  This is usually the result of calling `frame.insert` many times, which has poor performance.  Consider joining all columns at once using pd.concat(axis=1) instead. To get a de-fragmented frame, use `newframe = frame.copy()`\n",
      "  new_columns_tofeaturex[mynew_columns] = new_columns_tofeaturex[\"city\"]['get_city_k'].to_list()\n"
     ]
    }
   ],
   "source": [
    "new_columns_tofeaturex[mynew_columns] = new_columns_tofeaturex[\"city\"]['get_city_k'].to_list()"
   ],
   "metadata": {
    "collapsed": false,
    "ExecuteTime": {
     "start_time": "2023-04-23T21:24:06.339187Z",
     "end_time": "2023-04-23T21:24:23.035530Z"
    }
   }
  },
  {
   "cell_type": "code",
   "execution_count": 64,
   "outputs": [
    {
     "data": {
      "text/plain": "         city day_of_week         hour        weekofyear        hour_diff  \\\n       median       count median count median      count median     count   \napp_id                                                                      \n1        21.0         120    4.0   120   12.0        120   29.0       120   \n5         1.0          47    3.0    47   17.0         47   34.0        47   \n6         2.0          23    6.0    23    7.0         23   47.0        23   \n7         1.0          28    5.0    28   13.5         28   31.0        28   \n11        6.0          17    3.0    17   17.0         17   31.0        17   \n...       ...         ...    ...   ...    ...        ...    ...       ...   \n805124    1.0          20    4.0    20   12.0         20   12.0        20   \n805125    4.0          92    3.0    92   13.0         92   11.0        92   \n805127   48.0           3    6.0     3   20.0          3   11.0         3   \n805130   16.0          53    3.0    53   14.0         53   15.0        53   \n805132    2.0         138    3.5   138   14.0        138   14.0       138   \n\n              mycity_1  ... mycity_90 mycity_91 mycity_92 mycity_93 mycity_94  \\\n       median           ...                                                     \napp_id                  ...                                                     \n1        15.0       23  ...         0         0         0         0         0   \n5        29.0       46  ...         0         0         0         0         0   \n6         1.0        1  ...         0         0         0         0         0   \n7         5.0       20  ...         0         0         0         0         0   \n11      133.0        3  ...         0         0         0         0         0   \n...       ...      ...  ...       ...       ...       ...       ...       ...   \n805124   17.5       19  ...         0         0         0         0         0   \n805125   12.0        4  ...         0         0         0         0         0   \n805127  731.0        1  ...         0         0         0         0         0   \n805130    9.0        1  ...         0         0         0         0         0   \n805132   13.0       15  ...         0         0         0         0         0   \n\n       mycity_95 mycity_96 mycity_97 mycity_98 mycity_99  \n                                                          \napp_id                                                    \n1              0         0         0         0         0  \n5              0         0         0         0         0  \n6              0         0         0         0         0  \n7              0         0         0         0         0  \n11             0         0         0         0         0  \n...          ...       ...       ...       ...       ...  \n805124         0         0         0         0         0  \n805125         0         0         0         0         3  \n805127         0         0         0         0         0  \n805130         0         0         0         0         0  \n805132         0         0         0         0         1  \n\n[377346 rows x 172 columns]",
      "text/html": "<div>\n<style scoped>\n    .dataframe tbody tr th:only-of-type {\n        vertical-align: middle;\n    }\n\n    .dataframe tbody tr th {\n        vertical-align: top;\n    }\n\n    .dataframe thead tr th {\n        text-align: left;\n    }\n\n    .dataframe thead tr:last-of-type th {\n        text-align: right;\n    }\n</style>\n<table border=\"1\" class=\"dataframe\">\n  <thead>\n    <tr>\n      <th></th>\n      <th>city</th>\n      <th colspan=\"2\" halign=\"left\">day_of_week</th>\n      <th colspan=\"2\" halign=\"left\">hour</th>\n      <th colspan=\"2\" halign=\"left\">weekofyear</th>\n      <th colspan=\"2\" halign=\"left\">hour_diff</th>\n      <th>mycity_1</th>\n      <th>...</th>\n      <th>mycity_90</th>\n      <th>mycity_91</th>\n      <th>mycity_92</th>\n      <th>mycity_93</th>\n      <th>mycity_94</th>\n      <th>mycity_95</th>\n      <th>mycity_96</th>\n      <th>mycity_97</th>\n      <th>mycity_98</th>\n      <th>mycity_99</th>\n    </tr>\n    <tr>\n      <th></th>\n      <th>median</th>\n      <th>count</th>\n      <th>median</th>\n      <th>count</th>\n      <th>median</th>\n      <th>count</th>\n      <th>median</th>\n      <th>count</th>\n      <th>median</th>\n      <th></th>\n      <th>...</th>\n      <th></th>\n      <th></th>\n      <th></th>\n      <th></th>\n      <th></th>\n      <th></th>\n      <th></th>\n      <th></th>\n      <th></th>\n      <th></th>\n    </tr>\n    <tr>\n      <th>app_id</th>\n      <th></th>\n      <th></th>\n      <th></th>\n      <th></th>\n      <th></th>\n      <th></th>\n      <th></th>\n      <th></th>\n      <th></th>\n      <th></th>\n      <th></th>\n      <th></th>\n      <th></th>\n      <th></th>\n      <th></th>\n      <th></th>\n      <th></th>\n      <th></th>\n      <th></th>\n      <th></th>\n      <th></th>\n    </tr>\n  </thead>\n  <tbody>\n    <tr>\n      <th>1</th>\n      <td>21.0</td>\n      <td>120</td>\n      <td>4.0</td>\n      <td>120</td>\n      <td>12.0</td>\n      <td>120</td>\n      <td>29.0</td>\n      <td>120</td>\n      <td>15.0</td>\n      <td>23</td>\n      <td>...</td>\n      <td>0</td>\n      <td>0</td>\n      <td>0</td>\n      <td>0</td>\n      <td>0</td>\n      <td>0</td>\n      <td>0</td>\n      <td>0</td>\n      <td>0</td>\n      <td>0</td>\n    </tr>\n    <tr>\n      <th>5</th>\n      <td>1.0</td>\n      <td>47</td>\n      <td>3.0</td>\n      <td>47</td>\n      <td>17.0</td>\n      <td>47</td>\n      <td>34.0</td>\n      <td>47</td>\n      <td>29.0</td>\n      <td>46</td>\n      <td>...</td>\n      <td>0</td>\n      <td>0</td>\n      <td>0</td>\n      <td>0</td>\n      <td>0</td>\n      <td>0</td>\n      <td>0</td>\n      <td>0</td>\n      <td>0</td>\n      <td>0</td>\n    </tr>\n    <tr>\n      <th>6</th>\n      <td>2.0</td>\n      <td>23</td>\n      <td>6.0</td>\n      <td>23</td>\n      <td>7.0</td>\n      <td>23</td>\n      <td>47.0</td>\n      <td>23</td>\n      <td>1.0</td>\n      <td>1</td>\n      <td>...</td>\n      <td>0</td>\n      <td>0</td>\n      <td>0</td>\n      <td>0</td>\n      <td>0</td>\n      <td>0</td>\n      <td>0</td>\n      <td>0</td>\n      <td>0</td>\n      <td>0</td>\n    </tr>\n    <tr>\n      <th>7</th>\n      <td>1.0</td>\n      <td>28</td>\n      <td>5.0</td>\n      <td>28</td>\n      <td>13.5</td>\n      <td>28</td>\n      <td>31.0</td>\n      <td>28</td>\n      <td>5.0</td>\n      <td>20</td>\n      <td>...</td>\n      <td>0</td>\n      <td>0</td>\n      <td>0</td>\n      <td>0</td>\n      <td>0</td>\n      <td>0</td>\n      <td>0</td>\n      <td>0</td>\n      <td>0</td>\n      <td>0</td>\n    </tr>\n    <tr>\n      <th>11</th>\n      <td>6.0</td>\n      <td>17</td>\n      <td>3.0</td>\n      <td>17</td>\n      <td>17.0</td>\n      <td>17</td>\n      <td>31.0</td>\n      <td>17</td>\n      <td>133.0</td>\n      <td>3</td>\n      <td>...</td>\n      <td>0</td>\n      <td>0</td>\n      <td>0</td>\n      <td>0</td>\n      <td>0</td>\n      <td>0</td>\n      <td>0</td>\n      <td>0</td>\n      <td>0</td>\n      <td>0</td>\n    </tr>\n    <tr>\n      <th>...</th>\n      <td>...</td>\n      <td>...</td>\n      <td>...</td>\n      <td>...</td>\n      <td>...</td>\n      <td>...</td>\n      <td>...</td>\n      <td>...</td>\n      <td>...</td>\n      <td>...</td>\n      <td>...</td>\n      <td>...</td>\n      <td>...</td>\n      <td>...</td>\n      <td>...</td>\n      <td>...</td>\n      <td>...</td>\n      <td>...</td>\n      <td>...</td>\n      <td>...</td>\n      <td>...</td>\n    </tr>\n    <tr>\n      <th>805124</th>\n      <td>1.0</td>\n      <td>20</td>\n      <td>4.0</td>\n      <td>20</td>\n      <td>12.0</td>\n      <td>20</td>\n      <td>12.0</td>\n      <td>20</td>\n      <td>17.5</td>\n      <td>19</td>\n      <td>...</td>\n      <td>0</td>\n      <td>0</td>\n      <td>0</td>\n      <td>0</td>\n      <td>0</td>\n      <td>0</td>\n      <td>0</td>\n      <td>0</td>\n      <td>0</td>\n      <td>0</td>\n    </tr>\n    <tr>\n      <th>805125</th>\n      <td>4.0</td>\n      <td>92</td>\n      <td>3.0</td>\n      <td>92</td>\n      <td>13.0</td>\n      <td>92</td>\n      <td>11.0</td>\n      <td>92</td>\n      <td>12.0</td>\n      <td>4</td>\n      <td>...</td>\n      <td>0</td>\n      <td>0</td>\n      <td>0</td>\n      <td>0</td>\n      <td>0</td>\n      <td>0</td>\n      <td>0</td>\n      <td>0</td>\n      <td>0</td>\n      <td>3</td>\n    </tr>\n    <tr>\n      <th>805127</th>\n      <td>48.0</td>\n      <td>3</td>\n      <td>6.0</td>\n      <td>3</td>\n      <td>20.0</td>\n      <td>3</td>\n      <td>11.0</td>\n      <td>3</td>\n      <td>731.0</td>\n      <td>1</td>\n      <td>...</td>\n      <td>0</td>\n      <td>0</td>\n      <td>0</td>\n      <td>0</td>\n      <td>0</td>\n      <td>0</td>\n      <td>0</td>\n      <td>0</td>\n      <td>0</td>\n      <td>0</td>\n    </tr>\n    <tr>\n      <th>805130</th>\n      <td>16.0</td>\n      <td>53</td>\n      <td>3.0</td>\n      <td>53</td>\n      <td>14.0</td>\n      <td>53</td>\n      <td>15.0</td>\n      <td>53</td>\n      <td>9.0</td>\n      <td>1</td>\n      <td>...</td>\n      <td>0</td>\n      <td>0</td>\n      <td>0</td>\n      <td>0</td>\n      <td>0</td>\n      <td>0</td>\n      <td>0</td>\n      <td>0</td>\n      <td>0</td>\n      <td>0</td>\n    </tr>\n    <tr>\n      <th>805132</th>\n      <td>2.0</td>\n      <td>138</td>\n      <td>3.5</td>\n      <td>138</td>\n      <td>14.0</td>\n      <td>138</td>\n      <td>14.0</td>\n      <td>138</td>\n      <td>13.0</td>\n      <td>15</td>\n      <td>...</td>\n      <td>0</td>\n      <td>0</td>\n      <td>0</td>\n      <td>0</td>\n      <td>0</td>\n      <td>0</td>\n      <td>0</td>\n      <td>0</td>\n      <td>0</td>\n      <td>1</td>\n    </tr>\n  </tbody>\n</table>\n<p>377346 rows × 172 columns</p>\n</div>"
     },
     "execution_count": 64,
     "metadata": {},
     "output_type": "execute_result"
    }
   ],
   "source": [
    "new_columns_tofeaturex"
   ],
   "metadata": {
    "collapsed": false,
    "ExecuteTime": {
     "start_time": "2023-04-23T21:29:17.090690Z",
     "end_time": "2023-04-23T21:29:17.134263Z"
    }
   }
  },
  {
   "cell_type": "code",
   "execution_count": 46,
   "outputs": [],
   "source": [
    "new_columns_tofeaturex = new_columns_tofeaturex.drop((\"city\", \"get_city_k\"), axis=1)"
   ],
   "metadata": {
    "collapsed": false,
    "ExecuteTime": {
     "start_time": "2023-04-23T21:25:04.793995Z",
     "end_time": "2023-04-23T21:25:04.990777Z"
    }
   }
  },
  {
   "cell_type": "code",
   "execution_count": 48,
   "outputs": [
    {
     "name": "stderr",
     "output_type": "stream",
     "text": [
      "/var/folders/h_/rkj_xrj91990zkj2jpcn9b840000gn/T/ipykernel_779/4195476344.py:2: FutureWarning: merging between different levels is deprecated and will be removed in a future version. (1 levels on the left, 2 on the right)\n",
      "  new_featurex = my_x_feature.merge(new_columns_tofeaturex, on=\"app_id\")\n"
     ]
    }
   ],
   "source": [
    "#new_columns_tofeaturex.columns = ['_'.join(col).strip('_') for col in new_columns_tofeaturex.columns.values]\n",
    "new_featurex = my_x_feature.merge(new_columns_tofeaturex, on=\"app_id\")"
   ],
   "metadata": {
    "collapsed": false,
    "ExecuteTime": {
     "start_time": "2023-04-23T21:25:16.709203Z",
     "end_time": "2023-04-23T21:25:18.491985Z"
    }
   }
  },
  {
   "cell_type": "code",
   "execution_count": 50,
   "outputs": [],
   "source": [
    "new_featurex.to_csv(\"../ourfeatures/my_bigX_version20.csv\", index=False)"
   ],
   "metadata": {
    "collapsed": false,
    "ExecuteTime": {
     "start_time": "2023-04-23T21:25:57.385031Z",
     "end_time": "2023-04-23T21:26:15.939057Z"
    }
   }
  },
  {
   "cell_type": "code",
   "execution_count": 65,
   "outputs": [
    {
     "data": {
      "text/plain": "        app_id  transaction_number_max  amnt_min  amnt_max  amnt_mean  \\\n0            1                     120  0.155581  0.539584   0.315662   \n1            5                      47  0.269110  0.594620   0.413886   \n2            6                      23  0.321124  0.605813   0.405220   \n3            7                      28  0.062575  0.476811   0.248939   \n4           11                      17  0.258972  0.516834   0.395651   \n...        ...                     ...       ...       ...        ...   \n377341  805124                      20  0.178216  0.454634   0.327272   \n377342  805125                      92  0.212853  0.607141   0.341180   \n377343  805127                       3  0.520103  0.520103   0.520103   \n377344  805130                      53  0.271747  0.563568   0.406822   \n377345  805132                     138  0.153618  0.522181   0.313436   \n\n        amnt_median  currency_num_unique_values_x  currency_median  \\\n0          0.297589                             1              1.0   \n1          0.431864                             1              1.0   \n2          0.349301                             3             11.0   \n3          0.263058                             1              1.0   \n4          0.397758                             1              1.0   \n...             ...                           ...              ...   \n377341     0.287526                             1              1.0   \n377342     0.324899                             1              1.0   \n377343     0.520103                             1              1.0   \n377344     0.409737                             3              1.0   \n377345     0.310411                             1              1.0   \n\n        operation_type_group_median  operation_kind_median  ...  \\\n0                               1.0                    1.0  ...   \n1                               1.0                    1.0  ...   \n2                               1.0                    1.0  ...   \n3                               1.0                    1.0  ...   \n4                               1.0                    1.0  ...   \n...                             ...                    ...  ...   \n377341                          1.0                    1.0  ...   \n377342                          1.0                    1.0  ...   \n377343                          2.0                    4.0  ...   \n377344                          1.0                    1.0  ...   \n377345                          1.0                    1.0  ...   \n\n        (mycity_90, )  (mycity_91, )  (mycity_92, )  (mycity_93, )  \\\n0                   0              0              0              0   \n1                   0              0              0              0   \n2                   0              0              0              0   \n3                   0              0              0              0   \n4                   0              0              0              0   \n...               ...            ...            ...            ...   \n377341              0              0              0              0   \n377342              0              0              0              0   \n377343              0              0              0              0   \n377344              0              0              0              0   \n377345              0              0              0              0   \n\n        (mycity_94, )  (mycity_95, )  (mycity_96, )  (mycity_97, )  \\\n0                   0              0              0              0   \n1                   0              0              0              0   \n2                   0              0              0              0   \n3                   0              0              0              0   \n4                   0              0              0              0   \n...               ...            ...            ...            ...   \n377341              0              0              0              0   \n377342              0              0              0              0   \n377343              0              0              0              0   \n377344              0              0              0              0   \n377345              0              0              0              0   \n\n        (mycity_98, )  (mycity_99, )  \n0                   0              0  \n1                   0              0  \n2                   0              0  \n3                   0              0  \n4                   0              0  \n...               ...            ...  \n377341              0              0  \n377342              0              3  \n377343              0              0  \n377344              0              0  \n377345              0              1  \n\n[377346 rows x 410 columns]",
      "text/html": "<div>\n<style scoped>\n    .dataframe tbody tr th:only-of-type {\n        vertical-align: middle;\n    }\n\n    .dataframe tbody tr th {\n        vertical-align: top;\n    }\n\n    .dataframe thead th {\n        text-align: right;\n    }\n</style>\n<table border=\"1\" class=\"dataframe\">\n  <thead>\n    <tr style=\"text-align: right;\">\n      <th></th>\n      <th>app_id</th>\n      <th>transaction_number_max</th>\n      <th>amnt_min</th>\n      <th>amnt_max</th>\n      <th>amnt_mean</th>\n      <th>amnt_median</th>\n      <th>currency_num_unique_values_x</th>\n      <th>currency_median</th>\n      <th>operation_type_group_median</th>\n      <th>operation_kind_median</th>\n      <th>...</th>\n      <th>(mycity_90, )</th>\n      <th>(mycity_91, )</th>\n      <th>(mycity_92, )</th>\n      <th>(mycity_93, )</th>\n      <th>(mycity_94, )</th>\n      <th>(mycity_95, )</th>\n      <th>(mycity_96, )</th>\n      <th>(mycity_97, )</th>\n      <th>(mycity_98, )</th>\n      <th>(mycity_99, )</th>\n    </tr>\n  </thead>\n  <tbody>\n    <tr>\n      <th>0</th>\n      <td>1</td>\n      <td>120</td>\n      <td>0.155581</td>\n      <td>0.539584</td>\n      <td>0.315662</td>\n      <td>0.297589</td>\n      <td>1</td>\n      <td>1.0</td>\n      <td>1.0</td>\n      <td>1.0</td>\n      <td>...</td>\n      <td>0</td>\n      <td>0</td>\n      <td>0</td>\n      <td>0</td>\n      <td>0</td>\n      <td>0</td>\n      <td>0</td>\n      <td>0</td>\n      <td>0</td>\n      <td>0</td>\n    </tr>\n    <tr>\n      <th>1</th>\n      <td>5</td>\n      <td>47</td>\n      <td>0.269110</td>\n      <td>0.594620</td>\n      <td>0.413886</td>\n      <td>0.431864</td>\n      <td>1</td>\n      <td>1.0</td>\n      <td>1.0</td>\n      <td>1.0</td>\n      <td>...</td>\n      <td>0</td>\n      <td>0</td>\n      <td>0</td>\n      <td>0</td>\n      <td>0</td>\n      <td>0</td>\n      <td>0</td>\n      <td>0</td>\n      <td>0</td>\n      <td>0</td>\n    </tr>\n    <tr>\n      <th>2</th>\n      <td>6</td>\n      <td>23</td>\n      <td>0.321124</td>\n      <td>0.605813</td>\n      <td>0.405220</td>\n      <td>0.349301</td>\n      <td>3</td>\n      <td>11.0</td>\n      <td>1.0</td>\n      <td>1.0</td>\n      <td>...</td>\n      <td>0</td>\n      <td>0</td>\n      <td>0</td>\n      <td>0</td>\n      <td>0</td>\n      <td>0</td>\n      <td>0</td>\n      <td>0</td>\n      <td>0</td>\n      <td>0</td>\n    </tr>\n    <tr>\n      <th>3</th>\n      <td>7</td>\n      <td>28</td>\n      <td>0.062575</td>\n      <td>0.476811</td>\n      <td>0.248939</td>\n      <td>0.263058</td>\n      <td>1</td>\n      <td>1.0</td>\n      <td>1.0</td>\n      <td>1.0</td>\n      <td>...</td>\n      <td>0</td>\n      <td>0</td>\n      <td>0</td>\n      <td>0</td>\n      <td>0</td>\n      <td>0</td>\n      <td>0</td>\n      <td>0</td>\n      <td>0</td>\n      <td>0</td>\n    </tr>\n    <tr>\n      <th>4</th>\n      <td>11</td>\n      <td>17</td>\n      <td>0.258972</td>\n      <td>0.516834</td>\n      <td>0.395651</td>\n      <td>0.397758</td>\n      <td>1</td>\n      <td>1.0</td>\n      <td>1.0</td>\n      <td>1.0</td>\n      <td>...</td>\n      <td>0</td>\n      <td>0</td>\n      <td>0</td>\n      <td>0</td>\n      <td>0</td>\n      <td>0</td>\n      <td>0</td>\n      <td>0</td>\n      <td>0</td>\n      <td>0</td>\n    </tr>\n    <tr>\n      <th>...</th>\n      <td>...</td>\n      <td>...</td>\n      <td>...</td>\n      <td>...</td>\n      <td>...</td>\n      <td>...</td>\n      <td>...</td>\n      <td>...</td>\n      <td>...</td>\n      <td>...</td>\n      <td>...</td>\n      <td>...</td>\n      <td>...</td>\n      <td>...</td>\n      <td>...</td>\n      <td>...</td>\n      <td>...</td>\n      <td>...</td>\n      <td>...</td>\n      <td>...</td>\n      <td>...</td>\n    </tr>\n    <tr>\n      <th>377341</th>\n      <td>805124</td>\n      <td>20</td>\n      <td>0.178216</td>\n      <td>0.454634</td>\n      <td>0.327272</td>\n      <td>0.287526</td>\n      <td>1</td>\n      <td>1.0</td>\n      <td>1.0</td>\n      <td>1.0</td>\n      <td>...</td>\n      <td>0</td>\n      <td>0</td>\n      <td>0</td>\n      <td>0</td>\n      <td>0</td>\n      <td>0</td>\n      <td>0</td>\n      <td>0</td>\n      <td>0</td>\n      <td>0</td>\n    </tr>\n    <tr>\n      <th>377342</th>\n      <td>805125</td>\n      <td>92</td>\n      <td>0.212853</td>\n      <td>0.607141</td>\n      <td>0.341180</td>\n      <td>0.324899</td>\n      <td>1</td>\n      <td>1.0</td>\n      <td>1.0</td>\n      <td>1.0</td>\n      <td>...</td>\n      <td>0</td>\n      <td>0</td>\n      <td>0</td>\n      <td>0</td>\n      <td>0</td>\n      <td>0</td>\n      <td>0</td>\n      <td>0</td>\n      <td>0</td>\n      <td>3</td>\n    </tr>\n    <tr>\n      <th>377343</th>\n      <td>805127</td>\n      <td>3</td>\n      <td>0.520103</td>\n      <td>0.520103</td>\n      <td>0.520103</td>\n      <td>0.520103</td>\n      <td>1</td>\n      <td>1.0</td>\n      <td>2.0</td>\n      <td>4.0</td>\n      <td>...</td>\n      <td>0</td>\n      <td>0</td>\n      <td>0</td>\n      <td>0</td>\n      <td>0</td>\n      <td>0</td>\n      <td>0</td>\n      <td>0</td>\n      <td>0</td>\n      <td>0</td>\n    </tr>\n    <tr>\n      <th>377344</th>\n      <td>805130</td>\n      <td>53</td>\n      <td>0.271747</td>\n      <td>0.563568</td>\n      <td>0.406822</td>\n      <td>0.409737</td>\n      <td>3</td>\n      <td>1.0</td>\n      <td>1.0</td>\n      <td>1.0</td>\n      <td>...</td>\n      <td>0</td>\n      <td>0</td>\n      <td>0</td>\n      <td>0</td>\n      <td>0</td>\n      <td>0</td>\n      <td>0</td>\n      <td>0</td>\n      <td>0</td>\n      <td>0</td>\n    </tr>\n    <tr>\n      <th>377345</th>\n      <td>805132</td>\n      <td>138</td>\n      <td>0.153618</td>\n      <td>0.522181</td>\n      <td>0.313436</td>\n      <td>0.310411</td>\n      <td>1</td>\n      <td>1.0</td>\n      <td>1.0</td>\n      <td>1.0</td>\n      <td>...</td>\n      <td>0</td>\n      <td>0</td>\n      <td>0</td>\n      <td>0</td>\n      <td>0</td>\n      <td>0</td>\n      <td>0</td>\n      <td>0</td>\n      <td>0</td>\n      <td>1</td>\n    </tr>\n  </tbody>\n</table>\n<p>377346 rows × 410 columns</p>\n</div>"
     },
     "execution_count": 65,
     "metadata": {},
     "output_type": "execute_result"
    }
   ],
   "source": [
    "new_featurex"
   ],
   "metadata": {
    "collapsed": false,
    "ExecuteTime": {
     "start_time": "2023-04-23T21:29:47.744691Z",
     "end_time": "2023-04-23T21:29:47.777175Z"
    }
   }
  },
  {
   "cell_type": "code",
   "execution_count": 37,
   "outputs": [],
   "source": [
    "from sklearn.preprocessing import Normalizer"
   ],
   "metadata": {
    "collapsed": false,
    "ExecuteTime": {
     "start_time": "2023-04-23T17:55:08.677615Z",
     "end_time": "2023-04-23T17:55:09.332733Z"
    }
   }
  },
  {
   "cell_type": "code",
   "execution_count": 131,
   "outputs": [
    {
     "data": {
      "text/plain": "[]"
     },
     "execution_count": 131,
     "metadata": {},
     "output_type": "execute_result"
    }
   ],
   "source": [
    "[i for i in my_x_feature.columns if my_x_feature[i].isnull().any()]\n"
   ],
   "metadata": {
    "collapsed": false,
    "ExecuteTime": {
     "start_time": "2023-04-23T18:32:50.800082Z",
     "end_time": "2023-04-23T18:32:50.826948Z"
    }
   }
  },
  {
   "cell_type": "code",
   "execution_count": 173,
   "outputs": [],
   "source": [
    "myy = pd.read_csv(\"../ourfeatures/y_test2.csv\")"
   ],
   "metadata": {
    "collapsed": false,
    "ExecuteTime": {
     "start_time": "2023-04-23T18:46:59.924114Z",
     "end_time": "2023-04-23T18:46:59.958224Z"
    }
   }
  },
  {
   "cell_type": "code",
   "execution_count": 217,
   "outputs": [
    {
     "data": {
      "text/plain": "0              1\n1              5\n2              6\n3              7\n4             11\n           ...  \n377341    805124\n377342    805125\n377343    805127\n377344    805130\n377345    805132\nName: app_id, Length: 377346, dtype: int64"
     },
     "execution_count": 217,
     "metadata": {},
     "output_type": "execute_result"
    }
   ],
   "source": [
    "new_featurex['app_id']"
   ],
   "metadata": {
    "collapsed": false,
    "ExecuteTime": {
     "start_time": "2023-04-23T18:58:59.792270Z",
     "end_time": "2023-04-23T18:58:59.795235Z"
    }
   }
  },
  {
   "cell_type": "code",
   "execution_count": 219,
   "outputs": [
    {
     "name": "stdout",
     "output_type": "stream",
     "text": [
      "<class 'pandas.core.frame.DataFrame'>\n",
      "RangeIndex: 188674 entries, 0 to 188673\n",
      "Columns: 241 entries, app_id to ('hour_diff', 'median')\n",
      "dtypes: float64(24), int64(217)\n",
      "memory usage: 346.9 MB\n"
     ]
    }
   ],
   "source": [
    "my_testx_feature.info()"
   ],
   "metadata": {
    "collapsed": false,
    "ExecuteTime": {
     "start_time": "2023-04-23T18:59:25.751963Z",
     "end_time": "2023-04-23T18:59:25.754907Z"
    }
   }
  },
  {
   "cell_type": "code",
   "execution_count": 154,
   "outputs": [
    {
     "data": {
      "text/plain": "Int64Index([   185,    229,    465,    817,   1042,   1202,   1443,   1482,\n              1667,   1696,\n            ...\n            375683, 375689, 376096, 376137, 376243, 376716, 376861, 377019,\n            377032, 377123],\n           dtype='int64', length=2444)"
     },
     "execution_count": 154,
     "metadata": {},
     "output_type": "execute_result"
    }
   ],
   "source": [],
   "metadata": {
    "collapsed": false,
    "ExecuteTime": {
     "start_time": "2023-04-23T18:41:02.801849Z",
     "end_time": "2023-04-23T18:41:02.806454Z"
    }
   }
  },
  {
   "cell_type": "code",
   "execution_count": 121,
   "outputs": [],
   "source": [
    "indexs = my_x_feature[my_x_feature['day_before_std'].isnull() == True].index"
   ],
   "metadata": {
    "collapsed": false,
    "ExecuteTime": {
     "start_time": "2023-04-23T18:31:04.536081Z",
     "end_time": "2023-04-23T18:31:04.630715Z"
    }
   }
  },
  {
   "cell_type": "code",
   "execution_count": 128,
   "outputs": [],
   "source": [
    "my_x_feature = my_x_feature.drop(indexs)"
   ],
   "metadata": {
    "collapsed": false,
    "ExecuteTime": {
     "start_time": "2023-04-23T18:32:17.561874Z",
     "end_time": "2023-04-23T18:32:17.775582Z"
    }
   }
  },
  {
   "cell_type": "code",
   "execution_count": 74,
   "outputs": [],
   "source": [
    "new_featurex = my_x_feature.drop(my_x_feature[my_x_feature['amnt_std'].isnull() == True].index)"
   ],
   "metadata": {
    "collapsed": false,
    "ExecuteTime": {
     "start_time": "2023-04-23T18:02:36.237910Z",
     "end_time": "2023-04-23T18:02:36.374414Z"
    }
   }
  },
  {
   "cell_type": "code",
   "execution_count": 105,
   "outputs": [
    {
     "ename": "ValueError",
     "evalue": "Input X contains NaN.\nNormalizer does not accept missing values encoded as NaN natively. For supervised learning, you might want to consider sklearn.ensemble.HistGradientBoostingClassifier and Regressor which accept missing values encoded as NaNs natively. Alternatively, it is possible to preprocess the data, for instance by using an imputer transformer in a pipeline or drop samples with missing values. See https://scikit-learn.org/stable/modules/impute.html You can find a list of all estimators that handle NaN values at the following page: https://scikit-learn.org/stable/modules/impute.html#estimators-that-handle-nan-values",
     "output_type": "error",
     "traceback": [
      "\u001B[0;31m---------------------------------------------------------------------------\u001B[0m",
      "\u001B[0;31mValueError\u001B[0m                                Traceback (most recent call last)",
      "Cell \u001B[0;32mIn[105], line 1\u001B[0m\n\u001B[0;32m----> 1\u001B[0m transformer \u001B[38;5;241m=\u001B[39m \u001B[43mNormalizer\u001B[49m\u001B[43m(\u001B[49m\u001B[43m)\u001B[49m\u001B[38;5;241;43m.\u001B[39;49m\u001B[43mfit\u001B[49m\u001B[43m(\u001B[49m\u001B[43mmy_x_feature\u001B[49m\u001B[43m)\u001B[49m\n",
      "File \u001B[0;32m~/Codding/code_works/Python/Works/Alpha_ml/venv/lib/python3.9/site-packages/sklearn/preprocessing/_data.py:1966\u001B[0m, in \u001B[0;36mNormalizer.fit\u001B[0;34m(self, X, y)\u001B[0m\n\u001B[1;32m   1947\u001B[0m \u001B[38;5;250m\u001B[39m\u001B[38;5;124;03m\"\"\"Only validates estimator's parameters.\u001B[39;00m\n\u001B[1;32m   1948\u001B[0m \n\u001B[1;32m   1949\u001B[0m \u001B[38;5;124;03mThis method allows to: (i) validate the estimator's parameters and\u001B[39;00m\n\u001B[0;32m   (...)\u001B[0m\n\u001B[1;32m   1963\u001B[0m \u001B[38;5;124;03m    Fitted transformer.\u001B[39;00m\n\u001B[1;32m   1964\u001B[0m \u001B[38;5;124;03m\"\"\"\u001B[39;00m\n\u001B[1;32m   1965\u001B[0m \u001B[38;5;28mself\u001B[39m\u001B[38;5;241m.\u001B[39m_validate_params()\n\u001B[0;32m-> 1966\u001B[0m \u001B[38;5;28;43mself\u001B[39;49m\u001B[38;5;241;43m.\u001B[39;49m\u001B[43m_validate_data\u001B[49m\u001B[43m(\u001B[49m\u001B[43mX\u001B[49m\u001B[43m,\u001B[49m\u001B[43m \u001B[49m\u001B[43maccept_sparse\u001B[49m\u001B[38;5;241;43m=\u001B[39;49m\u001B[38;5;124;43m\"\u001B[39;49m\u001B[38;5;124;43mcsr\u001B[39;49m\u001B[38;5;124;43m\"\u001B[39;49m\u001B[43m)\u001B[49m\n\u001B[1;32m   1967\u001B[0m \u001B[38;5;28;01mreturn\u001B[39;00m \u001B[38;5;28mself\u001B[39m\n",
      "File \u001B[0;32m~/Codding/code_works/Python/Works/Alpha_ml/venv/lib/python3.9/site-packages/sklearn/base.py:565\u001B[0m, in \u001B[0;36mBaseEstimator._validate_data\u001B[0;34m(self, X, y, reset, validate_separately, **check_params)\u001B[0m\n\u001B[1;32m    563\u001B[0m     \u001B[38;5;28;01mraise\u001B[39;00m \u001B[38;5;167;01mValueError\u001B[39;00m(\u001B[38;5;124m\"\u001B[39m\u001B[38;5;124mValidation should be done on X, y or both.\u001B[39m\u001B[38;5;124m\"\u001B[39m)\n\u001B[1;32m    564\u001B[0m \u001B[38;5;28;01melif\u001B[39;00m \u001B[38;5;129;01mnot\u001B[39;00m no_val_X \u001B[38;5;129;01mand\u001B[39;00m no_val_y:\n\u001B[0;32m--> 565\u001B[0m     X \u001B[38;5;241m=\u001B[39m \u001B[43mcheck_array\u001B[49m\u001B[43m(\u001B[49m\u001B[43mX\u001B[49m\u001B[43m,\u001B[49m\u001B[43m \u001B[49m\u001B[43minput_name\u001B[49m\u001B[38;5;241;43m=\u001B[39;49m\u001B[38;5;124;43m\"\u001B[39;49m\u001B[38;5;124;43mX\u001B[39;49m\u001B[38;5;124;43m\"\u001B[39;49m\u001B[43m,\u001B[49m\u001B[43m \u001B[49m\u001B[38;5;241;43m*\u001B[39;49m\u001B[38;5;241;43m*\u001B[39;49m\u001B[43mcheck_params\u001B[49m\u001B[43m)\u001B[49m\n\u001B[1;32m    566\u001B[0m     out \u001B[38;5;241m=\u001B[39m X\n\u001B[1;32m    567\u001B[0m \u001B[38;5;28;01melif\u001B[39;00m no_val_X \u001B[38;5;129;01mand\u001B[39;00m \u001B[38;5;129;01mnot\u001B[39;00m no_val_y:\n",
      "File \u001B[0;32m~/Codding/code_works/Python/Works/Alpha_ml/venv/lib/python3.9/site-packages/sklearn/utils/validation.py:921\u001B[0m, in \u001B[0;36mcheck_array\u001B[0;34m(array, accept_sparse, accept_large_sparse, dtype, order, copy, force_all_finite, ensure_2d, allow_nd, ensure_min_samples, ensure_min_features, estimator, input_name)\u001B[0m\n\u001B[1;32m    915\u001B[0m         \u001B[38;5;28;01mraise\u001B[39;00m \u001B[38;5;167;01mValueError\u001B[39;00m(\n\u001B[1;32m    916\u001B[0m             \u001B[38;5;124m\"\u001B[39m\u001B[38;5;124mFound array with dim \u001B[39m\u001B[38;5;132;01m%d\u001B[39;00m\u001B[38;5;124m. \u001B[39m\u001B[38;5;132;01m%s\u001B[39;00m\u001B[38;5;124m expected <= 2.\u001B[39m\u001B[38;5;124m\"\u001B[39m\n\u001B[1;32m    917\u001B[0m             \u001B[38;5;241m%\u001B[39m (array\u001B[38;5;241m.\u001B[39mndim, estimator_name)\n\u001B[1;32m    918\u001B[0m         )\n\u001B[1;32m    920\u001B[0m     \u001B[38;5;28;01mif\u001B[39;00m force_all_finite:\n\u001B[0;32m--> 921\u001B[0m         \u001B[43m_assert_all_finite\u001B[49m\u001B[43m(\u001B[49m\n\u001B[1;32m    922\u001B[0m \u001B[43m            \u001B[49m\u001B[43marray\u001B[49m\u001B[43m,\u001B[49m\n\u001B[1;32m    923\u001B[0m \u001B[43m            \u001B[49m\u001B[43minput_name\u001B[49m\u001B[38;5;241;43m=\u001B[39;49m\u001B[43minput_name\u001B[49m\u001B[43m,\u001B[49m\n\u001B[1;32m    924\u001B[0m \u001B[43m            \u001B[49m\u001B[43mestimator_name\u001B[49m\u001B[38;5;241;43m=\u001B[39;49m\u001B[43mestimator_name\u001B[49m\u001B[43m,\u001B[49m\n\u001B[1;32m    925\u001B[0m \u001B[43m            \u001B[49m\u001B[43mallow_nan\u001B[49m\u001B[38;5;241;43m=\u001B[39;49m\u001B[43mforce_all_finite\u001B[49m\u001B[43m \u001B[49m\u001B[38;5;241;43m==\u001B[39;49m\u001B[43m \u001B[49m\u001B[38;5;124;43m\"\u001B[39;49m\u001B[38;5;124;43mallow-nan\u001B[39;49m\u001B[38;5;124;43m\"\u001B[39;49m\u001B[43m,\u001B[49m\n\u001B[1;32m    926\u001B[0m \u001B[43m        \u001B[49m\u001B[43m)\u001B[49m\n\u001B[1;32m    928\u001B[0m \u001B[38;5;28;01mif\u001B[39;00m ensure_min_samples \u001B[38;5;241m>\u001B[39m \u001B[38;5;241m0\u001B[39m:\n\u001B[1;32m    929\u001B[0m     n_samples \u001B[38;5;241m=\u001B[39m _num_samples(array)\n",
      "File \u001B[0;32m~/Codding/code_works/Python/Works/Alpha_ml/venv/lib/python3.9/site-packages/sklearn/utils/validation.py:161\u001B[0m, in \u001B[0;36m_assert_all_finite\u001B[0;34m(X, allow_nan, msg_dtype, estimator_name, input_name)\u001B[0m\n\u001B[1;32m    144\u001B[0m \u001B[38;5;28;01mif\u001B[39;00m estimator_name \u001B[38;5;129;01mand\u001B[39;00m input_name \u001B[38;5;241m==\u001B[39m \u001B[38;5;124m\"\u001B[39m\u001B[38;5;124mX\u001B[39m\u001B[38;5;124m\"\u001B[39m \u001B[38;5;129;01mand\u001B[39;00m has_nan_error:\n\u001B[1;32m    145\u001B[0m     \u001B[38;5;66;03m# Improve the error message on how to handle missing values in\u001B[39;00m\n\u001B[1;32m    146\u001B[0m     \u001B[38;5;66;03m# scikit-learn.\u001B[39;00m\n\u001B[1;32m    147\u001B[0m     msg_err \u001B[38;5;241m+\u001B[39m\u001B[38;5;241m=\u001B[39m (\n\u001B[1;32m    148\u001B[0m         \u001B[38;5;124mf\u001B[39m\u001B[38;5;124m\"\u001B[39m\u001B[38;5;130;01m\\n\u001B[39;00m\u001B[38;5;132;01m{\u001B[39;00mestimator_name\u001B[38;5;132;01m}\u001B[39;00m\u001B[38;5;124m does not accept missing values\u001B[39m\u001B[38;5;124m\"\u001B[39m\n\u001B[1;32m    149\u001B[0m         \u001B[38;5;124m\"\u001B[39m\u001B[38;5;124m encoded as NaN natively. For supervised learning, you might want\u001B[39m\u001B[38;5;124m\"\u001B[39m\n\u001B[0;32m   (...)\u001B[0m\n\u001B[1;32m    159\u001B[0m         \u001B[38;5;124m\"\u001B[39m\u001B[38;5;124m#estimators-that-handle-nan-values\u001B[39m\u001B[38;5;124m\"\u001B[39m\n\u001B[1;32m    160\u001B[0m     )\n\u001B[0;32m--> 161\u001B[0m \u001B[38;5;28;01mraise\u001B[39;00m \u001B[38;5;167;01mValueError\u001B[39;00m(msg_err)\n",
      "\u001B[0;31mValueError\u001B[0m: Input X contains NaN.\nNormalizer does not accept missing values encoded as NaN natively. For supervised learning, you might want to consider sklearn.ensemble.HistGradientBoostingClassifier and Regressor which accept missing values encoded as NaNs natively. Alternatively, it is possible to preprocess the data, for instance by using an imputer transformer in a pipeline or drop samples with missing values. See https://scikit-learn.org/stable/modules/impute.html You can find a list of all estimators that handle NaN values at the following page: https://scikit-learn.org/stable/modules/impute.html#estimators-that-handle-nan-values"
     ]
    }
   ],
   "source": [
    "transformer = Normalizer().fit(my_x_feature)"
   ],
   "metadata": {
    "collapsed": false,
    "ExecuteTime": {
     "start_time": "2023-04-23T18:02:38.876581Z",
     "end_time": "2023-04-23T18:02:39.139542Z"
    }
   }
  },
  {
   "cell_type": "code",
   "execution_count": 76,
   "outputs": [],
   "source": [
    "normalised = transformer.transform(my_x_feature)"
   ],
   "metadata": {
    "collapsed": false,
    "ExecuteTime": {
     "start_time": "2023-04-23T18:03:00.889238Z",
     "end_time": "2023-04-23T18:03:01.434579Z"
    }
   }
  },
  {
   "cell_type": "code",
   "execution_count": 78,
   "outputs": [
    {
     "data": {
      "text/plain": "numpy.ndarray"
     },
     "execution_count": 78,
     "metadata": {},
     "output_type": "execute_result"
    }
   ],
   "source": [
    "type(normalised)"
   ],
   "metadata": {
    "collapsed": false,
    "ExecuteTime": {
     "start_time": "2023-04-23T18:03:13.325587Z",
     "end_time": "2023-04-23T18:03:13.327991Z"
    }
   }
  }
 ],
 "metadata": {
  "kernelspec": {
   "display_name": "Python 3",
   "language": "python",
   "name": "python3"
  },
  "language_info": {
   "codemirror_mode": {
    "name": "ipython",
    "version": 2
   },
   "file_extension": ".py",
   "mimetype": "text/x-python",
   "name": "python",
   "nbconvert_exporter": "python",
   "pygments_lexer": "ipython2",
   "version": "2.7.6"
  }
 },
 "nbformat": 4,
 "nbformat_minor": 0
}
