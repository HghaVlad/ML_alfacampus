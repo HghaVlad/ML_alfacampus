{
 "cells": [
  {
   "cell_type": "code",
   "execution_count": 1,
   "metadata": {
    "collapsed": true,
    "ExecuteTime": {
     "start_time": "2023-04-23T21:39:19.723250Z",
     "end_time": "2023-04-23T21:39:23.404069Z"
    }
   },
   "outputs": [],
   "source": [
    "import pandas as pd\n",
    "import numpy as np"
   ]
  },
  {
   "cell_type": "code",
   "execution_count": 158,
   "outputs": [],
   "source": [
    "my_x_feature = pd.read_csv(\"../ourfeatures/my_bigX_version23.csv\")\n",
    "dataset_trainx = pd.read_parquet(\"../trains/dataset_train_small.parquet\")"
   ],
   "metadata": {
    "collapsed": false,
    "ExecuteTime": {
     "start_time": "2023-04-23T23:09:04.277939Z",
     "end_time": "2023-04-23T23:09:20.844099Z"
    }
   }
  },
  {
   "cell_type": "code",
   "execution_count": 114,
   "outputs": [
    {
     "data": {
      "text/plain": "array([42, 48, 46, 20, 36, 32, 33, 28, 35, 18, 43,  8, 19,  2, 44, 21,  4,\n        7, 13, 22, 10, 11,  3, 40, 15,  5,  6, 37, 23,  9, 14, 12, 29, 41,\n       16, 17, 49, 25, 27, 26, 45, 31, 38, 30, 47, 51, 34,  1, 24, 50, 39,\n       52])"
     },
     "execution_count": 114,
     "metadata": {},
     "output_type": "execute_result"
    }
   ],
   "source": [
    "dataset_trainx['weekofyear'].unique()"
   ],
   "metadata": {
    "collapsed": false,
    "ExecuteTime": {
     "start_time": "2023-04-23T22:45:37.768867Z",
     "end_time": "2023-04-23T22:45:37.980290Z"
    }
   }
  },
  {
   "cell_type": "code",
   "execution_count": 43,
   "outputs": [
    {
     "name": "stdout",
     "output_type": "stream",
     "text": [
      "[\"('city', 'median')\", \"('day_of_week', 'count')\", \"('day_of_week', 'median')\", \"('hour', 'count')\", \"('hour', 'median')\", \"('hour_diff', 'count')\", \"('hour_diff', 'median')\", \"('mycity_1', '')\", \"('mycity_10', '')\", \"('mycity_100', '')\", \"('mycity_101', '')\", \"('mycity_102', '')\", \"('mycity_103', '')\", \"('mycity_104', '')\", \"('mycity_105', '')\", \"('mycity_106', '')\", \"('mycity_107', '')\", \"('mycity_108', '')\", \"('mycity_109', '')\", \"('mycity_11', '')\", \"('mycity_110', '')\", \"('mycity_111', '')\", \"('mycity_112', '')\", \"('mycity_113', '')\", \"('mycity_114', '')\", \"('mycity_115', '')\", \"('mycity_116', '')\", \"('mycity_117', '')\", \"('mycity_118', '')\", \"('mycity_119', '')\", \"('mycity_12', '')\", \"('mycity_120', '')\", \"('mycity_121', '')\", \"('mycity_122', '')\", \"('mycity_123', '')\", \"('mycity_124', '')\", \"('mycity_125', '')\", \"('mycity_126', '')\", \"('mycity_127', '')\", \"('mycity_128', '')\", \"('mycity_129', '')\", \"('mycity_13', '')\", \"('mycity_130', '')\", \"('mycity_131', '')\", \"('mycity_132', '')\", \"('mycity_133', '')\", \"('mycity_134', '')\", \"('mycity_135', '')\", \"('mycity_136', '')\", \"('mycity_137', '')\", \"('mycity_138', '')\", \"('mycity_139', '')\", \"('mycity_14', '')\", \"('mycity_140', '')\", \"('mycity_141', '')\", \"('mycity_142', '')\", \"('mycity_143', '')\", \"('mycity_144', '')\", \"('mycity_145', '')\", \"('mycity_146', '')\", \"('mycity_147', '')\", \"('mycity_148', '')\", \"('mycity_149', '')\", \"('mycity_15', '')\", \"('mycity_150', '')\", \"('mycity_151', '')\", \"('mycity_152', '')\", \"('mycity_153', '')\", \"('mycity_154', '')\", \"('mycity_155', '')\", \"('mycity_156', '')\", \"('mycity_157', '')\", \"('mycity_158', '')\", \"('mycity_159', '')\", \"('mycity_16', '')\", \"('mycity_160', '')\", \"('mycity_161', '')\", \"('mycity_162', '')\", \"('mycity_163', '')\", \"('mycity_17', '')\", \"('mycity_18', '')\", \"('mycity_19', '')\", \"('mycity_2', '')\", \"('mycity_20', '')\", \"('mycity_21', '')\", \"('mycity_22', '')\", \"('mycity_23', '')\", \"('mycity_24', '')\", \"('mycity_25', '')\", \"('mycity_26', '')\", \"('mycity_27', '')\", \"('mycity_28', '')\", \"('mycity_29', '')\", \"('mycity_3', '')\", \"('mycity_30', '')\", \"('mycity_31', '')\", \"('mycity_32', '')\", \"('mycity_33', '')\", \"('mycity_34', '')\", \"('mycity_35', '')\", \"('mycity_36', '')\", \"('mycity_37', '')\", \"('mycity_38', '')\", \"('mycity_39', '')\", \"('mycity_4', '')\", \"('mycity_40', '')\", \"('mycity_41', '')\", \"('mycity_42', '')\", \"('mycity_43', '')\", \"('mycity_44', '')\", \"('mycity_45', '')\", \"('mycity_46', '')\", \"('mycity_47', '')\", \"('mycity_48', '')\", \"('mycity_49', '')\", \"('mycity_5', '')\", \"('mycity_50', '')\", \"('mycity_51', '')\", \"('mycity_52', '')\", \"('mycity_53', '')\", \"('mycity_54', '')\", \"('mycity_55', '')\", \"('mycity_56', '')\", \"('mycity_57', '')\", \"('mycity_58', '')\", \"('mycity_59', '')\", \"('mycity_6', '')\", \"('mycity_60', '')\", \"('mycity_61', '')\", \"('mycity_62', '')\", \"('mycity_63', '')\", \"('mycity_64', '')\", \"('mycity_65', '')\", \"('mycity_66', '')\", \"('mycity_67', '')\", \"('mycity_68', '')\", \"('mycity_69', '')\", \"('mycity_7', '')\", \"('mycity_70', '')\", \"('mycity_71', '')\", \"('mycity_72', '')\", \"('mycity_73', '')\", \"('mycity_74', '')\", \"('mycity_75', '')\", \"('mycity_76', '')\", \"('mycity_77', '')\", \"('mycity_78', '')\", \"('mycity_79', '')\", \"('mycity_8', '')\", \"('mycity_80', '')\", \"('mycity_81', '')\", \"('mycity_82', '')\", \"('mycity_83', '')\", \"('mycity_84', '')\", \"('mycity_85', '')\", \"('mycity_86', '')\", \"('mycity_87', '')\", \"('mycity_88', '')\", \"('mycity_89', '')\", \"('mycity_9', '')\", \"('mycity_90', '')\", \"('mycity_91', '')\", \"('mycity_92', '')\", \"('mycity_93', '')\", \"('mycity_94', '')\", \"('mycity_95', '')\", \"('mycity_96', '')\", \"('mycity_97', '')\", \"('mycity_98', '')\", \"('mycity_99', '')\", \"('weekofyear', 'count')\", \"('weekofyear', 'median')\", 'amnt_max', 'amnt_mean', 'amnt_median', 'amnt_min', 'amnt_std', 'app_id', 'card_type_num_unique_values_x', 'card_type_num_unique_values_y', 'city_median', 'city_num_unique_values', 'country_median', 'country_num_unique_values', 'currency_1', 'currency_10', 'currency_11', 'currency_2', 'currency_3', 'currency_4', 'currency_5', 'currency_6', 'currency_7', 'currency_8', 'currency_9', 'currency_median', 'currency_num_unique_values_x', 'currency_num_unique_values_y', 'day_before_std', 'day_of_week_count', 'day_of_week_mean', 'day_of_week_median', 'day_of_week_num_unique_values', 'days_before_max', 'days_before_mean', 'days_before_min', 'days_before_num_unique_values', 'ecommerce_flag1', 'ecommerce_flag2', 'ecommerce_flag3', 'ecommerce_flag_mean', 'ecommerce_flag_num_unique_values', 'hour_diff_mean', 'hour_num_unique_values', 'income_flag1', 'income_flag2', 'income_flag3', 'income_flag_median', 'mcc_category1', 'mcc_category10', 'mcc_category11', 'mcc_category12', 'mcc_category13', 'mcc_category14', 'mcc_category15', 'mcc_category16', 'mcc_category17', 'mcc_category18', 'mcc_category19', 'mcc_category2', 'mcc_category20', 'mcc_category21', 'mcc_category22', 'mcc_category23', 'mcc_category24', 'mcc_category25', 'mcc_category26', 'mcc_category27', 'mcc_category28', 'mcc_category3', 'mcc_category4', 'mcc_category5', 'mcc_category6', 'mcc_category7', 'mcc_category8', 'mcc_category9', 'mcc_category_mean', 'mcc_category_median_x', 'mcc_category_median_y', 'mcc_category_num_unique_values', 'mcc_median', 'mcc_num_unique_values', 'mcountry_1', 'mcountry_10', 'mcountry_11', 'mcountry_12', 'mcountry_13', 'mcountry_14', 'mcountry_15', 'mcountry_16', 'mcountry_17', 'mcountry_18', 'mcountry_19', 'mcountry_2', 'mcountry_20', 'mcountry_21', 'mcountry_22', 'mcountry_23', 'mcountry_24', 'mcountry_3', 'mcountry_4', 'mcountry_5', 'mcountry_6', 'mcountry_7', 'mcountry_8', 'mcountry_9', 'my_dayofweek1', 'my_dayofweek2', 'my_dayofweek3', 'my_dayofweek4', 'my_dayofweek5', 'my_dayofweek6', 'my_dayofweek7', 'mymcc1', 'mymcc10', 'mymcc100', 'mymcc101', 'mymcc102', 'mymcc103', 'mymcc104', 'mymcc105', 'mymcc106', 'mymcc107', 'mymcc108', 'mymcc11', 'mymcc12', 'mymcc13', 'mymcc14', 'mymcc15', 'mymcc16', 'mymcc17', 'mymcc18', 'mymcc19', 'mymcc2', 'mymcc20', 'mymcc21', 'mymcc22', 'mymcc23', 'mymcc24', 'mymcc25', 'mymcc26', 'mymcc27', 'mymcc28', 'mymcc29', 'mymcc3', 'mymcc30', 'mymcc31', 'mymcc32', 'mymcc33', 'mymcc34', 'mymcc35', 'mymcc36', 'mymcc37', 'mymcc38', 'mymcc39', 'mymcc4', 'mymcc40', 'mymcc41', 'mymcc42', 'mymcc43', 'mymcc44', 'mymcc45', 'mymcc46', 'mymcc47', 'mymcc48', 'mymcc49', 'mymcc5', 'mymcc50', 'mymcc51', 'mymcc52', 'mymcc53', 'mymcc54', 'mymcc55', 'mymcc56', 'mymcc57', 'mymcc58', 'mymcc59', 'mymcc6', 'mymcc60', 'mymcc61', 'mymcc62', 'mymcc63', 'mymcc64', 'mymcc65', 'mymcc66', 'mymcc67', 'mymcc68', 'mymcc69', 'mymcc7', 'mymcc70', 'mymcc71', 'mymcc72', 'mymcc73', 'mymcc74', 'mymcc75', 'mymcc76', 'mymcc77', 'mymcc78', 'mymcc79', 'mymcc8', 'mymcc80', 'mymcc81', 'mymcc82', 'mymcc83', 'mymcc84', 'mymcc85', 'mymcc86', 'mymcc87', 'mymcc88', 'mymcc89', 'mymcc9', 'mymcc90', 'mymcc91', 'mymcc92', 'mymcc93', 'mymcc94', 'mymcc95', 'mymcc96', 'mymcc97', 'mymcc98', 'mymcc99', 'operation_kind1', 'operation_kind2', 'operation_kind3', 'operation_kind4', 'operation_kind5', 'operation_kind6', 'operation_kind7', 'operation_kind_median', 'operation_kind_num_unique_values', 'operation_type_group1', 'operation_type_group2', 'operation_type_group3', 'operation_type_group4', 'operation_type_group_median', 'operation_type_group_num_unique_values', 'operation_type_num_unique_values', 'payment_system1', 'payment_system2', 'payment_system3', 'payment_system4', 'payment_system5', 'payment_system6', 'payment_system7', 'payment_system_median', 'payment_system_num_unique_values', 'product', 'transaction_number_max', 'weekofyear_num_unique_values']\n"
     ]
    }
   ],
   "source": [
    "print(sorted(my_x_feature.values))"
   ],
   "metadata": {
    "collapsed": false,
    "ExecuteTime": {
     "start_time": "2023-04-23T22:04:31.162203Z",
     "end_time": "2023-04-23T22:04:31.177739Z"
    }
   }
  },
  {
   "cell_type": "code",
   "execution_count": 70,
   "outputs": [
    {
     "data": {
      "text/plain": "410"
     },
     "execution_count": 70,
     "metadata": {},
     "output_type": "execute_result"
    }
   ],
   "source": [
    "len(my_x_feature.columns)"
   ],
   "metadata": {
    "collapsed": false,
    "ExecuteTime": {
     "start_time": "2023-04-23T21:30:53.731265Z",
     "end_time": "2023-04-23T21:30:53.735703Z"
    }
   }
  },
  {
   "cell_type": "code",
   "execution_count": 60,
   "outputs": [
    {
     "data": {
      "text/plain": "payment_system\n3    15447934\n1     9055135\n2     6037129\n4     1961871\n5       93350\n6       40556\n7          12\nName: count, dtype: int64"
     },
     "execution_count": 60,
     "metadata": {},
     "output_type": "execute_result"
    }
   ],
   "source": [
    "dataset_trainx['payment_system'].value_counts()"
   ],
   "metadata": {
    "collapsed": false,
    "ExecuteTime": {
     "start_time": "2023-04-23T22:15:11.622511Z",
     "end_time": "2023-04-23T22:15:11.799946Z"
    }
   }
  },
  {
   "cell_type": "code",
   "execution_count": 147,
   "outputs": [],
   "source": [
    "my_testx_feature = pd.read_csv(\"../ourfeatures/my_bigXtest_version22.csv\")\n",
    "dataset_testx = pd.read_parquet(\"../trains/dataset_test.parquet\")"
   ],
   "metadata": {
    "collapsed": false,
    "ExecuteTime": {
     "start_time": "2023-04-23T23:00:15.495929Z",
     "end_time": "2023-04-23T23:00:21.285696Z"
    }
   }
  },
  {
   "cell_type": "code",
   "execution_count": 56,
   "outputs": [
    {
     "data": {
      "text/plain": "[6569,\n 7611,\n 13463,\n 13525,\n 21830,\n 25526,\n 29668,\n 38985,\n 49392,\n 57940,\n 113082,\n 115876,\n 137317,\n 158174,\n 160051,\n 216064,\n 381362,\n 490883,\n 603306,\n 917849,\n 5989389,\n 9251316]"
     },
     "execution_count": 56,
     "metadata": {},
     "output_type": "execute_result"
    }
   ],
   "source": [],
   "metadata": {
    "collapsed": false,
    "ExecuteTime": {
     "start_time": "2023-04-23T22:12:34.126577Z",
     "end_time": "2023-04-23T22:12:34.234816Z"
    }
   }
  },
  {
   "cell_type": "code",
   "execution_count": null,
   "outputs": [],
   "source": [
    "def delete_columns(column_list: list, dataset: pd.DataFrame):\n",
    "    new_dataset = dataset.drop(column_list, axis=1)\n",
    "    return new_dataset"
   ],
   "metadata": {
    "collapsed": false,
    "ExecuteTime": {
     "start_time": "2023-04-22T22:48:27.416111Z",
     "end_time": "2023-04-22T22:48:27.430283Z"
    }
   }
  },
  {
   "cell_type": "code",
   "execution_count": 125,
   "outputs": [
    {
     "data": {
      "text/plain": "array([13, 22, 10, 11,  3, 40,  6, 15,  5, 37, 23,  9, 14, 12, 16, 17, 29,\n       41, 25, 26, 49, 27, 45, 47, 30, 31, 38])"
     },
     "execution_count": 125,
     "metadata": {},
     "output_type": "execute_result"
    }
   ],
   "source": [
    "dataset_testx['weekofyear'].unique()"
   ],
   "metadata": {
    "collapsed": false,
    "ExecuteTime": {
     "start_time": "2023-04-23T22:48:32.681561Z",
     "end_time": "2023-04-23T22:48:32.799840Z"
    }
   }
  },
  {
   "cell_type": "code",
   "execution_count": 126,
   "outputs": [
    {
     "data": {
      "text/plain": "array([42, 48, 46, 20, 36, 32, 33, 28, 35, 18, 43,  8, 19,  2, 44, 21,  4,\n        7, 13, 22, 10, 11,  3, 40, 15,  5,  6, 37, 23,  9, 14, 12, 29, 41,\n       16, 17, 49, 25, 27, 26, 45, 31, 38, 30, 47, 51, 34,  1, 24, 50, 39,\n       52])"
     },
     "execution_count": 126,
     "metadata": {},
     "output_type": "execute_result"
    }
   ],
   "source": [
    "dataset_trainx['weekofyear'].unique()"
   ],
   "metadata": {
    "collapsed": false,
    "ExecuteTime": {
     "start_time": "2023-04-23T22:48:35.584977Z",
     "end_time": "2023-04-23T22:48:35.795933Z"
    }
   }
  },
  {
   "cell_type": "code",
   "execution_count": null,
   "outputs": [],
   "source": [
    "columns_to_delete = [\"income_flag_median\", \"day_before_std\"]"
   ],
   "metadata": {
    "collapsed": false,
    "ExecuteTime": {
     "start_time": "2023-04-22T23:15:38.347724Z",
     "end_time": "2023-04-22T23:15:38.365757Z"
    }
   }
  },
  {
   "cell_type": "code",
   "execution_count": null,
   "outputs": [],
   "source": [
    "new_featurex = delete_columns(columns_to_delete, my_testx_feature)"
   ],
   "metadata": {
    "collapsed": false,
    "ExecuteTime": {
     "start_time": "2023-04-22T23:16:15.649136Z",
     "end_time": "2023-04-22T23:16:15.665151Z"
    }
   }
  },
  {
   "cell_type": "code",
   "execution_count": null,
   "outputs": [],
   "source": [
    "new_featurex.to_csv(\"../ourfeatures/my_bigtestX_version6.csv\", index=False)"
   ],
   "metadata": {
    "collapsed": false,
    "ExecuteTime": {
     "start_time": "2023-04-22T23:16:18.830956Z",
     "end_time": "2023-04-22T23:16:23.282709Z"
    }
   }
  },
  {
   "cell_type": "code",
   "execution_count": null,
   "outputs": [],
   "source": [],
   "metadata": {
    "collapsed": false,
    "ExecuteTime": {
     "start_time": "2023-04-22T22:05:39.343283Z",
     "end_time": "2023-04-22T22:05:41.994842Z"
    }
   }
  },
  {
   "cell_type": "code",
   "execution_count": 13,
   "outputs": [],
   "source": [
    "def new_columns(new_agg: dict, origin_dataset: pd.DataFrame):\n",
    "    new_dataset = origin_dataset.groupby(\"app_id\").agg(new_agg)\n",
    "    return new_dataset"
   ],
   "metadata": {
    "collapsed": false,
    "ExecuteTime": {
     "start_time": "2023-04-23T21:48:32.640833Z",
     "end_time": "2023-04-23T21:48:32.653828Z"
    }
   }
  },
  {
   "cell_type": "code",
   "execution_count": 121,
   "outputs": [],
   "source": [
    "def get_week_of_year_k(x):\n",
    "    my_uniq = x.value_counts()\n",
    "    return list(({k:my_uniq[k] if k in my_uniq else 0 for k in range(1, 28)} ).values())\n"
   ],
   "metadata": {
    "collapsed": false,
    "ExecuteTime": {
     "start_time": "2023-04-23T22:48:07.010857Z",
     "end_time": "2023-04-23T22:48:07.024932Z"
    }
   }
  },
  {
   "cell_type": "code",
   "execution_count": 122,
   "outputs": [],
   "source": [
    "def get_days_before_k(x):\n",
    "    my_uniq = x.value_counts()\n",
    "    return list(({k:my_uniq[k] if k in my_uniq else 0 for k in range(1, 93)} ).values())\n"
   ],
   "metadata": {
    "collapsed": false,
    "ExecuteTime": {
     "start_time": "2023-04-23T22:48:07.593381Z",
     "end_time": "2023-04-23T22:48:07.603900Z"
    }
   }
  },
  {
   "cell_type": "markdown",
   "source": [],
   "metadata": {
    "collapsed": false
   }
  },
  {
   "cell_type": "code",
   "execution_count": 148,
   "outputs": [],
   "source": [
    "new_columns_tofeaturex = new_columns({ \"weekofyear\": get_week_of_year_k, \"days_before\": get_days_before_k }, dataset_testx)"
   ],
   "metadata": {
    "collapsed": false,
    "ExecuteTime": {
     "start_time": "2023-04-23T23:00:50.407309Z",
     "end_time": "2023-04-23T23:03:14.690725Z"
    }
   }
  },
  {
   "cell_type": "code",
   "execution_count": 137,
   "outputs": [],
   "source": [
    "mynew_columns = sorted([\"my_weekofyear_\"+str(x) for x in list(dataset_testx.weekofyear.value_counts().index)])"
   ],
   "metadata": {
    "collapsed": false,
    "ExecuteTime": {
     "start_time": "2023-04-23T22:56:36.628340Z",
     "end_time": "2023-04-23T22:56:36.645082Z"
    }
   }
  },
  {
   "cell_type": "code",
   "execution_count": 128,
   "outputs": [],
   "source": [
    "mynew_columns2 = sorted([\"my_day_of_week_\"+str(x) for x in list(dataset_testx.days_before.value_counts().index)])"
   ],
   "metadata": {
    "collapsed": false,
    "ExecuteTime": {
     "start_time": "2023-04-23T22:53:48.678246Z",
     "end_time": "2023-04-23T22:53:48.793971Z"
    }
   }
  },
  {
   "cell_type": "code",
   "execution_count": 19,
   "outputs": [
    {
     "data": {
      "text/plain": "[]"
     },
     "execution_count": 19,
     "metadata": {},
     "output_type": "execute_result"
    }
   ],
   "source": [
    "[i for i in new_columns_tofeaturex.columns if new_columns_tofeaturex[i].isnull().any()]"
   ],
   "metadata": {
    "collapsed": false,
    "ExecuteTime": {
     "start_time": "2023-04-23T21:50:31.761820Z",
     "end_time": "2023-04-23T21:50:31.817101Z"
    }
   }
  },
  {
   "cell_type": "code",
   "execution_count": 138,
   "outputs": [
    {
     "data": {
      "text/plain": "27"
     },
     "execution_count": 138,
     "metadata": {},
     "output_type": "execute_result"
    }
   ],
   "source": [
    "len(mynew_columns)"
   ],
   "metadata": {
    "collapsed": false,
    "ExecuteTime": {
     "start_time": "2023-04-23T22:56:37.630873Z",
     "end_time": "2023-04-23T22:56:37.644592Z"
    }
   }
  },
  {
   "cell_type": "code",
   "execution_count": 151,
   "outputs": [
    {
     "name": "stderr",
     "output_type": "stream",
     "text": [
      "C:\\Users\\vladb\\AppData\\Local\\Temp\\ipykernel_7124\\224639885.py:1: PerformanceWarning: DataFrame is highly fragmented.  This is usually the result of calling `frame.insert` many times, which has poor performance.  Consider joining all columns at once using pd.concat(axis=1) instead. To get a de-fragmented frame, use `newframe = frame.copy()`\n",
      "  new_columns_tofeaturex[mynew_columns] = new_columns_tofeaturex[\"weekofyear\"].to_list()\n",
      "C:\\Users\\vladb\\AppData\\Local\\Temp\\ipykernel_7124\\224639885.py:1: PerformanceWarning: DataFrame is highly fragmented.  This is usually the result of calling `frame.insert` many times, which has poor performance.  Consider joining all columns at once using pd.concat(axis=1) instead. To get a de-fragmented frame, use `newframe = frame.copy()`\n",
      "  new_columns_tofeaturex[mynew_columns] = new_columns_tofeaturex[\"weekofyear\"].to_list()\n",
      "C:\\Users\\vladb\\AppData\\Local\\Temp\\ipykernel_7124\\224639885.py:1: PerformanceWarning: DataFrame is highly fragmented.  This is usually the result of calling `frame.insert` many times, which has poor performance.  Consider joining all columns at once using pd.concat(axis=1) instead. To get a de-fragmented frame, use `newframe = frame.copy()`\n",
      "  new_columns_tofeaturex[mynew_columns] = new_columns_tofeaturex[\"weekofyear\"].to_list()\n",
      "C:\\Users\\vladb\\AppData\\Local\\Temp\\ipykernel_7124\\224639885.py:1: PerformanceWarning: DataFrame is highly fragmented.  This is usually the result of calling `frame.insert` many times, which has poor performance.  Consider joining all columns at once using pd.concat(axis=1) instead. To get a de-fragmented frame, use `newframe = frame.copy()`\n",
      "  new_columns_tofeaturex[mynew_columns] = new_columns_tofeaturex[\"weekofyear\"].to_list()\n",
      "C:\\Users\\vladb\\AppData\\Local\\Temp\\ipykernel_7124\\224639885.py:1: PerformanceWarning: DataFrame is highly fragmented.  This is usually the result of calling `frame.insert` many times, which has poor performance.  Consider joining all columns at once using pd.concat(axis=1) instead. To get a de-fragmented frame, use `newframe = frame.copy()`\n",
      "  new_columns_tofeaturex[mynew_columns] = new_columns_tofeaturex[\"weekofyear\"].to_list()\n",
      "C:\\Users\\vladb\\AppData\\Local\\Temp\\ipykernel_7124\\224639885.py:1: PerformanceWarning: DataFrame is highly fragmented.  This is usually the result of calling `frame.insert` many times, which has poor performance.  Consider joining all columns at once using pd.concat(axis=1) instead. To get a de-fragmented frame, use `newframe = frame.copy()`\n",
      "  new_columns_tofeaturex[mynew_columns] = new_columns_tofeaturex[\"weekofyear\"].to_list()\n",
      "C:\\Users\\vladb\\AppData\\Local\\Temp\\ipykernel_7124\\224639885.py:1: PerformanceWarning: DataFrame is highly fragmented.  This is usually the result of calling `frame.insert` many times, which has poor performance.  Consider joining all columns at once using pd.concat(axis=1) instead. To get a de-fragmented frame, use `newframe = frame.copy()`\n",
      "  new_columns_tofeaturex[mynew_columns] = new_columns_tofeaturex[\"weekofyear\"].to_list()\n",
      "C:\\Users\\vladb\\AppData\\Local\\Temp\\ipykernel_7124\\224639885.py:1: PerformanceWarning: DataFrame is highly fragmented.  This is usually the result of calling `frame.insert` many times, which has poor performance.  Consider joining all columns at once using pd.concat(axis=1) instead. To get a de-fragmented frame, use `newframe = frame.copy()`\n",
      "  new_columns_tofeaturex[mynew_columns] = new_columns_tofeaturex[\"weekofyear\"].to_list()\n",
      "C:\\Users\\vladb\\AppData\\Local\\Temp\\ipykernel_7124\\224639885.py:1: PerformanceWarning: DataFrame is highly fragmented.  This is usually the result of calling `frame.insert` many times, which has poor performance.  Consider joining all columns at once using pd.concat(axis=1) instead. To get a de-fragmented frame, use `newframe = frame.copy()`\n",
      "  new_columns_tofeaturex[mynew_columns] = new_columns_tofeaturex[\"weekofyear\"].to_list()\n",
      "C:\\Users\\vladb\\AppData\\Local\\Temp\\ipykernel_7124\\224639885.py:1: PerformanceWarning: DataFrame is highly fragmented.  This is usually the result of calling `frame.insert` many times, which has poor performance.  Consider joining all columns at once using pd.concat(axis=1) instead. To get a de-fragmented frame, use `newframe = frame.copy()`\n",
      "  new_columns_tofeaturex[mynew_columns] = new_columns_tofeaturex[\"weekofyear\"].to_list()\n",
      "C:\\Users\\vladb\\AppData\\Local\\Temp\\ipykernel_7124\\224639885.py:1: PerformanceWarning: DataFrame is highly fragmented.  This is usually the result of calling `frame.insert` many times, which has poor performance.  Consider joining all columns at once using pd.concat(axis=1) instead. To get a de-fragmented frame, use `newframe = frame.copy()`\n",
      "  new_columns_tofeaturex[mynew_columns] = new_columns_tofeaturex[\"weekofyear\"].to_list()\n",
      "C:\\Users\\vladb\\AppData\\Local\\Temp\\ipykernel_7124\\224639885.py:1: PerformanceWarning: DataFrame is highly fragmented.  This is usually the result of calling `frame.insert` many times, which has poor performance.  Consider joining all columns at once using pd.concat(axis=1) instead. To get a de-fragmented frame, use `newframe = frame.copy()`\n",
      "  new_columns_tofeaturex[mynew_columns] = new_columns_tofeaturex[\"weekofyear\"].to_list()\n",
      "C:\\Users\\vladb\\AppData\\Local\\Temp\\ipykernel_7124\\224639885.py:1: PerformanceWarning: DataFrame is highly fragmented.  This is usually the result of calling `frame.insert` many times, which has poor performance.  Consider joining all columns at once using pd.concat(axis=1) instead. To get a de-fragmented frame, use `newframe = frame.copy()`\n",
      "  new_columns_tofeaturex[mynew_columns] = new_columns_tofeaturex[\"weekofyear\"].to_list()\n",
      "C:\\Users\\vladb\\AppData\\Local\\Temp\\ipykernel_7124\\224639885.py:1: PerformanceWarning: DataFrame is highly fragmented.  This is usually the result of calling `frame.insert` many times, which has poor performance.  Consider joining all columns at once using pd.concat(axis=1) instead. To get a de-fragmented frame, use `newframe = frame.copy()`\n",
      "  new_columns_tofeaturex[mynew_columns] = new_columns_tofeaturex[\"weekofyear\"].to_list()\n",
      "C:\\Users\\vladb\\AppData\\Local\\Temp\\ipykernel_7124\\224639885.py:1: PerformanceWarning: DataFrame is highly fragmented.  This is usually the result of calling `frame.insert` many times, which has poor performance.  Consider joining all columns at once using pd.concat(axis=1) instead. To get a de-fragmented frame, use `newframe = frame.copy()`\n",
      "  new_columns_tofeaturex[mynew_columns] = new_columns_tofeaturex[\"weekofyear\"].to_list()\n",
      "C:\\Users\\vladb\\AppData\\Local\\Temp\\ipykernel_7124\\224639885.py:1: PerformanceWarning: DataFrame is highly fragmented.  This is usually the result of calling `frame.insert` many times, which has poor performance.  Consider joining all columns at once using pd.concat(axis=1) instead. To get a de-fragmented frame, use `newframe = frame.copy()`\n",
      "  new_columns_tofeaturex[mynew_columns] = new_columns_tofeaturex[\"weekofyear\"].to_list()\n",
      "C:\\Users\\vladb\\AppData\\Local\\Temp\\ipykernel_7124\\224639885.py:1: PerformanceWarning: DataFrame is highly fragmented.  This is usually the result of calling `frame.insert` many times, which has poor performance.  Consider joining all columns at once using pd.concat(axis=1) instead. To get a de-fragmented frame, use `newframe = frame.copy()`\n",
      "  new_columns_tofeaturex[mynew_columns] = new_columns_tofeaturex[\"weekofyear\"].to_list()\n",
      "C:\\Users\\vladb\\AppData\\Local\\Temp\\ipykernel_7124\\224639885.py:1: PerformanceWarning: DataFrame is highly fragmented.  This is usually the result of calling `frame.insert` many times, which has poor performance.  Consider joining all columns at once using pd.concat(axis=1) instead. To get a de-fragmented frame, use `newframe = frame.copy()`\n",
      "  new_columns_tofeaturex[mynew_columns] = new_columns_tofeaturex[\"weekofyear\"].to_list()\n",
      "C:\\Users\\vladb\\AppData\\Local\\Temp\\ipykernel_7124\\224639885.py:1: PerformanceWarning: DataFrame is highly fragmented.  This is usually the result of calling `frame.insert` many times, which has poor performance.  Consider joining all columns at once using pd.concat(axis=1) instead. To get a de-fragmented frame, use `newframe = frame.copy()`\n",
      "  new_columns_tofeaturex[mynew_columns] = new_columns_tofeaturex[\"weekofyear\"].to_list()\n",
      "C:\\Users\\vladb\\AppData\\Local\\Temp\\ipykernel_7124\\224639885.py:1: PerformanceWarning: DataFrame is highly fragmented.  This is usually the result of calling `frame.insert` many times, which has poor performance.  Consider joining all columns at once using pd.concat(axis=1) instead. To get a de-fragmented frame, use `newframe = frame.copy()`\n",
      "  new_columns_tofeaturex[mynew_columns] = new_columns_tofeaturex[\"weekofyear\"].to_list()\n"
     ]
    }
   ],
   "source": [
    "new_columns_tofeaturex[mynew_columns] = new_columns_tofeaturex[\"weekofyear\"].to_list()"
   ],
   "metadata": {
    "collapsed": false,
    "ExecuteTime": {
     "start_time": "2023-04-23T23:04:50.528140Z",
     "end_time": "2023-04-23T23:04:58.538891Z"
    }
   }
  },
  {
   "cell_type": "code",
   "execution_count": 155,
   "outputs": [
    {
     "data": {
      "text/plain": "         my_day_of_week_1  my_day_of_week_10  my_day_of_week_11   \napp_id                                                            \n805133                  0                  0                  0  \\\n805134                  0                  1                  0   \n805135                  1                  2                  5   \n805136                  0                  0                  0   \n805137                  0                  0                  0   \n...                   ...                ...                ...   \n1003045                 0                  0                  0   \n1003047                 0                  2                  0   \n1003048                 2                  0                  0   \n1003049                 0                  0                  0   \n1003050                 1                  0                  0   \n\n         my_day_of_week_12  my_day_of_week_13  my_day_of_week_14   \napp_id                                                             \n805133                   0                  0                  0  \\\n805134                   0                  0                  0   \n805135                   4                  5                  5   \n805136                   0                  1                  0   \n805137                   0                  0                  0   \n...                    ...                ...                ...   \n1003045                  0                  0                  0   \n1003047                  1                  3                  0   \n1003048                  0                  5                  2   \n1003049                  0                  0                  0   \n1003050                  0                  0                  0   \n\n         my_day_of_week_15  my_day_of_week_16  my_day_of_week_17   \napp_id                                                             \n805133                   0                  0                  0  \\\n805134                   0                  0                  0   \n805135                   6                  5                  4   \n805136                   0                  0                  0   \n805137                   0                  0                  0   \n...                    ...                ...                ...   \n1003045                  0                  1                  1   \n1003047                  0                  2                  2   \n1003048                  3                  2                  2   \n1003049                  0                  0                  0   \n1003050                  0                  0                  2   \n\n         my_day_of_week_18  ...  my_weekofyear_37  my_weekofyear_38   \napp_id                      ...                                       \n805133                   0  ...                 0                 0  \\\n805134                   0  ...                 0                 0   \n805135                   2  ...                 0                 0   \n805136                   0  ...                 0                 0   \n805137                   0  ...                 0                 0   \n...                    ...  ...               ...               ...   \n1003045                  0  ...                 0                 0   \n1003047                  3  ...                 0                 0   \n1003048                  3  ...                 0                 0   \n1003049                  0  ...                 0                 0   \n1003050                  6  ...                 0                 0   \n\n         my_weekofyear_40  my_weekofyear_41  my_weekofyear_45   \napp_id                                                          \n805133                  0                 0                 2  \\\n805134                  0                 0                 0   \n805135                  0                 0                12   \n805136                  0                 0                 4   \n805137                  0                 0                 0   \n...                   ...               ...               ...   \n1003045                 0                 0                 0   \n1003047                 0                 0                 0   \n1003048                 0                 0                 0   \n1003049                 0                 0                 0   \n1003050                 0                 0                 0   \n\n         my_weekofyear_47  my_weekofyear_49  my_weekofyear_5  my_weekofyear_6   \napp_id                                                                          \n805133                  0                 0                0                0  \\\n805134                  0                 0                0                0   \n805135                 29                 0                0                0   \n805136                  4                 0                0                0   \n805137                  0                 0                0                0   \n...                   ...               ...              ...              ...   \n1003045                 0                 0                0                0   \n1003047                 0                 0                4                5   \n1003048                 0                 0               14               16   \n1003049                 0                 0                0                1   \n1003050                 0                 0               21               17   \n\n         my_weekofyear_9  \napp_id                    \n805133                 0  \n805134                 0  \n805135                 0  \n805136                 0  \n805137                 0  \n...                  ...  \n1003045                3  \n1003047                3  \n1003048                1  \n1003049                0  \n1003050               12  \n\n[188674 rows x 119 columns]",
      "text/html": "<div>\n<style scoped>\n    .dataframe tbody tr th:only-of-type {\n        vertical-align: middle;\n    }\n\n    .dataframe tbody tr th {\n        vertical-align: top;\n    }\n\n    .dataframe thead th {\n        text-align: right;\n    }\n</style>\n<table border=\"1\" class=\"dataframe\">\n  <thead>\n    <tr style=\"text-align: right;\">\n      <th></th>\n      <th>my_day_of_week_1</th>\n      <th>my_day_of_week_10</th>\n      <th>my_day_of_week_11</th>\n      <th>my_day_of_week_12</th>\n      <th>my_day_of_week_13</th>\n      <th>my_day_of_week_14</th>\n      <th>my_day_of_week_15</th>\n      <th>my_day_of_week_16</th>\n      <th>my_day_of_week_17</th>\n      <th>my_day_of_week_18</th>\n      <th>...</th>\n      <th>my_weekofyear_37</th>\n      <th>my_weekofyear_38</th>\n      <th>my_weekofyear_40</th>\n      <th>my_weekofyear_41</th>\n      <th>my_weekofyear_45</th>\n      <th>my_weekofyear_47</th>\n      <th>my_weekofyear_49</th>\n      <th>my_weekofyear_5</th>\n      <th>my_weekofyear_6</th>\n      <th>my_weekofyear_9</th>\n    </tr>\n    <tr>\n      <th>app_id</th>\n      <th></th>\n      <th></th>\n      <th></th>\n      <th></th>\n      <th></th>\n      <th></th>\n      <th></th>\n      <th></th>\n      <th></th>\n      <th></th>\n      <th></th>\n      <th></th>\n      <th></th>\n      <th></th>\n      <th></th>\n      <th></th>\n      <th></th>\n      <th></th>\n      <th></th>\n      <th></th>\n      <th></th>\n    </tr>\n  </thead>\n  <tbody>\n    <tr>\n      <th>805133</th>\n      <td>0</td>\n      <td>0</td>\n      <td>0</td>\n      <td>0</td>\n      <td>0</td>\n      <td>0</td>\n      <td>0</td>\n      <td>0</td>\n      <td>0</td>\n      <td>0</td>\n      <td>...</td>\n      <td>0</td>\n      <td>0</td>\n      <td>0</td>\n      <td>0</td>\n      <td>2</td>\n      <td>0</td>\n      <td>0</td>\n      <td>0</td>\n      <td>0</td>\n      <td>0</td>\n    </tr>\n    <tr>\n      <th>805134</th>\n      <td>0</td>\n      <td>1</td>\n      <td>0</td>\n      <td>0</td>\n      <td>0</td>\n      <td>0</td>\n      <td>0</td>\n      <td>0</td>\n      <td>0</td>\n      <td>0</td>\n      <td>...</td>\n      <td>0</td>\n      <td>0</td>\n      <td>0</td>\n      <td>0</td>\n      <td>0</td>\n      <td>0</td>\n      <td>0</td>\n      <td>0</td>\n      <td>0</td>\n      <td>0</td>\n    </tr>\n    <tr>\n      <th>805135</th>\n      <td>1</td>\n      <td>2</td>\n      <td>5</td>\n      <td>4</td>\n      <td>5</td>\n      <td>5</td>\n      <td>6</td>\n      <td>5</td>\n      <td>4</td>\n      <td>2</td>\n      <td>...</td>\n      <td>0</td>\n      <td>0</td>\n      <td>0</td>\n      <td>0</td>\n      <td>12</td>\n      <td>29</td>\n      <td>0</td>\n      <td>0</td>\n      <td>0</td>\n      <td>0</td>\n    </tr>\n    <tr>\n      <th>805136</th>\n      <td>0</td>\n      <td>0</td>\n      <td>0</td>\n      <td>0</td>\n      <td>1</td>\n      <td>0</td>\n      <td>0</td>\n      <td>0</td>\n      <td>0</td>\n      <td>0</td>\n      <td>...</td>\n      <td>0</td>\n      <td>0</td>\n      <td>0</td>\n      <td>0</td>\n      <td>4</td>\n      <td>4</td>\n      <td>0</td>\n      <td>0</td>\n      <td>0</td>\n      <td>0</td>\n    </tr>\n    <tr>\n      <th>805137</th>\n      <td>0</td>\n      <td>0</td>\n      <td>0</td>\n      <td>0</td>\n      <td>0</td>\n      <td>0</td>\n      <td>0</td>\n      <td>0</td>\n      <td>0</td>\n      <td>0</td>\n      <td>...</td>\n      <td>0</td>\n      <td>0</td>\n      <td>0</td>\n      <td>0</td>\n      <td>0</td>\n      <td>0</td>\n      <td>0</td>\n      <td>0</td>\n      <td>0</td>\n      <td>0</td>\n    </tr>\n    <tr>\n      <th>...</th>\n      <td>...</td>\n      <td>...</td>\n      <td>...</td>\n      <td>...</td>\n      <td>...</td>\n      <td>...</td>\n      <td>...</td>\n      <td>...</td>\n      <td>...</td>\n      <td>...</td>\n      <td>...</td>\n      <td>...</td>\n      <td>...</td>\n      <td>...</td>\n      <td>...</td>\n      <td>...</td>\n      <td>...</td>\n      <td>...</td>\n      <td>...</td>\n      <td>...</td>\n      <td>...</td>\n    </tr>\n    <tr>\n      <th>1003045</th>\n      <td>0</td>\n      <td>0</td>\n      <td>0</td>\n      <td>0</td>\n      <td>0</td>\n      <td>0</td>\n      <td>0</td>\n      <td>1</td>\n      <td>1</td>\n      <td>0</td>\n      <td>...</td>\n      <td>0</td>\n      <td>0</td>\n      <td>0</td>\n      <td>0</td>\n      <td>0</td>\n      <td>0</td>\n      <td>0</td>\n      <td>0</td>\n      <td>0</td>\n      <td>3</td>\n    </tr>\n    <tr>\n      <th>1003047</th>\n      <td>0</td>\n      <td>2</td>\n      <td>0</td>\n      <td>1</td>\n      <td>3</td>\n      <td>0</td>\n      <td>0</td>\n      <td>2</td>\n      <td>2</td>\n      <td>3</td>\n      <td>...</td>\n      <td>0</td>\n      <td>0</td>\n      <td>0</td>\n      <td>0</td>\n      <td>0</td>\n      <td>0</td>\n      <td>0</td>\n      <td>4</td>\n      <td>5</td>\n      <td>3</td>\n    </tr>\n    <tr>\n      <th>1003048</th>\n      <td>2</td>\n      <td>0</td>\n      <td>0</td>\n      <td>0</td>\n      <td>5</td>\n      <td>2</td>\n      <td>3</td>\n      <td>2</td>\n      <td>2</td>\n      <td>3</td>\n      <td>...</td>\n      <td>0</td>\n      <td>0</td>\n      <td>0</td>\n      <td>0</td>\n      <td>0</td>\n      <td>0</td>\n      <td>0</td>\n      <td>14</td>\n      <td>16</td>\n      <td>1</td>\n    </tr>\n    <tr>\n      <th>1003049</th>\n      <td>0</td>\n      <td>0</td>\n      <td>0</td>\n      <td>0</td>\n      <td>0</td>\n      <td>0</td>\n      <td>0</td>\n      <td>0</td>\n      <td>0</td>\n      <td>0</td>\n      <td>...</td>\n      <td>0</td>\n      <td>0</td>\n      <td>0</td>\n      <td>0</td>\n      <td>0</td>\n      <td>0</td>\n      <td>0</td>\n      <td>0</td>\n      <td>1</td>\n      <td>0</td>\n    </tr>\n    <tr>\n      <th>1003050</th>\n      <td>1</td>\n      <td>0</td>\n      <td>0</td>\n      <td>0</td>\n      <td>0</td>\n      <td>0</td>\n      <td>0</td>\n      <td>0</td>\n      <td>2</td>\n      <td>6</td>\n      <td>...</td>\n      <td>0</td>\n      <td>0</td>\n      <td>0</td>\n      <td>0</td>\n      <td>0</td>\n      <td>0</td>\n      <td>0</td>\n      <td>21</td>\n      <td>17</td>\n      <td>12</td>\n    </tr>\n  </tbody>\n</table>\n<p>188674 rows × 119 columns</p>\n</div>"
     },
     "execution_count": 155,
     "metadata": {},
     "output_type": "execute_result"
    }
   ],
   "source": [
    "new_columns_tofeaturex"
   ],
   "metadata": {
    "collapsed": false,
    "ExecuteTime": {
     "start_time": "2023-04-23T23:05:57.381835Z",
     "end_time": "2023-04-23T23:05:57.445005Z"
    }
   }
  },
  {
   "cell_type": "code",
   "execution_count": 154,
   "outputs": [],
   "source": [
    "new_columns_tofeaturex = new_columns_tofeaturex.drop((\"weekofyear\"), axis=1)"
   ],
   "metadata": {
    "collapsed": false,
    "ExecuteTime": {
     "start_time": "2023-04-23T23:05:54.330622Z",
     "end_time": "2023-04-23T23:05:54.418889Z"
    }
   }
  },
  {
   "cell_type": "code",
   "execution_count": 156,
   "outputs": [],
   "source": [
    "#new_columns_tofeaturex.columns = ['_'.join(col).strip('_') for col in new_columns_tofeaturex.columns.values]\n",
    "new_featurex = my_testx_feature.merge(new_columns_tofeaturex, on=\"app_id\")"
   ],
   "metadata": {
    "collapsed": false,
    "ExecuteTime": {
     "start_time": "2023-04-23T23:06:22.412868Z",
     "end_time": "2023-04-23T23:06:22.831454Z"
    }
   }
  },
  {
   "cell_type": "code",
   "execution_count": 157,
   "outputs": [],
   "source": [
    "new_featurex.to_csv(\"../ourfeatures/my_bigXtest_version23.csv\", index=False)"
   ],
   "metadata": {
    "collapsed": false,
    "ExecuteTime": {
     "start_time": "2023-04-23T23:06:36.016331Z",
     "end_time": "2023-04-23T23:06:59.850481Z"
    }
   }
  },
  {
   "cell_type": "code",
   "execution_count": 26,
   "outputs": [
    {
     "data": {
      "text/plain": "        app_id  transaction_number_max  amnt_min  amnt_max  amnt_mean   \n0            1                     120  0.155581  0.539584   0.315662  \\\n1            5                      47  0.269110  0.594620   0.413886   \n2            6                      23  0.321124  0.605813   0.405220   \n3            7                      28  0.062575  0.476811   0.248939   \n4           11                      17  0.258972  0.516834   0.395651   \n...        ...                     ...       ...       ...        ...   \n377341  805124                      20  0.178216  0.454634   0.327272   \n377342  805125                      92  0.212853  0.607141   0.341180   \n377343  805127                       3  0.520103  0.520103   0.520103   \n377344  805130                      53  0.271747  0.563568   0.406822   \n377345  805132                     138  0.153618  0.522181   0.313436   \n\n        amnt_median  currency_num_unique_values_x  currency_median   \n0          0.297589                             1              1.0  \\\n1          0.431864                             1              1.0   \n2          0.349301                             3             11.0   \n3          0.263058                             1              1.0   \n4          0.397758                             1              1.0   \n...             ...                           ...              ...   \n377341     0.287526                             1              1.0   \n377342     0.324899                             1              1.0   \n377343     0.520103                             1              1.0   \n377344     0.409737                             3              1.0   \n377345     0.310411                             1              1.0   \n\n        operation_type_group_median  operation_kind_median  ...   \n0                               1.0                    1.0  ...  \\\n1                               1.0                    1.0  ...   \n2                               1.0                    1.0  ...   \n3                               1.0                    1.0  ...   \n4                               1.0                    1.0  ...   \n...                             ...                    ...  ...   \n377341                          1.0                    1.0  ...   \n377342                          1.0                    1.0  ...   \n377343                          2.0                    4.0  ...   \n377344                          1.0                    1.0  ...   \n377345                          1.0                    1.0  ...   \n\n        ('mycity_99', '')  day_of_week_count  day_of_week_median   \n0                       0                120                 4.0  \\\n1                       0                 47                 3.0   \n2                       0                 23                 6.0   \n3                       0                 28                 5.0   \n4                       0                 17                 3.0   \n...                   ...                ...                 ...   \n377341                  0                 20                 4.0   \n377342                  3                 92                 3.0   \n377343                  0                  3                 6.0   \n377344                  0                 53                 3.0   \n377345                  1                138                 3.5   \n\n        my_dayofweek1  my_dayofweek2  my_dayofweek3  my_dayofweek4   \n0                  11             11             26             27  \\\n1                  10              4             10              5   \n2                   1              2              1              0   \n3                   0              1              3              8   \n4                   4              3              3              2   \n...               ...            ...            ...            ...   \n377341              2              1              0             10   \n377342             19             17             14             12   \n377343              0              0              0              1   \n377344             16              5              8              8   \n377345             23             28             18             17   \n\n        my_dayofweek5  my_dayofweek6  my_dayofweek7  \n0                  14             17             14  \n1                   7              7              4  \n2                   0             16              3  \n3                  12              2              2  \n4                   2              1              2  \n...               ...            ...            ...  \n377341              2              5              0  \n377342             10              6             14  \n377343              0              1              1  \n377344              5              3              8  \n377345             15             21             16  \n\n[377346 rows x 419 columns]",
      "text/html": "<div>\n<style scoped>\n    .dataframe tbody tr th:only-of-type {\n        vertical-align: middle;\n    }\n\n    .dataframe tbody tr th {\n        vertical-align: top;\n    }\n\n    .dataframe thead th {\n        text-align: right;\n    }\n</style>\n<table border=\"1\" class=\"dataframe\">\n  <thead>\n    <tr style=\"text-align: right;\">\n      <th></th>\n      <th>app_id</th>\n      <th>transaction_number_max</th>\n      <th>amnt_min</th>\n      <th>amnt_max</th>\n      <th>amnt_mean</th>\n      <th>amnt_median</th>\n      <th>currency_num_unique_values_x</th>\n      <th>currency_median</th>\n      <th>operation_type_group_median</th>\n      <th>operation_kind_median</th>\n      <th>...</th>\n      <th>('mycity_99', '')</th>\n      <th>day_of_week_count</th>\n      <th>day_of_week_median</th>\n      <th>my_dayofweek1</th>\n      <th>my_dayofweek2</th>\n      <th>my_dayofweek3</th>\n      <th>my_dayofweek4</th>\n      <th>my_dayofweek5</th>\n      <th>my_dayofweek6</th>\n      <th>my_dayofweek7</th>\n    </tr>\n  </thead>\n  <tbody>\n    <tr>\n      <th>0</th>\n      <td>1</td>\n      <td>120</td>\n      <td>0.155581</td>\n      <td>0.539584</td>\n      <td>0.315662</td>\n      <td>0.297589</td>\n      <td>1</td>\n      <td>1.0</td>\n      <td>1.0</td>\n      <td>1.0</td>\n      <td>...</td>\n      <td>0</td>\n      <td>120</td>\n      <td>4.0</td>\n      <td>11</td>\n      <td>11</td>\n      <td>26</td>\n      <td>27</td>\n      <td>14</td>\n      <td>17</td>\n      <td>14</td>\n    </tr>\n    <tr>\n      <th>1</th>\n      <td>5</td>\n      <td>47</td>\n      <td>0.269110</td>\n      <td>0.594620</td>\n      <td>0.413886</td>\n      <td>0.431864</td>\n      <td>1</td>\n      <td>1.0</td>\n      <td>1.0</td>\n      <td>1.0</td>\n      <td>...</td>\n      <td>0</td>\n      <td>47</td>\n      <td>3.0</td>\n      <td>10</td>\n      <td>4</td>\n      <td>10</td>\n      <td>5</td>\n      <td>7</td>\n      <td>7</td>\n      <td>4</td>\n    </tr>\n    <tr>\n      <th>2</th>\n      <td>6</td>\n      <td>23</td>\n      <td>0.321124</td>\n      <td>0.605813</td>\n      <td>0.405220</td>\n      <td>0.349301</td>\n      <td>3</td>\n      <td>11.0</td>\n      <td>1.0</td>\n      <td>1.0</td>\n      <td>...</td>\n      <td>0</td>\n      <td>23</td>\n      <td>6.0</td>\n      <td>1</td>\n      <td>2</td>\n      <td>1</td>\n      <td>0</td>\n      <td>0</td>\n      <td>16</td>\n      <td>3</td>\n    </tr>\n    <tr>\n      <th>3</th>\n      <td>7</td>\n      <td>28</td>\n      <td>0.062575</td>\n      <td>0.476811</td>\n      <td>0.248939</td>\n      <td>0.263058</td>\n      <td>1</td>\n      <td>1.0</td>\n      <td>1.0</td>\n      <td>1.0</td>\n      <td>...</td>\n      <td>0</td>\n      <td>28</td>\n      <td>5.0</td>\n      <td>0</td>\n      <td>1</td>\n      <td>3</td>\n      <td>8</td>\n      <td>12</td>\n      <td>2</td>\n      <td>2</td>\n    </tr>\n    <tr>\n      <th>4</th>\n      <td>11</td>\n      <td>17</td>\n      <td>0.258972</td>\n      <td>0.516834</td>\n      <td>0.395651</td>\n      <td>0.397758</td>\n      <td>1</td>\n      <td>1.0</td>\n      <td>1.0</td>\n      <td>1.0</td>\n      <td>...</td>\n      <td>0</td>\n      <td>17</td>\n      <td>3.0</td>\n      <td>4</td>\n      <td>3</td>\n      <td>3</td>\n      <td>2</td>\n      <td>2</td>\n      <td>1</td>\n      <td>2</td>\n    </tr>\n    <tr>\n      <th>...</th>\n      <td>...</td>\n      <td>...</td>\n      <td>...</td>\n      <td>...</td>\n      <td>...</td>\n      <td>...</td>\n      <td>...</td>\n      <td>...</td>\n      <td>...</td>\n      <td>...</td>\n      <td>...</td>\n      <td>...</td>\n      <td>...</td>\n      <td>...</td>\n      <td>...</td>\n      <td>...</td>\n      <td>...</td>\n      <td>...</td>\n      <td>...</td>\n      <td>...</td>\n      <td>...</td>\n    </tr>\n    <tr>\n      <th>377341</th>\n      <td>805124</td>\n      <td>20</td>\n      <td>0.178216</td>\n      <td>0.454634</td>\n      <td>0.327272</td>\n      <td>0.287526</td>\n      <td>1</td>\n      <td>1.0</td>\n      <td>1.0</td>\n      <td>1.0</td>\n      <td>...</td>\n      <td>0</td>\n      <td>20</td>\n      <td>4.0</td>\n      <td>2</td>\n      <td>1</td>\n      <td>0</td>\n      <td>10</td>\n      <td>2</td>\n      <td>5</td>\n      <td>0</td>\n    </tr>\n    <tr>\n      <th>377342</th>\n      <td>805125</td>\n      <td>92</td>\n      <td>0.212853</td>\n      <td>0.607141</td>\n      <td>0.341180</td>\n      <td>0.324899</td>\n      <td>1</td>\n      <td>1.0</td>\n      <td>1.0</td>\n      <td>1.0</td>\n      <td>...</td>\n      <td>3</td>\n      <td>92</td>\n      <td>3.0</td>\n      <td>19</td>\n      <td>17</td>\n      <td>14</td>\n      <td>12</td>\n      <td>10</td>\n      <td>6</td>\n      <td>14</td>\n    </tr>\n    <tr>\n      <th>377343</th>\n      <td>805127</td>\n      <td>3</td>\n      <td>0.520103</td>\n      <td>0.520103</td>\n      <td>0.520103</td>\n      <td>0.520103</td>\n      <td>1</td>\n      <td>1.0</td>\n      <td>2.0</td>\n      <td>4.0</td>\n      <td>...</td>\n      <td>0</td>\n      <td>3</td>\n      <td>6.0</td>\n      <td>0</td>\n      <td>0</td>\n      <td>0</td>\n      <td>1</td>\n      <td>0</td>\n      <td>1</td>\n      <td>1</td>\n    </tr>\n    <tr>\n      <th>377344</th>\n      <td>805130</td>\n      <td>53</td>\n      <td>0.271747</td>\n      <td>0.563568</td>\n      <td>0.406822</td>\n      <td>0.409737</td>\n      <td>3</td>\n      <td>1.0</td>\n      <td>1.0</td>\n      <td>1.0</td>\n      <td>...</td>\n      <td>0</td>\n      <td>53</td>\n      <td>3.0</td>\n      <td>16</td>\n      <td>5</td>\n      <td>8</td>\n      <td>8</td>\n      <td>5</td>\n      <td>3</td>\n      <td>8</td>\n    </tr>\n    <tr>\n      <th>377345</th>\n      <td>805132</td>\n      <td>138</td>\n      <td>0.153618</td>\n      <td>0.522181</td>\n      <td>0.313436</td>\n      <td>0.310411</td>\n      <td>1</td>\n      <td>1.0</td>\n      <td>1.0</td>\n      <td>1.0</td>\n      <td>...</td>\n      <td>1</td>\n      <td>138</td>\n      <td>3.5</td>\n      <td>23</td>\n      <td>28</td>\n      <td>18</td>\n      <td>17</td>\n      <td>15</td>\n      <td>21</td>\n      <td>16</td>\n    </tr>\n  </tbody>\n</table>\n<p>377346 rows × 419 columns</p>\n</div>"
     },
     "execution_count": 26,
     "metadata": {},
     "output_type": "execute_result"
    }
   ],
   "source": [
    "new_featurex"
   ],
   "metadata": {
    "collapsed": false,
    "ExecuteTime": {
     "start_time": "2023-04-23T21:51:34.585919Z",
     "end_time": "2023-04-23T21:51:34.675455Z"
    }
   }
  },
  {
   "cell_type": "code",
   "execution_count": 37,
   "outputs": [],
   "source": [
    "from sklearn.preprocessing import Normalizer"
   ],
   "metadata": {
    "collapsed": false,
    "ExecuteTime": {
     "start_time": "2023-04-23T17:55:08.677615Z",
     "end_time": "2023-04-23T17:55:09.332733Z"
    }
   }
  },
  {
   "cell_type": "code",
   "execution_count": 44,
   "outputs": [
    {
     "data": {
      "text/plain": "['day_before_std', 'amnt_std']"
     },
     "execution_count": 44,
     "metadata": {},
     "output_type": "execute_result"
    }
   ],
   "source": [
    "[i for i in my_x_feature.columns if my_x_feature[i].isnull().any()]\n"
   ],
   "metadata": {
    "collapsed": false,
    "ExecuteTime": {
     "start_time": "2023-04-23T22:05:02.693891Z",
     "end_time": "2023-04-23T22:05:02.769312Z"
    }
   }
  },
  {
   "cell_type": "code",
   "execution_count": 173,
   "outputs": [],
   "source": [
    "myy = pd.read_csv(\"../ourfeatures/y_test2.csv\")"
   ],
   "metadata": {
    "collapsed": false,
    "ExecuteTime": {
     "start_time": "2023-04-23T18:46:59.924114Z",
     "end_time": "2023-04-23T18:46:59.958224Z"
    }
   }
  },
  {
   "cell_type": "code",
   "execution_count": 217,
   "outputs": [
    {
     "data": {
      "text/plain": "0              1\n1              5\n2              6\n3              7\n4             11\n           ...  \n377341    805124\n377342    805125\n377343    805127\n377344    805130\n377345    805132\nName: app_id, Length: 377346, dtype: int64"
     },
     "execution_count": 217,
     "metadata": {},
     "output_type": "execute_result"
    }
   ],
   "source": [
    "new_featurex['app_id']"
   ],
   "metadata": {
    "collapsed": false,
    "ExecuteTime": {
     "start_time": "2023-04-23T18:58:59.792270Z",
     "end_time": "2023-04-23T18:58:59.795235Z"
    }
   }
  },
  {
   "cell_type": "code",
   "execution_count": 219,
   "outputs": [
    {
     "name": "stdout",
     "output_type": "stream",
     "text": [
      "<class 'pandas.core.frame.DataFrame'>\n",
      "RangeIndex: 188674 entries, 0 to 188673\n",
      "Columns: 241 entries, app_id to ('hour_diff', 'median')\n",
      "dtypes: float64(24), int64(217)\n",
      "memory usage: 346.9 MB\n"
     ]
    }
   ],
   "source": [
    "my_testx_feature.info()"
   ],
   "metadata": {
    "collapsed": false,
    "ExecuteTime": {
     "start_time": "2023-04-23T18:59:25.751963Z",
     "end_time": "2023-04-23T18:59:25.754907Z"
    }
   }
  },
  {
   "cell_type": "code",
   "execution_count": 154,
   "outputs": [
    {
     "data": {
      "text/plain": "Int64Index([   185,    229,    465,    817,   1042,   1202,   1443,   1482,\n              1667,   1696,\n            ...\n            375683, 375689, 376096, 376137, 376243, 376716, 376861, 377019,\n            377032, 377123],\n           dtype='int64', length=2444)"
     },
     "execution_count": 154,
     "metadata": {},
     "output_type": "execute_result"
    }
   ],
   "source": [],
   "metadata": {
    "collapsed": false,
    "ExecuteTime": {
     "start_time": "2023-04-23T18:41:02.801849Z",
     "end_time": "2023-04-23T18:41:02.806454Z"
    }
   }
  },
  {
   "cell_type": "code",
   "execution_count": 121,
   "outputs": [],
   "source": [
    "indexs = my_x_feature[my_x_feature['day_before_std'].isnull() == True].index"
   ],
   "metadata": {
    "collapsed": false,
    "ExecuteTime": {
     "start_time": "2023-04-23T18:31:04.536081Z",
     "end_time": "2023-04-23T18:31:04.630715Z"
    }
   }
  },
  {
   "cell_type": "code",
   "execution_count": 128,
   "outputs": [],
   "source": [
    "my_x_feature = my_x_feature.drop(indexs)"
   ],
   "metadata": {
    "collapsed": false,
    "ExecuteTime": {
     "start_time": "2023-04-23T18:32:17.561874Z",
     "end_time": "2023-04-23T18:32:17.775582Z"
    }
   }
  },
  {
   "cell_type": "code",
   "execution_count": 74,
   "outputs": [],
   "source": [
    "new_featurex = my_x_feature.drop(my_x_feature[my_x_feature['amnt_std'].isnull() == True].index)"
   ],
   "metadata": {
    "collapsed": false,
    "ExecuteTime": {
     "start_time": "2023-04-23T18:02:36.237910Z",
     "end_time": "2023-04-23T18:02:36.374414Z"
    }
   }
  },
  {
   "cell_type": "code",
   "execution_count": 105,
   "outputs": [
    {
     "ename": "ValueError",
     "evalue": "Input X contains NaN.\nNormalizer does not accept missing values encoded as NaN natively. For supervised learning, you might want to consider sklearn.ensemble.HistGradientBoostingClassifier and Regressor which accept missing values encoded as NaNs natively. Alternatively, it is possible to preprocess the data, for instance by using an imputer transformer in a pipeline or drop samples with missing values. See https://scikit-learn.org/stable/modules/impute.html You can find a list of all estimators that handle NaN values at the following page: https://scikit-learn.org/stable/modules/impute.html#estimators-that-handle-nan-values",
     "output_type": "error",
     "traceback": [
      "\u001B[0;31m---------------------------------------------------------------------------\u001B[0m",
      "\u001B[0;31mValueError\u001B[0m                                Traceback (most recent call last)",
      "Cell \u001B[0;32mIn[105], line 1\u001B[0m\n\u001B[0;32m----> 1\u001B[0m transformer \u001B[38;5;241m=\u001B[39m \u001B[43mNormalizer\u001B[49m\u001B[43m(\u001B[49m\u001B[43m)\u001B[49m\u001B[38;5;241;43m.\u001B[39;49m\u001B[43mfit\u001B[49m\u001B[43m(\u001B[49m\u001B[43mmy_x_feature\u001B[49m\u001B[43m)\u001B[49m\n",
      "File \u001B[0;32m~/Codding/code_works/Python/Works/Alpha_ml/venv/lib/python3.9/site-packages/sklearn/preprocessing/_data.py:1966\u001B[0m, in \u001B[0;36mNormalizer.fit\u001B[0;34m(self, X, y)\u001B[0m\n\u001B[1;32m   1947\u001B[0m \u001B[38;5;250m\u001B[39m\u001B[38;5;124;03m\"\"\"Only validates estimator's parameters.\u001B[39;00m\n\u001B[1;32m   1948\u001B[0m \n\u001B[1;32m   1949\u001B[0m \u001B[38;5;124;03mThis method allows to: (i) validate the estimator's parameters and\u001B[39;00m\n\u001B[0;32m   (...)\u001B[0m\n\u001B[1;32m   1963\u001B[0m \u001B[38;5;124;03m    Fitted transformer.\u001B[39;00m\n\u001B[1;32m   1964\u001B[0m \u001B[38;5;124;03m\"\"\"\u001B[39;00m\n\u001B[1;32m   1965\u001B[0m \u001B[38;5;28mself\u001B[39m\u001B[38;5;241m.\u001B[39m_validate_params()\n\u001B[0;32m-> 1966\u001B[0m \u001B[38;5;28;43mself\u001B[39;49m\u001B[38;5;241;43m.\u001B[39;49m\u001B[43m_validate_data\u001B[49m\u001B[43m(\u001B[49m\u001B[43mX\u001B[49m\u001B[43m,\u001B[49m\u001B[43m \u001B[49m\u001B[43maccept_sparse\u001B[49m\u001B[38;5;241;43m=\u001B[39;49m\u001B[38;5;124;43m\"\u001B[39;49m\u001B[38;5;124;43mcsr\u001B[39;49m\u001B[38;5;124;43m\"\u001B[39;49m\u001B[43m)\u001B[49m\n\u001B[1;32m   1967\u001B[0m \u001B[38;5;28;01mreturn\u001B[39;00m \u001B[38;5;28mself\u001B[39m\n",
      "File \u001B[0;32m~/Codding/code_works/Python/Works/Alpha_ml/venv/lib/python3.9/site-packages/sklearn/base.py:565\u001B[0m, in \u001B[0;36mBaseEstimator._validate_data\u001B[0;34m(self, X, y, reset, validate_separately, **check_params)\u001B[0m\n\u001B[1;32m    563\u001B[0m     \u001B[38;5;28;01mraise\u001B[39;00m \u001B[38;5;167;01mValueError\u001B[39;00m(\u001B[38;5;124m\"\u001B[39m\u001B[38;5;124mValidation should be done on X, y or both.\u001B[39m\u001B[38;5;124m\"\u001B[39m)\n\u001B[1;32m    564\u001B[0m \u001B[38;5;28;01melif\u001B[39;00m \u001B[38;5;129;01mnot\u001B[39;00m no_val_X \u001B[38;5;129;01mand\u001B[39;00m no_val_y:\n\u001B[0;32m--> 565\u001B[0m     X \u001B[38;5;241m=\u001B[39m \u001B[43mcheck_array\u001B[49m\u001B[43m(\u001B[49m\u001B[43mX\u001B[49m\u001B[43m,\u001B[49m\u001B[43m \u001B[49m\u001B[43minput_name\u001B[49m\u001B[38;5;241;43m=\u001B[39;49m\u001B[38;5;124;43m\"\u001B[39;49m\u001B[38;5;124;43mX\u001B[39;49m\u001B[38;5;124;43m\"\u001B[39;49m\u001B[43m,\u001B[49m\u001B[43m \u001B[49m\u001B[38;5;241;43m*\u001B[39;49m\u001B[38;5;241;43m*\u001B[39;49m\u001B[43mcheck_params\u001B[49m\u001B[43m)\u001B[49m\n\u001B[1;32m    566\u001B[0m     out \u001B[38;5;241m=\u001B[39m X\n\u001B[1;32m    567\u001B[0m \u001B[38;5;28;01melif\u001B[39;00m no_val_X \u001B[38;5;129;01mand\u001B[39;00m \u001B[38;5;129;01mnot\u001B[39;00m no_val_y:\n",
      "File \u001B[0;32m~/Codding/code_works/Python/Works/Alpha_ml/venv/lib/python3.9/site-packages/sklearn/utils/validation.py:921\u001B[0m, in \u001B[0;36mcheck_array\u001B[0;34m(array, accept_sparse, accept_large_sparse, dtype, order, copy, force_all_finite, ensure_2d, allow_nd, ensure_min_samples, ensure_min_features, estimator, input_name)\u001B[0m\n\u001B[1;32m    915\u001B[0m         \u001B[38;5;28;01mraise\u001B[39;00m \u001B[38;5;167;01mValueError\u001B[39;00m(\n\u001B[1;32m    916\u001B[0m             \u001B[38;5;124m\"\u001B[39m\u001B[38;5;124mFound array with dim \u001B[39m\u001B[38;5;132;01m%d\u001B[39;00m\u001B[38;5;124m. \u001B[39m\u001B[38;5;132;01m%s\u001B[39;00m\u001B[38;5;124m expected <= 2.\u001B[39m\u001B[38;5;124m\"\u001B[39m\n\u001B[1;32m    917\u001B[0m             \u001B[38;5;241m%\u001B[39m (array\u001B[38;5;241m.\u001B[39mndim, estimator_name)\n\u001B[1;32m    918\u001B[0m         )\n\u001B[1;32m    920\u001B[0m     \u001B[38;5;28;01mif\u001B[39;00m force_all_finite:\n\u001B[0;32m--> 921\u001B[0m         \u001B[43m_assert_all_finite\u001B[49m\u001B[43m(\u001B[49m\n\u001B[1;32m    922\u001B[0m \u001B[43m            \u001B[49m\u001B[43marray\u001B[49m\u001B[43m,\u001B[49m\n\u001B[1;32m    923\u001B[0m \u001B[43m            \u001B[49m\u001B[43minput_name\u001B[49m\u001B[38;5;241;43m=\u001B[39;49m\u001B[43minput_name\u001B[49m\u001B[43m,\u001B[49m\n\u001B[1;32m    924\u001B[0m \u001B[43m            \u001B[49m\u001B[43mestimator_name\u001B[49m\u001B[38;5;241;43m=\u001B[39;49m\u001B[43mestimator_name\u001B[49m\u001B[43m,\u001B[49m\n\u001B[1;32m    925\u001B[0m \u001B[43m            \u001B[49m\u001B[43mallow_nan\u001B[49m\u001B[38;5;241;43m=\u001B[39;49m\u001B[43mforce_all_finite\u001B[49m\u001B[43m \u001B[49m\u001B[38;5;241;43m==\u001B[39;49m\u001B[43m \u001B[49m\u001B[38;5;124;43m\"\u001B[39;49m\u001B[38;5;124;43mallow-nan\u001B[39;49m\u001B[38;5;124;43m\"\u001B[39;49m\u001B[43m,\u001B[49m\n\u001B[1;32m    926\u001B[0m \u001B[43m        \u001B[49m\u001B[43m)\u001B[49m\n\u001B[1;32m    928\u001B[0m \u001B[38;5;28;01mif\u001B[39;00m ensure_min_samples \u001B[38;5;241m>\u001B[39m \u001B[38;5;241m0\u001B[39m:\n\u001B[1;32m    929\u001B[0m     n_samples \u001B[38;5;241m=\u001B[39m _num_samples(array)\n",
      "File \u001B[0;32m~/Codding/code_works/Python/Works/Alpha_ml/venv/lib/python3.9/site-packages/sklearn/utils/validation.py:161\u001B[0m, in \u001B[0;36m_assert_all_finite\u001B[0;34m(X, allow_nan, msg_dtype, estimator_name, input_name)\u001B[0m\n\u001B[1;32m    144\u001B[0m \u001B[38;5;28;01mif\u001B[39;00m estimator_name \u001B[38;5;129;01mand\u001B[39;00m input_name \u001B[38;5;241m==\u001B[39m \u001B[38;5;124m\"\u001B[39m\u001B[38;5;124mX\u001B[39m\u001B[38;5;124m\"\u001B[39m \u001B[38;5;129;01mand\u001B[39;00m has_nan_error:\n\u001B[1;32m    145\u001B[0m     \u001B[38;5;66;03m# Improve the error message on how to handle missing values in\u001B[39;00m\n\u001B[1;32m    146\u001B[0m     \u001B[38;5;66;03m# scikit-learn.\u001B[39;00m\n\u001B[1;32m    147\u001B[0m     msg_err \u001B[38;5;241m+\u001B[39m\u001B[38;5;241m=\u001B[39m (\n\u001B[1;32m    148\u001B[0m         \u001B[38;5;124mf\u001B[39m\u001B[38;5;124m\"\u001B[39m\u001B[38;5;130;01m\\n\u001B[39;00m\u001B[38;5;132;01m{\u001B[39;00mestimator_name\u001B[38;5;132;01m}\u001B[39;00m\u001B[38;5;124m does not accept missing values\u001B[39m\u001B[38;5;124m\"\u001B[39m\n\u001B[1;32m    149\u001B[0m         \u001B[38;5;124m\"\u001B[39m\u001B[38;5;124m encoded as NaN natively. For supervised learning, you might want\u001B[39m\u001B[38;5;124m\"\u001B[39m\n\u001B[0;32m   (...)\u001B[0m\n\u001B[1;32m    159\u001B[0m         \u001B[38;5;124m\"\u001B[39m\u001B[38;5;124m#estimators-that-handle-nan-values\u001B[39m\u001B[38;5;124m\"\u001B[39m\n\u001B[1;32m    160\u001B[0m     )\n\u001B[0;32m--> 161\u001B[0m \u001B[38;5;28;01mraise\u001B[39;00m \u001B[38;5;167;01mValueError\u001B[39;00m(msg_err)\n",
      "\u001B[0;31mValueError\u001B[0m: Input X contains NaN.\nNormalizer does not accept missing values encoded as NaN natively. For supervised learning, you might want to consider sklearn.ensemble.HistGradientBoostingClassifier and Regressor which accept missing values encoded as NaNs natively. Alternatively, it is possible to preprocess the data, for instance by using an imputer transformer in a pipeline or drop samples with missing values. See https://scikit-learn.org/stable/modules/impute.html You can find a list of all estimators that handle NaN values at the following page: https://scikit-learn.org/stable/modules/impute.html#estimators-that-handle-nan-values"
     ]
    }
   ],
   "source": [
    "transformer = Normalizer().fit(my_x_feature)"
   ],
   "metadata": {
    "collapsed": false,
    "ExecuteTime": {
     "start_time": "2023-04-23T18:02:38.876581Z",
     "end_time": "2023-04-23T18:02:39.139542Z"
    }
   }
  },
  {
   "cell_type": "code",
   "execution_count": 76,
   "outputs": [],
   "source": [
    "normalised = transformer.transform(my_x_feature)"
   ],
   "metadata": {
    "collapsed": false,
    "ExecuteTime": {
     "start_time": "2023-04-23T18:03:00.889238Z",
     "end_time": "2023-04-23T18:03:01.434579Z"
    }
   }
  },
  {
   "cell_type": "code",
   "execution_count": 78,
   "outputs": [
    {
     "data": {
      "text/plain": "numpy.ndarray"
     },
     "execution_count": 78,
     "metadata": {},
     "output_type": "execute_result"
    }
   ],
   "source": [
    "type(normalised)"
   ],
   "metadata": {
    "collapsed": false,
    "ExecuteTime": {
     "start_time": "2023-04-23T18:03:13.325587Z",
     "end_time": "2023-04-23T18:03:13.327991Z"
    }
   }
  }
 ],
 "metadata": {
  "kernelspec": {
   "display_name": "Python 3",
   "language": "python",
   "name": "python3"
  },
  "language_info": {
   "codemirror_mode": {
    "name": "ipython",
    "version": 2
   },
   "file_extension": ".py",
   "mimetype": "text/x-python",
   "name": "python",
   "nbconvert_exporter": "python",
   "pygments_lexer": "ipython2",
   "version": "2.7.6"
  }
 },
 "nbformat": 4,
 "nbformat_minor": 0
}
