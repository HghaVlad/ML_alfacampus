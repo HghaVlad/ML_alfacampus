{
 "cells": [
  {
   "cell_type": "code",
   "execution_count": null,
   "outputs": [],
   "source": [
    "import pandas as pd\n",
    "import numpy as np"
   ],
   "metadata": {
    "collapsed": false
   }
  },
  {
   "cell_type": "code",
   "execution_count": 2,
   "outputs": [],
   "source": [
    "my_xtrain = pd.read_parquet(\"dataset_train_small.parquet\")\n",
    "my_ytrain = pd.read_parquet(\"target_train_small.parquet\")"
   ],
   "metadata": {
    "collapsed": false,
    "ExecuteTime": {
     "start_time": "2023-04-21T20:36:15.449944Z",
     "end_time": "2023-04-21T20:36:17.673951Z"
    }
   }
  },
  {
   "cell_type": "code",
   "execution_count": 63,
   "outputs": [],
   "source": [
    "def get_tryal(x):\n",
    "    myx = x.value_counts()\n",
    "    return list(({k:myx[k] if k in myx else 0 for k in range(1, 4)} ).values())"
   ],
   "metadata": {
    "collapsed": false,
    "ExecuteTime": {
     "start_time": "2023-04-21T20:55:11.241695Z",
     "end_time": "2023-04-21T20:55:11.251223Z"
    }
   }
  },
  {
   "cell_type": "code",
   "execution_count": 22,
   "outputs": [
    {
     "data": {
      "text/plain": "[10, 3, 0, 0, 0, 0, 0]"
     },
     "execution_count": 22,
     "metadata": {},
     "output_type": "execute_result"
    }
   ],
   "source": [],
   "metadata": {
    "collapsed": false,
    "ExecuteTime": {
     "start_time": "2023-04-21T20:43:35.881709Z",
     "end_time": "2023-04-21T20:43:35.889717Z"
    }
   }
  },
  {
   "cell_type": "code",
   "execution_count": 54,
   "outputs": [
    {
     "data": {
      "text/plain": "[20, 2, 1]"
     },
     "execution_count": 54,
     "metadata": {},
     "output_type": "execute_result"
    }
   ],
   "source": [
    "get_tryal(my_xtrain[my_xtrain['app_id'] == 6]['operation_type'])"
   ],
   "metadata": {
    "collapsed": false,
    "ExecuteTime": {
     "start_time": "2023-04-21T20:26:11.311813Z",
     "end_time": "2023-04-21T20:26:11.339814Z"
    }
   }
  },
  {
   "cell_type": "code",
   "execution_count": 62,
   "outputs": [
    {
     "data": {
      "text/plain": "ecommerce_flag\n1    28859060\n2     3776915\n3          12\nName: count, dtype: int64"
     },
     "execution_count": 62,
     "metadata": {},
     "output_type": "execute_result"
    }
   ],
   "source": [
    "my_xtrain['ecommerce_flag'].value_counts()"
   ],
   "metadata": {
    "collapsed": false,
    "ExecuteTime": {
     "start_time": "2023-04-21T20:55:04.329408Z",
     "end_time": "2023-04-21T20:55:04.524410Z"
    }
   }
  },
  {
   "cell_type": "code",
   "execution_count": 3,
   "outputs": [],
   "source": [
    "appds = [1, 6, 7, 805132]"
   ],
   "metadata": {
    "collapsed": false,
    "ExecuteTime": {
     "start_time": "2023-04-21T20:36:17.652953Z",
     "end_time": "2023-04-21T20:36:17.684953Z"
    }
   }
  },
  {
   "cell_type": "code",
   "execution_count": 4,
   "outputs": [],
   "source": [
    "tryal = my_xtrain[my_xtrain['app_id'].isin(appds)]"
   ],
   "metadata": {
    "collapsed": false,
    "ExecuteTime": {
     "start_time": "2023-04-21T20:36:22.837946Z",
     "end_time": "2023-04-21T20:36:23.863509Z"
    }
   }
  },
  {
   "cell_type": "code",
   "execution_count": 24,
   "outputs": [],
   "source": [
    "new_tryal = tryal.groupby(\"app_id\").agg({\"amnt\": ['mean', 'max'], \"operation_kind\": get_tryal})"
   ],
   "metadata": {
    "collapsed": false,
    "ExecuteTime": {
     "start_time": "2023-04-21T20:43:51.671170Z",
     "end_time": "2023-04-21T20:43:51.693174Z"
    }
   }
  },
  {
   "cell_type": "code",
   "execution_count": 71,
   "outputs": [],
   "source": [
    "new_tryal.DataFrame(new_tryal['operation_kind']['get_tryal'].to_list(), columns=[\"Type_1\", \"Type_2\", \"Type_3\"])"
   ],
   "metadata": {
    "collapsed": false,
    "ExecuteTime": {
     "start_time": "2023-04-21T20:29:02.087457Z",
     "end_time": "2023-04-21T20:29:02.135916Z"
    }
   }
  },
  {
   "cell_type": "code",
   "execution_count": 65,
   "outputs": [],
   "source": [
    "def num_values1(x):\n",
    "    if 1 in x.value_counts():\n",
    "        return x.value_counts()[1]\n",
    "    return 0\n",
    "def num_values2(x):\n",
    "    if 2 in x.value_counts():\n",
    "        return x.value_counts()[2]\n",
    "    return 0\n",
    "def num_values3(x):\n",
    "    if 3 in x.value_counts():\n",
    "        return x.value_counts()[3]\n",
    "    return 0"
   ],
   "metadata": {
    "collapsed": false,
    "ExecuteTime": {
     "start_time": "2023-04-21T20:56:42.334505Z",
     "end_time": "2023-04-21T20:56:42.347503Z"
    }
   }
  },
  {
   "cell_type": "code",
   "execution_count": 67,
   "outputs": [],
   "source": [
    "new_tryal2 = my_xtrain.groupby(\"app_id\").agg({\"amnt\": ['mean', 'max'], \"operation_kind\": [num_values1, num_values2, num_values3]})"
   ],
   "metadata": {
    "collapsed": false,
    "ExecuteTime": {
     "start_time": "2023-04-21T20:57:06.845670Z",
     "end_time": "2023-04-21T21:03:24.932958Z"
    }
   }
  },
  {
   "cell_type": "code",
   "execution_count": 27,
   "outputs": [],
   "source": [
    "new_tryal[[\"type_1\", \"type_2\", \"type_3\", \"type_4\", \"type_5\", \"type_6\", \"type_7\"]] =new_tryal['operation_kind']['get_tryal'].to_list()"
   ],
   "metadata": {
    "collapsed": false,
    "ExecuteTime": {
     "start_time": "2023-04-21T20:44:22.551102Z",
     "end_time": "2023-04-21T20:44:22.575117Z"
    }
   }
  },
  {
   "cell_type": "code",
   "execution_count": 72,
   "outputs": [
    {
     "name": "stdout",
     "output_type": "stream",
     "text": [
      "currency\n",
      "1     31798739\n",
      "2       366503\n",
      "3       196557\n",
      "11      134739\n",
      "4        38578\n",
      "6        25208\n",
      "5        22847\n",
      "7        17964\n",
      "8        13951\n",
      "10       11976\n",
      "9         8925\n",
      "Name: count, dtype: int64\n",
      "operation_type_group\n",
      "1    30425740\n",
      "2     2179879\n",
      "3       30364\n",
      "4           4\n",
      "Name: count, dtype: int64\n",
      "operation_kind\n",
      "1    26249909\n",
      "2     2915756\n",
      "3     1854686\n",
      "4     1343047\n",
      "5      133319\n",
      "6      125354\n",
      "7       13916\n",
      "Name: count, dtype: int64\n",
      "ecommerce_flag\n",
      "1    28859060\n",
      "2     3776915\n",
      "3          12\n",
      "Name: count, dtype: int64\n",
      "income_flag\n",
      "1    30236717\n",
      "2     2399226\n",
      "3          44\n",
      "Name: count, dtype: int64\n",
      "card_type\n",
      "1      2338478\n",
      "2      2185080\n",
      "5      1763435\n",
      "6      1154369\n",
      "3      1008494\n",
      "        ...   \n",
      "173       2615\n",
      "114       1310\n",
      "40        1302\n",
      "117        934\n",
      "125         47\n",
      "Name: count, Length: 169, dtype: int64\n"
     ]
    }
   ],
   "source": [
    "print(my_xtrain.currency.value_counts())\n",
    "print(my_xtrain.operation_type_group.value_counts())\n",
    "print(my_xtrain.operation_kind.value_counts())\n",
    "print(my_xtrain.ecommerce_flag.value_counts())\n",
    "print(my_xtrain.income_flag.value_counts())"
   ],
   "metadata": {
    "collapsed": false,
    "ExecuteTime": {
     "start_time": "2023-04-21T21:06:29.647360Z",
     "end_time": "2023-04-21T21:06:30.699357Z"
    }
   }
  },
  {
   "cell_type": "code",
   "execution_count": 162,
   "outputs": [],
   "source": [
    "def num_unique_values(x):\n",
    "    return len(x.unique())\n",
    "\n",
    "def get_currency(x):\n",
    "    my_uniq = x.value_counts()\n",
    "    return list(({k:my_uniq[k] if k in my_uniq else 0 for k in range(1, 12)} ).values())\n",
    "\n",
    "def get_operation_type_group(x):\n",
    "    my_uniq = x.value_counts()\n",
    "    return list(({k:my_uniq[k] if k in my_uniq else 0 for k in range(1, 5)} ).values())\n",
    "\n",
    "def get_operation_kind(x):\n",
    "    my_uniq = x.value_counts()\n",
    "    return list(({k:my_uniq[k] if k in my_uniq else 0 for k in range(1, 8)} ).values())\n",
    "\n",
    "def get_income_flag(x):\n",
    "    my_uniq = x.value_counts()\n",
    "    return list(({k:my_uniq[k] if k in my_uniq else 0 for k in range(1, 4)} ).values())\n",
    "\n",
    "def get_payment_system(x):\n",
    "    my_uniq = x.value_counts()\n",
    "    return list(({k:my_uniq[k] if k in my_uniq else 0 for k in range(1, 8)} ).values())\n",
    "\n",
    "def get_ecommerce_flag(x):\n",
    "    my_uniq = x.value_counts()\n",
    "    return list(({k:my_uniq[k] if k in my_uniq else 0 for k in range(1, 4)} ).values())\n",
    "\n",
    "agg_features = {\n",
    "        \"transaction_number\": \"max\",\n",
    "        \"amnt\": [\"min\", \"max\", \"mean\", \"median\"],\n",
    "        \"currency\": num_unique_values,\n",
    "        'operation_type_group': [get_operation_type_group, \"median\"],\n",
    "        \"operation_kind\": [get_operation_kind, \"median\"],\n",
    "        'income_flag' : [get_income_flag, \"median\"],\n",
    "        \"payment_system\": [get_payment_system, \"median\"],\n",
    "        \"ecommerce_flag\": [get_ecommerce_flag, \"mean\"],\n",
    "        'days_before': ['min', 'mean', 'max'],\n",
    "        \"country\": [num_unique_values, \"median\"],\n",
    "        'city': [num_unique_values, \"median\"],\n",
    "        'day_of_week': [num_unique_values, \"mean\"],\n",
    "\n",
    "}\n",
    "features_2 = []\n",
    "features_3 = []\n",
    "#currency_columns = [\"currency_\"+str(x) for x in list(my_xtrain.currency.value_counts().index)]\n",
    "operation_type_group_columns = [\"operation_type_group\"+str(x) for x in list(my_xtrain.operation_type_group.value_counts().index)]\n",
    "operation_kind_columns = [\"operation_kind\"+str(x) for x in list(my_xtrain.operation_kind.value_counts().index)]\n",
    "income_flag_columns = [\"income_flag\"+str(x) for x in list(my_xtrain.income_flag.value_counts().index)]\n",
    "payment_system_columns = sorted([\"payment_system\"+str(x) for x in list(my_xtrain.payment_system.value_counts().index)])\n",
    "ecommerce_flag_columns = [\"ecommerce_flag\"+str(x) for x in list(my_xtrain.ecommerce_flag.value_counts().index)]\n",
    "todelete_columns = [\"operation_type_group_get_operation_type_group\", \"operation_kind_get_operation_kind\", \"income_flag_get_income_flag\", \"payment_system_get_payment_system\", \"ecommerce_flag_get_ecommerce_flag\"]"
   ],
   "metadata": {
    "collapsed": false,
    "ExecuteTime": {
     "start_time": "2023-04-21T22:15:44.370044Z",
     "end_time": "2023-04-21T22:15:45.258541Z"
    }
   }
  },
  {
   "cell_type": "code",
   "execution_count": 171,
   "outputs": [],
   "source": [
    "def get_new_features(dataset, target):\n",
    "    features = dataset.groupby(\"app_id\", as_index=False).agg(agg_features)\n",
    "    print(features.columns)\n",
    "    global features_2, features_3\n",
    "    features_2 = features\n",
    "    #features[currency_columns] = dataset[\"operation_type_group\"][\"get_operation_type_group\"]\n",
    "    features[operation_type_group_columns] = features[\"operation_type_group\"][\"get_operation_type_group\"].to_list()\n",
    "    features[operation_kind_columns] = features[\"operation_kind\"][\"get_operation_kind\"].to_list()\n",
    "    features[income_flag_columns] = features[\"income_flag\"][\"get_income_flag\"].to_list()\n",
    "    features[payment_system_columns] = features[\"payment_system\"][\"get_payment_system\"].to_list()\n",
    "    features[ecommerce_flag_columns] = features[\"ecommerce_flag\"][\"get_ecommerce_flag\"].to_list()\n",
    "    features_3 = features\n",
    "    print(features.columns)\n",
    "    features.columns = ['_'.join(col).strip('_') for col in features.columns.values]\n",
    "    features = features.drop(todelete_columns, axis=1)\n",
    "    features = features.join(target.set_index(\"app_id\"), \"app_id\")\n",
    "    return features.drop(columns=[\"app_id\", \"flag\"]), features[[\"app_id\", \"flag\"]]"
   ],
   "metadata": {
    "collapsed": false,
    "ExecuteTime": {
     "start_time": "2023-04-21T22:18:06.175932Z",
     "end_time": "2023-04-21T22:18:06.195967Z"
    }
   }
  },
  {
   "cell_type": "code",
   "execution_count": 175,
   "outputs": [
    {
     "name": "stdout",
     "output_type": "stream",
     "text": [
      "MultiIndex([(              'app_id',                         ''),\n",
      "            (  'transaction_number',                      'max'),\n",
      "            (                'amnt',                      'min'),\n",
      "            (                'amnt',                      'max'),\n",
      "            (                'amnt',                     'mean'),\n",
      "            (                'amnt',                   'median'),\n",
      "            (            'currency',        'num_unique_values'),\n",
      "            ('operation_type_group', 'get_operation_type_group'),\n",
      "            ('operation_type_group',                   'median'),\n",
      "            (      'operation_kind',       'get_operation_kind'),\n",
      "            (      'operation_kind',                   'median'),\n",
      "            (         'income_flag',          'get_income_flag'),\n",
      "            (         'income_flag',                   'median'),\n",
      "            (      'payment_system',       'get_payment_system'),\n",
      "            (      'payment_system',                   'median'),\n",
      "            (      'ecommerce_flag',       'get_ecommerce_flag'),\n",
      "            (      'ecommerce_flag',                     'mean'),\n",
      "            (         'days_before',                      'min'),\n",
      "            (         'days_before',                     'mean'),\n",
      "            (         'days_before',                      'max'),\n",
      "            (             'country',        'num_unique_values'),\n",
      "            (             'country',                   'median'),\n",
      "            (                'city',        'num_unique_values'),\n",
      "            (                'city',                   'median'),\n",
      "            (         'day_of_week',        'num_unique_values'),\n",
      "            (         'day_of_week',                     'mean')],\n",
      "           )\n",
      "MultiIndex([(               'app_id',                         ''),\n",
      "            (   'transaction_number',                      'max'),\n",
      "            (                 'amnt',                      'min'),\n",
      "            (                 'amnt',                      'max'),\n",
      "            (                 'amnt',                     'mean'),\n",
      "            (                 'amnt',                   'median'),\n",
      "            (             'currency',        'num_unique_values'),\n",
      "            ( 'operation_type_group', 'get_operation_type_group'),\n",
      "            ( 'operation_type_group',                   'median'),\n",
      "            (       'operation_kind',       'get_operation_kind'),\n",
      "            (       'operation_kind',                   'median'),\n",
      "            (          'income_flag',          'get_income_flag'),\n",
      "            (          'income_flag',                   'median'),\n",
      "            (       'payment_system',       'get_payment_system'),\n",
      "            (       'payment_system',                   'median'),\n",
      "            (       'ecommerce_flag',       'get_ecommerce_flag'),\n",
      "            (       'ecommerce_flag',                     'mean'),\n",
      "            (          'days_before',                      'min'),\n",
      "            (          'days_before',                     'mean'),\n",
      "            (          'days_before',                      'max'),\n",
      "            (              'country',        'num_unique_values'),\n",
      "            (              'country',                   'median'),\n",
      "            (                 'city',        'num_unique_values'),\n",
      "            (                 'city',                   'median'),\n",
      "            (          'day_of_week',        'num_unique_values'),\n",
      "            (          'day_of_week',                     'mean'),\n",
      "            ('operation_type_group1',                         ''),\n",
      "            ('operation_type_group2',                         ''),\n",
      "            ('operation_type_group3',                         ''),\n",
      "            ('operation_type_group4',                         ''),\n",
      "            (      'operation_kind1',                         ''),\n",
      "            (      'operation_kind2',                         ''),\n",
      "            (      'operation_kind3',                         ''),\n",
      "            (      'operation_kind4',                         ''),\n",
      "            (      'operation_kind5',                         ''),\n",
      "            (      'operation_kind6',                         ''),\n",
      "            (      'operation_kind7',                         ''),\n",
      "            (         'income_flag1',                         ''),\n",
      "            (         'income_flag2',                         ''),\n",
      "            (         'income_flag3',                         ''),\n",
      "            (      'payment_system1',                         ''),\n",
      "            (      'payment_system2',                         ''),\n",
      "            (      'payment_system3',                         ''),\n",
      "            (      'payment_system4',                         ''),\n",
      "            (      'payment_system5',                         ''),\n",
      "            (      'payment_system6',                         ''),\n",
      "            (      'payment_system7',                         ''),\n",
      "            (      'ecommerce_flag1',                         ''),\n",
      "            (      'ecommerce_flag2',                         ''),\n",
      "            (      'ecommerce_flag3',                         '')],\n",
      "           )\n"
     ]
    }
   ],
   "source": [
    "new_trainx, new_trainy = get_new_features(my_xtrain, my_ytrain)"
   ],
   "metadata": {
    "collapsed": false,
    "ExecuteTime": {
     "start_time": "2023-04-21T22:19:01.275784Z",
     "end_time": "2023-04-21T22:27:29.900116Z"
    }
   }
  },
  {
   "cell_type": "code",
   "execution_count": 178,
   "outputs": [],
   "source": [
    "new_trainx.to_csv(\"E:\\Code works\\Work\\Python\\Works\\max_flask_app\\\\alfa\\my_big_featurex.csv\")\n",
    "new_trainy.to_csv(\"E:\\Code works\\Work\\Python\\Works\\max_flask_app\\\\alfa\\my_big_featurey.csv\")"
   ],
   "metadata": {
    "collapsed": false,
    "ExecuteTime": {
     "start_time": "2023-04-21T22:29:20.446027Z",
     "end_time": "2023-04-21T22:29:27.342093Z"
    }
   }
  },
  {
   "cell_type": "code",
   "execution_count": 184,
   "outputs": [],
   "source": [
    "my_xtest = pd.read_parquet(\"dataset_test.parquet\")\n",
    "my_ytest = pd.read_parquet(\"target_test_contest.parquet\")"
   ],
   "metadata": {
    "collapsed": false,
    "ExecuteTime": {
     "start_time": "2023-04-21T22:31:03.568760Z",
     "end_time": "2023-04-21T22:31:04.884882Z"
    }
   }
  },
  {
   "cell_type": "code",
   "execution_count": 185,
   "outputs": [],
   "source": [
    "my_ytest['flag'] = 0"
   ],
   "metadata": {
    "collapsed": false,
    "ExecuteTime": {
     "start_time": "2023-04-21T22:31:06.719287Z",
     "end_time": "2023-04-21T22:31:06.728288Z"
    }
   }
  },
  {
   "cell_type": "code",
   "execution_count": 186,
   "outputs": [
    {
     "name": "stdout",
     "output_type": "stream",
     "text": [
      "MultiIndex([(              'app_id',                         ''),\n",
      "            (  'transaction_number',                      'max'),\n",
      "            (                'amnt',                      'min'),\n",
      "            (                'amnt',                      'max'),\n",
      "            (                'amnt',                     'mean'),\n",
      "            (                'amnt',                   'median'),\n",
      "            (            'currency',        'num_unique_values'),\n",
      "            ('operation_type_group', 'get_operation_type_group'),\n",
      "            ('operation_type_group',                   'median'),\n",
      "            (      'operation_kind',       'get_operation_kind'),\n",
      "            (      'operation_kind',                   'median'),\n",
      "            (         'income_flag',          'get_income_flag'),\n",
      "            (         'income_flag',                   'median'),\n",
      "            (      'payment_system',       'get_payment_system'),\n",
      "            (      'payment_system',                   'median'),\n",
      "            (      'ecommerce_flag',       'get_ecommerce_flag'),\n",
      "            (      'ecommerce_flag',                     'mean'),\n",
      "            (         'days_before',                      'min'),\n",
      "            (         'days_before',                     'mean'),\n",
      "            (         'days_before',                      'max'),\n",
      "            (             'country',        'num_unique_values'),\n",
      "            (             'country',                   'median'),\n",
      "            (                'city',        'num_unique_values'),\n",
      "            (                'city',                   'median'),\n",
      "            (         'day_of_week',        'num_unique_values'),\n",
      "            (         'day_of_week',                     'mean')],\n",
      "           )\n",
      "MultiIndex([(               'app_id',                         ''),\n",
      "            (   'transaction_number',                      'max'),\n",
      "            (                 'amnt',                      'min'),\n",
      "            (                 'amnt',                      'max'),\n",
      "            (                 'amnt',                     'mean'),\n",
      "            (                 'amnt',                   'median'),\n",
      "            (             'currency',        'num_unique_values'),\n",
      "            ( 'operation_type_group', 'get_operation_type_group'),\n",
      "            ( 'operation_type_group',                   'median'),\n",
      "            (       'operation_kind',       'get_operation_kind'),\n",
      "            (       'operation_kind',                   'median'),\n",
      "            (          'income_flag',          'get_income_flag'),\n",
      "            (          'income_flag',                   'median'),\n",
      "            (       'payment_system',       'get_payment_system'),\n",
      "            (       'payment_system',                   'median'),\n",
      "            (       'ecommerce_flag',       'get_ecommerce_flag'),\n",
      "            (       'ecommerce_flag',                     'mean'),\n",
      "            (          'days_before',                      'min'),\n",
      "            (          'days_before',                     'mean'),\n",
      "            (          'days_before',                      'max'),\n",
      "            (              'country',        'num_unique_values'),\n",
      "            (              'country',                   'median'),\n",
      "            (                 'city',        'num_unique_values'),\n",
      "            (                 'city',                   'median'),\n",
      "            (          'day_of_week',        'num_unique_values'),\n",
      "            (          'day_of_week',                     'mean'),\n",
      "            ('operation_type_group1',                         ''),\n",
      "            ('operation_type_group2',                         ''),\n",
      "            ('operation_type_group3',                         ''),\n",
      "            ('operation_type_group4',                         ''),\n",
      "            (      'operation_kind1',                         ''),\n",
      "            (      'operation_kind2',                         ''),\n",
      "            (      'operation_kind3',                         ''),\n",
      "            (      'operation_kind4',                         ''),\n",
      "            (      'operation_kind5',                         ''),\n",
      "            (      'operation_kind6',                         ''),\n",
      "            (      'operation_kind7',                         ''),\n",
      "            (         'income_flag1',                         ''),\n",
      "            (         'income_flag2',                         ''),\n",
      "            (         'income_flag3',                         ''),\n",
      "            (      'payment_system1',                         ''),\n",
      "            (      'payment_system2',                         ''),\n",
      "            (      'payment_system3',                         ''),\n",
      "            (      'payment_system4',                         ''),\n",
      "            (      'payment_system5',                         ''),\n",
      "            (      'payment_system6',                         ''),\n",
      "            (      'payment_system7',                         ''),\n",
      "            (      'ecommerce_flag1',                         ''),\n",
      "            (      'ecommerce_flag2',                         ''),\n",
      "            (      'ecommerce_flag3',                         '')],\n",
      "           )\n"
     ]
    }
   ],
   "source": [
    "new_testx, new_testy = get_new_features(my_xtest, my_ytest)"
   ],
   "metadata": {
    "collapsed": false
   }
  },
  {
   "cell_type": "code",
   "execution_count": 189,
   "outputs": [
    {
     "data": {
      "text/plain": "         app_id  flag\n0        805133     0\n1        805134     0\n2        805135     0\n3        805136     0\n4        805137     0\n...         ...   ...\n188669  1003045     0\n188670  1003047     0\n188671  1003048     0\n188672  1003049     0\n188673  1003050     0\n\n[188674 rows x 2 columns]",
      "text/html": "<div>\n<style scoped>\n    .dataframe tbody tr th:only-of-type {\n        vertical-align: middle;\n    }\n\n    .dataframe tbody tr th {\n        vertical-align: top;\n    }\n\n    .dataframe thead th {\n        text-align: right;\n    }\n</style>\n<table border=\"1\" class=\"dataframe\">\n  <thead>\n    <tr style=\"text-align: right;\">\n      <th></th>\n      <th>app_id</th>\n      <th>flag</th>\n    </tr>\n  </thead>\n  <tbody>\n    <tr>\n      <th>0</th>\n      <td>805133</td>\n      <td>0</td>\n    </tr>\n    <tr>\n      <th>1</th>\n      <td>805134</td>\n      <td>0</td>\n    </tr>\n    <tr>\n      <th>2</th>\n      <td>805135</td>\n      <td>0</td>\n    </tr>\n    <tr>\n      <th>3</th>\n      <td>805136</td>\n      <td>0</td>\n    </tr>\n    <tr>\n      <th>4</th>\n      <td>805137</td>\n      <td>0</td>\n    </tr>\n    <tr>\n      <th>...</th>\n      <td>...</td>\n      <td>...</td>\n    </tr>\n    <tr>\n      <th>188669</th>\n      <td>1003045</td>\n      <td>0</td>\n    </tr>\n    <tr>\n      <th>188670</th>\n      <td>1003047</td>\n      <td>0</td>\n    </tr>\n    <tr>\n      <th>188671</th>\n      <td>1003048</td>\n      <td>0</td>\n    </tr>\n    <tr>\n      <th>188672</th>\n      <td>1003049</td>\n      <td>0</td>\n    </tr>\n    <tr>\n      <th>188673</th>\n      <td>1003050</td>\n      <td>0</td>\n    </tr>\n  </tbody>\n</table>\n<p>188674 rows × 2 columns</p>\n</div>"
     },
     "execution_count": 189,
     "metadata": {},
     "output_type": "execute_result"
    }
   ],
   "source": [
    "new_testy"
   ],
   "metadata": {
    "collapsed": false,
    "ExecuteTime": {
     "start_time": "2023-04-21T22:53:13.017017Z",
     "end_time": "2023-04-21T22:53:13.033018Z"
    }
   }
  },
  {
   "cell_type": "code",
   "execution_count": 190,
   "outputs": [],
   "source": [
    "new_testx.to_csv(\"E:\\Code works\\Work\\Python\\Works\\max_flask_app\\\\alfa\\my_big_testx.csv\")\n",
    "new_testy.to_csv(\"E:\\Code works\\Work\\Python\\Works\\max_flask_app\\\\alfa\\my_big_testy.csv\", index=False)"
   ],
   "metadata": {
    "collapsed": false,
    "ExecuteTime": {
     "start_time": "2023-04-21T22:53:28.026324Z",
     "end_time": "2023-04-21T22:53:31.392981Z"
    }
   }
  },
  {
   "cell_type": "code",
   "execution_count": 193,
   "outputs": [
    {
     "data": {
      "text/plain": "Index(['transaction_number_max', 'amnt_min', 'amnt_max', 'amnt_mean',\n       'amnt_median', 'currency_num_unique_values',\n       'operation_type_group_median', 'operation_kind_median',\n       'income_flag_median', 'payment_system_median', 'ecommerce_flag_mean',\n       'days_before_min', 'days_before_mean', 'days_before_max',\n       'country_num_unique_values', 'country_median', 'city_num_unique_values',\n       'city_median', 'day_of_week_num_unique_values', 'day_of_week_mean',\n       'operation_type_group1', 'operation_type_group2',\n       'operation_type_group3', 'operation_type_group4', 'operation_kind1',\n       'operation_kind2', 'operation_kind3', 'operation_kind4',\n       'operation_kind5', 'operation_kind6', 'operation_kind7', 'income_flag1',\n       'income_flag2', 'income_flag3', 'payment_system1', 'payment_system2',\n       'payment_system3', 'payment_system4', 'payment_system5',\n       'payment_system6', 'payment_system7', 'ecommerce_flag1',\n       'ecommerce_flag2', 'ecommerce_flag3', 'product'],\n      dtype='object')"
     },
     "execution_count": 193,
     "metadata": {},
     "output_type": "execute_result"
    }
   ],
   "source": [
    "new_trainx.columns"
   ],
   "metadata": {
    "collapsed": false,
    "ExecuteTime": {
     "start_time": "2023-04-21T23:36:44.535583Z",
     "end_time": "2023-04-21T23:36:44.549582Z"
    }
   }
  }
 ],
 "metadata": {
  "kernelspec": {
   "display_name": "Python 3",
   "language": "python",
   "name": "python3"
  },
  "language_info": {
   "codemirror_mode": {
    "name": "ipython",
    "version": 2
   },
   "file_extension": ".py",
   "mimetype": "text/x-python",
   "name": "python",
   "nbconvert_exporter": "python",
   "pygments_lexer": "ipython2",
   "version": "2.7.6"
  }
 },
 "nbformat": 4,
 "nbformat_minor": 0
}
