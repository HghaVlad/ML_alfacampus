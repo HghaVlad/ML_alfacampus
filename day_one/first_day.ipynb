{
 "cells": [
  {
   "cell_type": "markdown",
   "source": [
    "## Our features\n",
    "\n",
    "#### Изменили функцию, которая дается по умолчанию. Добавили обработку следующих полей:\n",
    "- operation_type_group\n",
    "- income_flag\n",
    "- days_before\n",
    "\n",
    "Первые две категория представляют собой группы из 3-4 уникальных видов. Создаем по 2-4 столбца.\n",
    "В `days_before` мы брали минимальное, среднее и максимальное значение\n"
   ],
   "metadata": {
    "collapsed": false
   }
  },
  {
   "cell_type": "code",
   "execution_count": null,
   "outputs": [],
   "source": [
    "import pandas as pd\n",
    "\n",
    "\n",
    "def num_unique_values(x):\n",
    "    return len(set(x))\n",
    "\n",
    "def num_values1(x):\n",
    "    if 1 in x.value_counts():\n",
    "        return x.value_counts()[1]\n",
    "    return 0\n",
    "def num_values2(x):\n",
    "    if 2 in x.value_counts():\n",
    "        return x.value_counts()[2]\n",
    "    return 0\n",
    "def num_values3(x):\n",
    "    if 3 in x.value_counts():\n",
    "        return x.value_counts()[3]\n",
    "    return 0\n",
    "def num_values4(x):\n",
    "    if 4 in x.value_counts():\n",
    "        return x.value_counts()[4]\n",
    "    return 0\n",
    "\n",
    "agg_features = {\n",
    "        \"transaction_number\": \"max\",\n",
    "        \"amnt\": [\"min\", \"max\", \"mean\", \"median\"],\n",
    "        \"currency\": num_unique_values,\n",
    "        'operation_type_group': [num_values1, num_values2, num_values3, num_values4],\n",
    "        'income_flag' : [num_values1, num_values2],\n",
    "        'days_before': ['min', 'mean', 'max']\n",
    "\n",
    "}"
   ],
   "metadata": {
    "collapsed": false
   }
  },
  {
   "cell_type": "code",
   "execution_count": null,
   "outputs": [],
   "source": [
    "def get_new_features(dataset, target):\n",
    "    features = dataset.groupby(\"app_id\", as_index=False).agg(agg_features)\n",
    "    features.columns = ['_'.join(col).strip('_') for col in features.columns.values]\n",
    "    features = features.join(target.set_index(\"app_id\"), \"app_id\")\n",
    "    return features.drop(columns=[\"app_id\", \"flag\"]), features[[\"app_id\", \"flag\"]]"
   ],
   "metadata": {
    "collapsed": false
   }
  },
  {
   "cell_type": "markdown",
   "source": [
    "#### Для того, чтобы получить features на тестовой выборке(contest) используем функцию `get_new_features_without_flag`"
   ],
   "metadata": {
    "collapsed": false
   }
  },
  {
   "cell_type": "code",
   "execution_count": null,
   "outputs": [],
   "source": [
    "def get_new_features_without_flag(dataset, target):\n",
    "    features = dataset.groupby(\"app_id\", as_index=False).agg(agg_features)\n",
    "    features.columns = ['_'.join(col).strip('_') for col in features.columns.values]\n",
    "    features = features.join(target.set_index(\"app_id\"), \"app_id\")\n",
    "    return features.drop(columns=[\"app_id\"]), features[[\"app_id\"]]"
   ],
   "metadata": {
    "collapsed": false
   }
  },
  {
   "cell_type": "markdown",
   "source": [
    "#### Сохранение features\n",
    "Так как процесс создания занимает относительное долгое время(5-7 минут), мы сохранили текущие датасеты в csv файлы\n",
    "В будущем планируется также это проделывать"
   ],
   "metadata": {
    "collapsed": false
   }
  },
  {
   "cell_type": "code",
   "execution_count": null,
   "outputs": [],
   "source": [
    "X_train, y_train = get_features(dataset_train, target_train)\n",
    "\n",
    "X_train.to_csv(\"/Users/vladbax6/Codding/code_works/Python/Works/Alpha_ml/Credit score classification/ourfeatures/x_train.csv\")\n",
    "y_train.to_csv(\"/Users/vladbax6/Codding/code_works/Python/Works/Alpha_ml/Credit score classification/ourfeatures/y_train.csv\")"
   ],
   "metadata": {
    "collapsed": false
   }
  },
  {
   "cell_type": "markdown",
   "source": [
    "#### Открытие датасеты с features"
   ],
   "metadata": {
    "collapsed": false
   }
  },
  {
   "cell_type": "code",
   "execution_count": null,
   "outputs": [],
   "source": [
    "X_train = pd.read_csv(\"/Users/vladbax6/Codding/code_works/Python/Works/Alpha_ml/Credit score classification/ourfeatures/x_train.csv\")\n",
    "y_train = pd.read_csv(\"/Users/vladbax6/Codding/code_works/Python/Works/Alpha_ml/Credit score classification/ourfeatures/y_train.csv\")"
   ],
   "metadata": {
    "collapsed": false
   }
  },
  {
   "cell_type": "markdown",
   "source": [
    "## Our models\n",
    "\n",
    "Для получения текущего результатат используются две разные модели\n",
    "\n",
    "RandomForestClassifier() by sklearn\n",
    "CatBoostRegressor() by catboost\n",
    "\n",
    "Первая получает настроенные аргументы в ручную. Вторая использует `grid_search` для получения лучших аргументов.\n",
    "Обе модели использую для обучения тестовую выборку, полученную функцией `train_test_split` by sklearn\n",
    "<br><br>\n",
    "#### RandomForestClassifier()"
   ],
   "metadata": {
    "collapsed": false
   }
  },
  {
   "cell_type": "code",
   "execution_count": null,
   "outputs": [],
   "source": [
    "model = RandomForestClassifier(n_estimators=200,\n",
    "                               bootstrap = True,\n",
    "                               max_features = 'sqrt' ,max_depth=10,min_samples_split=5, random_state=1,criterion=\"log_loss\" )\n",
    "model.fit(X_train, y_train[\"flag\"])\n",
    "\n",
    "y_test_pred = model.predict_proba(X_test)[:, 1]\n",
    "y_test[\"flag\"] = y_test_pred\n",
    "y_test.to_csv(\"result.csv\", index=False)"
   ],
   "metadata": {
    "collapsed": false
   }
  },
  {
   "cell_type": "markdown",
   "source": [
    "#### CatBoostRegression"
   ],
   "metadata": {
    "collapsed": false
   }
  },
  {
   "cell_type": "code",
   "execution_count": null,
   "outputs": [],
   "source": [
    "model2 = CatBoostRegressor(loss_function=\"RMSE\")\n",
    "grid = {'iterations': [190, 180],\n",
    "        'learning_rate': [0.03, 0.1],\n",
    "        'depth': [4, 5, 6,],\n",
    "        'l2_leaf_reg': [0.2, 1, 3]}\n",
    "train_dataset = Pool(X_train, y_train['flag'])\n",
    "model2.grid_search(grid, train_dataset)\n",
    "\n",
    "pred = model.predict(X_test)\n",
    "y_test['flag'] = pred\n",
    "y_test.to_csv(\"other_result.csv\", index=False)"
   ],
   "metadata": {
    "collapsed": false
   }
  },
  {
   "cell_type": "markdown",
   "source": [
    "##### X_test и y_test получаются с использованием функции `get_new_features_without_flag`\n",
    "<br>\n",
    "\n",
    "#### Задачи:\n",
    "- Поискать новые features\n",
    "- Использовать GridSearch с RandomForestClassifier()\n",
    "- Попробовать использовать иную модель\n",
    "- Для получения итогового результата использовать предсказания обоих моделей, а после выбирать среднее или лучшее среди результатов обоих"
   ],
   "metadata": {
    "collapsed": false
   }
  }
 ],
 "metadata": {
  "kernelspec": {
   "display_name": "Python 3",
   "language": "python",
   "name": "python3"
  },
  "language_info": {
   "codemirror_mode": {
    "name": "ipython",
    "version": 2
   },
   "file_extension": ".py",
   "mimetype": "text/x-python",
   "name": "python",
   "nbconvert_exporter": "python",
   "pygments_lexer": "ipython2",
   "version": "2.7.6"
  }
 },
 "nbformat": 4,
 "nbformat_minor": 0
}
